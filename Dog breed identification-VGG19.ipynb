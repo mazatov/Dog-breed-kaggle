{
 "cells": [
  {
   "cell_type": "code",
   "execution_count": 11,
   "metadata": {},
   "outputs": [],
   "source": [
    "%matplotlib inline\n",
    "import numpy as np\n",
    "import pandas as pd\n",
    "import datetime as dt\n",
    "import matplotlib.pyplot as plt\n",
    "import matplotlib as mpl\n",
    "from mpl_toolkits.axes_grid1 import ImageGrid\n",
    "from os import listdir, makedirs\n",
    "from os.path import join, exists, expanduser\n",
    "from tqdm import tqdm\n",
    "from sklearn.metrics import log_loss, accuracy_score\n",
    "from keras.preprocessing import image\n",
    "from keras.applications.vgg16 import VGG16\n",
    "from keras.applications.vgg19 import VGG19\n",
    "from keras.applications.resnet50 import ResNet50\n",
    "from keras.applications import xception\n",
    "from keras.applications import inception_v3\n",
    "from keras.applications.vgg16 import preprocess_input, decode_predictions\n",
    "from sklearn.linear_model import LogisticRegression\n",
    "from keras.layers.normalization import BatchNormalization\n",
    "from keras.models import Model\n",
    "from keras.layers import Flatten, Dense, Dropout,Input\n",
    "from keras.optimizers import Adam\n",
    "from keras.callbacks import TensorBoard, ModelCheckpoint, ReduceLROnPlateau, EarlyStopping"
   ]
  },
  {
   "cell_type": "code",
   "execution_count": null,
   "metadata": {
    "collapsed": true
   },
   "outputs": [],
   "source": []
  },
  {
   "cell_type": "code",
   "execution_count": 2,
   "metadata": {},
   "outputs": [
    {
     "name": "stdout",
     "output_type": "stream",
     "text": [
      "10222 10222\n",
      "10357 10357\n"
     ]
    }
   ],
   "source": [
    "SEED = 1987\n",
    "data_dir = ''\n",
    "labels = pd.read_csv(join(data_dir, 'labels.csv'))\n",
    "sample_submission = pd.read_csv(join(data_dir, 'sample_submission.csv'))\n",
    "print(len(listdir(join(data_dir, 'train'))), len(labels))\n",
    "print(len(listdir(join(data_dir, 'test'))), len(sample_submission))"
   ]
  },
  {
   "cell_type": "code",
   "execution_count": 3,
   "metadata": {
    "collapsed": true
   },
   "outputs": [],
   "source": [
    "# This part is optional for if you want to train only on most popular classes. \n",
    "# NUM_CLASSES = 16\n",
    "# selected_breed_list = list(labels.groupby('breed').count().sort_values(by='id', ascending=False).head(NUM_CLASSES).index)\n",
    "# labels = labels[labels['breed'].isin(selected_breed_list)]"
   ]
  },
  {
   "cell_type": "code",
   "execution_count": 4,
   "metadata": {
    "collapsed": true
   },
   "outputs": [],
   "source": [
    "labels['target'] = 1\n",
    "labels_pivot = labels.pivot('id', 'breed', 'target').reset_index().fillna(0)\n",
    "np.random.seed(seed=SEED)\n",
    "rnd = np.random.random(len(labels))\n",
    "train_idx = rnd < 0.8\n",
    "valid_idx = rnd >= 0.8\n",
    "y_train = labels_pivot.values\n",
    "ytr = y_train[train_idx]\n",
    "yv = y_train[valid_idx]"
   ]
  },
  {
   "cell_type": "code",
   "execution_count": 5,
   "metadata": {
    "collapsed": true
   },
   "outputs": [],
   "source": [
    "def read_img(img_id, train_or_test, size):\n",
    "    \"\"\"Read and resize image.\n",
    "    # Arguments\n",
    "        img_id: string\n",
    "        train_or_test: string 'train' or 'test'.\n",
    "        size: resize the original image.\n",
    "    # Returns\n",
    "        Image as numpy array.\n",
    "    \"\"\"\n",
    "    img = image.load_img(join(data_dir, train_or_test, '%s.jpg' % img_id), target_size=size)\n",
    "    img = image.img_to_array(img)\n",
    "    return img"
   ]
  },
  {
   "cell_type": "code",
   "execution_count": 6,
   "metadata": {},
   "outputs": [
    {
     "name": "stderr",
     "output_type": "stream",
     "text": [
      "10222it [00:37, 272.29it/s]\n"
     ]
    },
    {
     "name": "stdout",
     "output_type": "stream",
     "text": [
      "Train Images shape: (10222, 224, 224, 3) size: 1,538,697,216\n"
     ]
    }
   ],
   "source": [
    "INPUT_SIZE = 224\n",
    "x_train = np.zeros((len(labels), INPUT_SIZE, INPUT_SIZE, 3), dtype='float32')\n",
    "for i, img_id in tqdm(enumerate(labels['id'])):\n",
    "    img = read_img(img_id, 'train', (INPUT_SIZE, INPUT_SIZE))\n",
    "    x = preprocess_input(np.expand_dims(img.copy(), axis=0))\n",
    "    x_train[i] = x\n",
    "print('Train Images shape: {} size: {:,}'.format(x_train.shape, x_train.size))"
   ]
  },
  {
   "cell_type": "code",
   "execution_count": 7,
   "metadata": {},
   "outputs": [
    {
     "name": "stdout",
     "output_type": "stream",
     "text": [
      "((8140, 224, 224, 3), (2082, 224, 224, 3), (8140, 121), (2082, 121))\n"
     ]
    }
   ],
   "source": [
    "Xtr = x_train[train_idx]\n",
    "Xv = x_train[valid_idx]\n",
    "print((Xtr.shape, Xv.shape, ytr.shape, yv.shape))"
   ]
  },
  {
   "cell_type": "code",
   "execution_count": 8,
   "metadata": {
    "collapsed": true
   },
   "outputs": [],
   "source": [
    "del x_train"
   ]
  },
  {
   "cell_type": "code",
   "execution_count": 38,
   "metadata": {
    "collapsed": true
   },
   "outputs": [],
   "source": [
    "POOLING='none'\n",
    "model_vgg = VGG19(weights='imagenet',include_top=True, input_shape = (INPUT_SIZE,INPUT_SIZE,3),pooling=POOLING)\n",
    "intermediate_layer_model = Model(inputs=model_vgg.input,\n",
    "                                 outputs=model_vgg.get_layer('fc1').output)"
   ]
  },
  {
   "cell_type": "code",
   "execution_count": 39,
   "metadata": {
    "scrolled": true
   },
   "outputs": [
    {
     "name": "stdout",
     "output_type": "stream",
     "text": [
      "8140/8140 [==============================] - ETA: 1: - ETA: 1: - ETA: 1: - ETA: 1: - ETA: 1: - ETA: 1: - ETA: 1: - ETA: 1: - ETA: 1: - ETA: 1: - ETA: 1: - ETA: 1: - ETA: 1: - ETA: 1: - ETA: 1: - ETA: 1: - ETA: 1: - ETA: 1: - ETA: 1: - ETA: 1: - ETA: 59s - ETA: 59 - ETA: 59 - ETA: 58 - ETA: 58 - ETA: 58 - ETA: 57 - ETA: 57 - ETA: 57 - ETA: 57 - ETA: 56 - ETA: 56 - ETA: 56 - ETA: 55 - ETA: 55 - ETA: 55 - ETA: 54 - ETA: 54 - ETA: 54 - ETA: 54 - ETA: 53 - ETA: 53 - ETA: 53 - ETA: 53 - ETA: 52 - ETA: 52 - ETA: 52 - ETA: 51 - ETA: 51 - ETA: 51 - ETA: 51 - ETA: 50 - ETA: 50 - ETA: 50 - ETA: 50 - ETA: 49 - ETA: 49 - ETA: 49 - ETA: 49 - ETA: 48 - ETA: 48 - ETA: 48 - ETA: 48 - ETA: 47 - ETA: 47 - ETA: 47 - ETA: 47 - ETA: 46 - ETA: 46 - ETA: 46 - ETA: 46 - ETA: 45 - ETA: 45 - ETA: 45 - ETA: 45 - ETA: 44 - ETA: 44 - ETA: 44 - ETA: 44 - ETA: 43 - ETA: 43 - ETA: 43 - ETA: 43 - ETA: 42 - ETA: 42 - ETA: 42 - ETA: 42 - ETA: 41 - ETA: 41 - ETA: 41 - ETA: 41 - ETA: 40 - ETA: 40 - ETA: 40 - ETA: 40 - ETA: 39 - ETA: 39 - ETA: 39 - ETA: 39 - ETA: 38 - ETA: 38 - ETA: 38 - ETA: 38 - ETA: 37 - ETA: 37 - ETA: 37 - ETA: 37 - ETA: 36 - ETA: 36 - ETA: 36 - ETA: 36 - ETA: 35 - ETA: 35 - ETA: 35 - ETA: 35 - ETA: 34 - ETA: 34 - ETA: 34 - ETA: 34 - ETA: 33 - ETA: 33 - ETA: 33 - ETA: 33 - ETA: 32 - ETA: 32 - ETA: 32 - ETA: 32 - ETA: 31 - ETA: 31 - ETA: 31 - ETA: 31 - ETA: 30 - ETA: 30 - ETA: 30 - ETA: 30 - ETA: 29 - ETA: 29 - ETA: 29 - ETA: 29 - ETA: 28 - ETA: 28 - ETA: 28 - ETA: 28 - ETA: 27 - ETA: 27 - ETA: 27 - ETA: 27 - ETA: 26 - ETA: 26 - ETA: 26 - ETA: 26 - ETA: 25 - ETA: 25 - ETA: 25 - ETA: 25 - ETA: 24 - ETA: 24 - ETA: 24 - ETA: 24 - ETA: 23 - ETA: 23 - ETA: 23 - ETA: 23 - ETA: 22 - ETA: 22 - ETA: 22 - ETA: 22 - ETA: 21 - ETA: 21 - ETA: 21 - ETA: 21 - ETA: 20 - ETA: 20 - ETA: 20 - ETA: 20 - ETA: 19 - ETA: 19 - ETA: 19 - ETA: 19 - ETA: 18 - ETA: 18 - ETA: 18 - ETA: 18 - ETA: 17 - ETA: 17 - ETA: 17 - ETA: 17 - ETA: 16 - ETA: 16 - ETA: 16 - ETA: 16 - ETA: 15 - ETA: 15 - ETA: 15 - ETA: 15 - ETA: 14 - ETA: 14 - ETA: 14 - ETA: 14 - ETA: 13 - ETA: 13 - ETA: 13 - ETA: 13 - ETA: 12 - ETA: 12 - ETA: 12 - ETA: 12 - ETA: 11 - ETA: 11 - ETA: 11 - ETA: 10 - ETA: 10 - ETA: 10 - ETA: 10 - ETA: 9 - ETA:  - ETA:  - ETA:  - ETA:  - ETA:  - ETA:  - ETA:  - ETA:  - ETA:  - ETA:  - ETA:  - ETA:  - ETA:  - ETA:  - ETA:  - ETA:  - ETA:  - ETA:  - ETA:  - ETA:  - ETA:  - ETA:  - ETA:  - ETA:  - ETA:  - ETA:  - ETA:  - ETA:  - ETA:  - ETA:  - ETA:  - ETA:  - ETA:  - ETA:  - ETA:  - ETA:  - ETA:  - ETA:  - ETA:  - 65s 8ms/step\n"
     ]
    }
   ],
   "source": [
    "train_vgg_bf = intermediate_layer_model.predict(Xtr, batch_size=32, verbose=1)"
   ]
  },
  {
   "cell_type": "code",
   "execution_count": 40,
   "metadata": {},
   "outputs": [
    {
     "name": "stdout",
     "output_type": "stream",
     "text": [
      "(8140, 4096) (2082, 4096)\n"
     ]
    }
   ],
   "source": [
    "valid_vgg_bf = intermediate_layer_model.predict(Xv, batch_size=32, verbose=2)\n",
    "print(train_vgg_bf.shape,valid_vgg_bf.shape)"
   ]
  },
  {
   "cell_type": "code",
   "execution_count": 58,
   "metadata": {},
   "outputs": [],
   "source": [
    "inputs = Input(shape=(4096,))\n",
    "#x = Flatten()(inputs)\n",
    "#x = fc1_layer(x)\n",
    "x = BatchNormalization()(inputs)\n",
    "x = Dropout(0.8)(x)\n",
    "x = Dense(512, activation='relu')(x)\n",
    "x = BatchNormalization()(x)\n",
    "x = Dropout(0.8)(x)\n",
    "predictions = Dense(ytr.shape[1]-1, activation='softmax',name='Last_softmax')(x) \n",
    "model = Model(inputs, outputs=predictions)"
   ]
  },
  {
   "cell_type": "code",
   "execution_count": 59,
   "metadata": {
    "scrolled": true
   },
   "outputs": [
    {
     "name": "stdout",
     "output_type": "stream",
     "text": [
      "_________________________________________________________________\n",
      "Layer (type)                 Output Shape              Param #   \n",
      "=================================================================\n",
      "input_14 (InputLayer)        (None, 4096)              0         \n",
      "_________________________________________________________________\n",
      "batch_normalization_18 (Batc (None, 4096)              16384     \n",
      "_________________________________________________________________\n",
      "dropout_17 (Dropout)         (None, 4096)              0         \n",
      "_________________________________________________________________\n",
      "dense_9 (Dense)              (None, 1024)              4195328   \n",
      "_________________________________________________________________\n",
      "batch_normalization_19 (Batc (None, 1024)              4096      \n",
      "_________________________________________________________________\n",
      "dropout_18 (Dropout)         (None, 1024)              0         \n",
      "_________________________________________________________________\n",
      "Last_softmax (Dense)         (None, 120)               123000    \n",
      "=================================================================\n",
      "Total params: 4,338,808\n",
      "Trainable params: 4,328,568\n",
      "Non-trainable params: 10,240\n",
      "_________________________________________________________________\n"
     ]
    }
   ],
   "source": [
    "model.summary()"
   ]
  },
  {
   "cell_type": "code",
   "execution_count": 60,
   "metadata": {
    "collapsed": true
   },
   "outputs": [],
   "source": [
    "#model.get_layer('fc1').trainable = False "
   ]
  },
  {
   "cell_type": "code",
   "execution_count": 29,
   "metadata": {},
   "outputs": [
    {
     "data": {
      "text/plain": [
       "False"
      ]
     },
     "execution_count": 29,
     "metadata": {},
     "output_type": "execute_result"
    }
   ],
   "source": [
    "#model.get_layer('fc1').trainable"
   ]
  },
  {
   "cell_type": "code",
   "execution_count": 61,
   "metadata": {
    "collapsed": true
   },
   "outputs": [],
   "source": [
    "model.compile(optimizer=Adam(lr=1e-3), loss='categorical_crossentropy',metrics = [\"accuracy\"])"
   ]
  },
  {
   "cell_type": "code",
   "execution_count": 62,
   "metadata": {
    "scrolled": true
   },
   "outputs": [
    {
     "name": "stdout",
     "output_type": "stream",
     "text": [
      "Train on 8140 samples, validate on 2082 samples\n",
      "Epoch 1/100\n",
      "8140/8140 [==============================] - 2s 207us/step - loss: 8.3435 - acc: 0.0076 - val_loss: 4.4631 - val_acc: 0.0548\n",
      "Epoch 2/100\n",
      "8140/8140 [==============================] - 0s 52us/step - loss: 7.6641 - acc: 0.0146 - val_loss: 3.7702 - val_acc: 0.2003\n",
      "Epoch 3/100\n",
      "8140/8140 [==============================] - 0s 55us/step - loss: 6.8834 - acc: 0.0275 - val_loss: 3.1532 - val_acc: 0.3501\n",
      "Epoch 4/100\n",
      "8140/8140 [==============================] - 0s 57us/step - loss: 6.1446 - acc: 0.0505 - val_loss: 2.6657 - val_acc: 0.4481\n",
      "Epoch 5/100\n",
      "8140/8140 [==============================] - 0s 54us/step - loss: 5.5122 - acc: 0.0864 - val_loss: 2.3021 - val_acc: 0.5005\n",
      "Epoch 6/100\n",
      "8140/8140 [==============================] - 0s 55us/step - loss: 4.8956 - acc: 0.1351 - val_loss: 2.0347 - val_acc: 0.5327\n",
      "Epoch 7/100\n",
      "8140/8140 [==============================] - 0s 55us/step - loss: 4.3761 - acc: 0.1754 - val_loss: 1.8366 - val_acc: 0.5629\n",
      "Epoch 8/100\n",
      "8140/8140 [==============================] - 0s 54us/step - loss: 4.0089 - acc: 0.2192 - val_loss: 1.6849 - val_acc: 0.5889\n",
      "Epoch 9/100\n",
      "8140/8140 [==============================] - 0s 56us/step - loss: 3.6645 - acc: 0.2593 - val_loss: 1.5648 - val_acc: 0.6057\n",
      "Epoch 10/100\n",
      "8140/8140 [==============================] - 0s 58us/step - loss: 3.3140 - acc: 0.3033 - val_loss: 1.4685 - val_acc: 0.6273\n",
      "Epoch 11/100\n",
      "8140/8140 [==============================] - 0s 57us/step - loss: 3.1428 - acc: 0.3274 - val_loss: 1.3892 - val_acc: 0.6436\n",
      "Epoch 12/100\n",
      "8140/8140 [==============================] - 0s 58us/step - loss: 2.8950 - acc: 0.3591 - val_loss: 1.3229 - val_acc: 0.6571\n",
      "Epoch 13/100\n",
      "8140/8140 [==============================] - 0s 52us/step - loss: 2.7563 - acc: 0.3824 - val_loss: 1.2669 - val_acc: 0.6657\n",
      "Epoch 14/100\n",
      "8140/8140 [==============================] - 0s 54us/step - loss: 2.6246 - acc: 0.4011 - val_loss: 1.2193 - val_acc: 0.6744\n",
      "Epoch 15/100\n",
      "8140/8140 [==============================] - 0s 57us/step - loss: 2.4576 - acc: 0.4353 - val_loss: 1.1784 - val_acc: 0.6859\n",
      "Epoch 16/100\n",
      "8140/8140 [==============================] - 0s 55us/step - loss: 2.3387 - acc: 0.4515 - val_loss: 1.1434 - val_acc: 0.6916\n",
      "Epoch 17/100\n",
      "8140/8140 [==============================] - 0s 54us/step - loss: 2.2820 - acc: 0.4571 - val_loss: 1.1133 - val_acc: 0.6950\n",
      "Epoch 18/100\n",
      "8140/8140 [==============================] - 0s 54us/step - loss: 2.1586 - acc: 0.4749 - val_loss: 1.0876 - val_acc: 0.6974\n",
      "Epoch 19/100\n",
      "8140/8140 [==============================] - 0s 57us/step - loss: 2.1029 - acc: 0.4909 - val_loss: 1.0657 - val_acc: 0.6998\n",
      "Epoch 20/100\n",
      "8140/8140 [==============================] - 0s 54us/step - loss: 2.0113 - acc: 0.5044 - val_loss: 1.0472 - val_acc: 0.7032\n",
      "Epoch 21/100\n",
      "8140/8140 [==============================] - 0s 54us/step - loss: 1.9249 - acc: 0.5198 - val_loss: 1.0318 - val_acc: 0.7075\n",
      "Epoch 22/100\n",
      "8140/8140 [==============================] - 0s 54us/step - loss: 1.8995 - acc: 0.5215 - val_loss: 1.0190 - val_acc: 0.7094\n",
      "Epoch 23/100\n",
      "8140/8140 [==============================] - 0s 54us/step - loss: 1.8286 - acc: 0.5402 - val_loss: 1.0085 - val_acc: 0.7094\n",
      "Epoch 24/100\n",
      "8140/8140 [==============================] - 0s 57us/step - loss: 1.7735 - acc: 0.5456 - val_loss: 0.9995 - val_acc: 0.7109\n",
      "Epoch 25/100\n",
      "8140/8140 [==============================] - 0s 56us/step - loss: 1.7502 - acc: 0.5553 - val_loss: 0.9912 - val_acc: 0.7152\n",
      "Epoch 26/100\n",
      "8140/8140 [==============================] - 0s 54us/step - loss: 1.6682 - acc: 0.5649 - val_loss: 0.9840 - val_acc: 0.7161\n",
      "Epoch 27/100\n",
      "8140/8140 [==============================] - 0s 54us/step - loss: 1.6671 - acc: 0.5699 - val_loss: 0.9778 - val_acc: 0.7185\n",
      "Epoch 28/100\n",
      "8140/8140 [==============================] - 0s 54us/step - loss: 1.5740 - acc: 0.5848 - val_loss: 0.9719 - val_acc: 0.7205\n",
      "Epoch 29/100\n",
      "8140/8140 [==============================] - 0s 54us/step - loss: 1.5674 - acc: 0.5892 - val_loss: 0.9668 - val_acc: 0.7200\n",
      "Epoch 30/100\n",
      "8140/8140 [==============================] - 0s 53us/step - loss: 1.5481 - acc: 0.5907 - val_loss: 0.9621 - val_acc: 0.7229\n",
      "Epoch 31/100\n",
      "8140/8140 [==============================] - 0s 53us/step - loss: 1.5065 - acc: 0.5982 - val_loss: 0.9579 - val_acc: 0.7277\n",
      "Epoch 32/100\n",
      "8140/8140 [==============================] - 0s 54us/step - loss: 1.4766 - acc: 0.6029 - val_loss: 0.9540 - val_acc: 0.7291\n",
      "Epoch 33/100\n",
      "8140/8140 [==============================] - 0s 52us/step - loss: 1.4794 - acc: 0.6117 - val_loss: 0.9502 - val_acc: 0.7315\n",
      "Epoch 34/100\n",
      "8140/8140 [==============================] - 0s 55us/step - loss: 1.4638 - acc: 0.6085 - val_loss: 0.9467 - val_acc: 0.7325\n",
      "Epoch 35/100\n",
      "8140/8140 [==============================] - 0s 56us/step - loss: 1.4454 - acc: 0.6129 - val_loss: 0.9434 - val_acc: 0.7315\n",
      "Epoch 36/100\n",
      "8140/8140 [==============================] - 0s 56us/step - loss: 1.3959 - acc: 0.6235 - val_loss: 0.9403 - val_acc: 0.7281\n",
      "Epoch 37/100\n",
      "8140/8140 [==============================] - 0s 55us/step - loss: 1.3741 - acc: 0.6265 - val_loss: 0.9371 - val_acc: 0.7277\n",
      "Epoch 38/100\n",
      "8140/8140 [==============================] - 0s 55us/step - loss: 1.3340 - acc: 0.6367 - val_loss: 0.9338 - val_acc: 0.7272\n",
      "Epoch 39/100\n",
      "8140/8140 [==============================] - 0s 60us/step - loss: 1.3621 - acc: 0.6275 - val_loss: 0.9306 - val_acc: 0.7291\n",
      "Epoch 40/100\n",
      "8140/8140 [==============================] - 0s 55us/step - loss: 1.3330 - acc: 0.6321 - val_loss: 0.9275 - val_acc: 0.7310\n",
      "Epoch 41/100\n",
      "8140/8140 [==============================] - 0s 56us/step - loss: 1.3023 - acc: 0.6445 - val_loss: 0.9248 - val_acc: 0.7339\n",
      "Epoch 42/100\n",
      "8140/8140 [==============================] - 0s 58us/step - loss: 1.2711 - acc: 0.6517 - val_loss: 0.9222 - val_acc: 0.7339\n",
      "Epoch 43/100\n",
      "8140/8140 [==============================] - 0s 58us/step - loss: 1.2436 - acc: 0.6529 - val_loss: 0.9193 - val_acc: 0.7349\n",
      "Epoch 44/100\n",
      "8140/8140 [==============================] - 0s 56us/step - loss: 1.2689 - acc: 0.6458 - val_loss: 0.9165 - val_acc: 0.7363\n",
      "Epoch 45/100\n",
      "8140/8140 [==============================] - 0s 56us/step - loss: 1.2367 - acc: 0.6516 - val_loss: 0.9138 - val_acc: 0.7373\n",
      "Epoch 46/100\n",
      "8140/8140 [==============================] - 0s 57us/step - loss: 1.1999 - acc: 0.6633 - val_loss: 0.9114 - val_acc: 0.7373\n",
      "Epoch 47/100\n",
      "8140/8140 [==============================] - 0s 51us/step - loss: 1.2099 - acc: 0.6614 - val_loss: 0.9091 - val_acc: 0.7382\n",
      "Epoch 48/100\n",
      "8140/8140 [==============================] - 0s 52us/step - loss: 1.1679 - acc: 0.6666 - val_loss: 0.9073 - val_acc: 0.7382\n",
      "Epoch 49/100\n",
      "8140/8140 [==============================] - 0s 52us/step - loss: 1.1578 - acc: 0.6727 - val_loss: 0.9059 - val_acc: 0.7378\n",
      "Epoch 50/100\n",
      "8140/8140 [==============================] - 0s 54us/step - loss: 1.1494 - acc: 0.6722 - val_loss: 0.9047 - val_acc: 0.7382\n",
      "Epoch 51/100\n",
      "8140/8140 [==============================] - 0s 55us/step - loss: 1.1971 - acc: 0.6643 - val_loss: 0.9038 - val_acc: 0.7397\n",
      "Epoch 52/100\n",
      "8140/8140 [==============================] - 0s 56us/step - loss: 1.1615 - acc: 0.6658 - val_loss: 0.9030 - val_acc: 0.7392\n",
      "Epoch 53/100\n",
      "8140/8140 [==============================] - 0s 55us/step - loss: 1.1305 - acc: 0.6861 - val_loss: 0.9023 - val_acc: 0.7382\n",
      "Epoch 54/100\n",
      "8140/8140 [==============================] - 0s 58us/step - loss: 1.1128 - acc: 0.6792 - val_loss: 0.9018 - val_acc: 0.7378\n",
      "Epoch 55/100\n",
      "8140/8140 [==============================] - 0s 54us/step - loss: 1.1035 - acc: 0.6870 - val_loss: 0.9011 - val_acc: 0.7382\n",
      "Epoch 56/100\n",
      "8140/8140 [==============================] - 0s 56us/step - loss: 1.0897 - acc: 0.6899 - val_loss: 0.9001 - val_acc: 0.7378\n",
      "Epoch 57/100\n",
      "8140/8140 [==============================] - 0s 55us/step - loss: 1.0879 - acc: 0.6854 - val_loss: 0.8989 - val_acc: 0.7373\n",
      "Epoch 58/100\n",
      "8140/8140 [==============================] - 0s 57us/step - loss: 1.0858 - acc: 0.6894 - val_loss: 0.8974 - val_acc: 0.7358\n",
      "Epoch 59/100\n",
      "8140/8140 [==============================] - 0s 57us/step - loss: 1.0572 - acc: 0.6946 - val_loss: 0.8957 - val_acc: 0.7349\n",
      "Epoch 60/100\n",
      "8140/8140 [==============================] - 0s 55us/step - loss: 1.0287 - acc: 0.6985 - val_loss: 0.8939 - val_acc: 0.7358\n"
     ]
    },
    {
     "name": "stdout",
     "output_type": "stream",
     "text": [
      "Epoch 61/100\n",
      "8140/8140 [==============================] - 0s 56us/step - loss: 1.0453 - acc: 0.6985 - val_loss: 0.8917 - val_acc: 0.7368\n",
      "Epoch 62/100\n",
      "8140/8140 [==============================] - 0s 56us/step - loss: 1.0329 - acc: 0.7007 - val_loss: 0.8895 - val_acc: 0.7373\n",
      "Epoch 63/100\n",
      "8140/8140 [==============================] - 0s 54us/step - loss: 1.0334 - acc: 0.6975 - val_loss: 0.8873 - val_acc: 0.7378\n",
      "Epoch 64/100\n",
      "8140/8140 [==============================] - 0s 58us/step - loss: 1.0018 - acc: 0.7085 - val_loss: 0.8850 - val_acc: 0.7392\n",
      "Epoch 65/100\n",
      "8140/8140 [==============================] - 0s 56us/step - loss: 0.9667 - acc: 0.7145 - val_loss: 0.8826 - val_acc: 0.7406\n",
      "Epoch 66/100\n",
      "8140/8140 [==============================] - 0s 55us/step - loss: 0.9740 - acc: 0.7071 - val_loss: 0.8805 - val_acc: 0.7397\n",
      "Epoch 67/100\n",
      "8140/8140 [==============================] - 0s 54us/step - loss: 0.9764 - acc: 0.7103 - val_loss: 0.8789 - val_acc: 0.7392\n",
      "Epoch 68/100\n",
      "8140/8140 [==============================] - 0s 55us/step - loss: 0.9641 - acc: 0.7060 - val_loss: 0.8774 - val_acc: 0.7397\n",
      "Epoch 69/100\n",
      "8140/8140 [==============================] - 0s 55us/step - loss: 0.9583 - acc: 0.7134 - val_loss: 0.8760 - val_acc: 0.7397\n",
      "Epoch 70/100\n",
      "8140/8140 [==============================] - 0s 53us/step - loss: 0.9346 - acc: 0.7232 - val_loss: 0.8747 - val_acc: 0.7411\n",
      "Epoch 71/100\n",
      "8140/8140 [==============================] - 0s 55us/step - loss: 0.9618 - acc: 0.7173 - val_loss: 0.8736 - val_acc: 0.7426\n",
      "Epoch 72/100\n",
      "8140/8140 [==============================] - 0s 53us/step - loss: 0.9423 - acc: 0.7189 - val_loss: 0.8724 - val_acc: 0.7406\n",
      "Epoch 73/100\n",
      "8140/8140 [==============================] - 0s 52us/step - loss: 0.9337 - acc: 0.7225 - val_loss: 0.8714 - val_acc: 0.7416\n",
      "Epoch 74/100\n",
      "8140/8140 [==============================] - 0s 56us/step - loss: 0.9205 - acc: 0.7270 - val_loss: 0.8705 - val_acc: 0.7421\n",
      "Epoch 75/100\n",
      "8140/8140 [==============================] - 0s 54us/step - loss: 0.9325 - acc: 0.7217 - val_loss: 0.8699 - val_acc: 0.7421\n",
      "Epoch 76/100\n",
      "8140/8140 [==============================] - 0s 53us/step - loss: 0.9011 - acc: 0.7310 - val_loss: 0.8693 - val_acc: 0.7435\n",
      "Epoch 77/100\n",
      "8140/8140 [==============================] - 0s 54us/step - loss: 0.9085 - acc: 0.7259 - val_loss: 0.8687 - val_acc: 0.7440\n",
      "Epoch 78/100\n",
      "8140/8140 [==============================] - 0s 56us/step - loss: 0.8989 - acc: 0.7344 - val_loss: 0.8683 - val_acc: 0.7445\n",
      "Epoch 79/100\n",
      "8140/8140 [==============================] - 0s 57us/step - loss: 0.8665 - acc: 0.7343 - val_loss: 0.8679 - val_acc: 0.7454\n",
      "Epoch 80/100\n",
      "8140/8140 [==============================] - 0s 53us/step - loss: 0.8763 - acc: 0.7306 - val_loss: 0.8676 - val_acc: 0.7440\n",
      "Epoch 81/100\n",
      "8140/8140 [==============================] - 0s 57us/step - loss: 0.8777 - acc: 0.7350 - val_loss: 0.8672 - val_acc: 0.7430\n",
      "Epoch 82/100\n",
      "8140/8140 [==============================] - 0s 56us/step - loss: 0.8763 - acc: 0.7349 - val_loss: 0.8670 - val_acc: 0.7435\n",
      "Epoch 83/100\n",
      "8140/8140 [==============================] - 0s 57us/step - loss: 0.8572 - acc: 0.7377 - val_loss: 0.8668 - val_acc: 0.7435\n",
      "Epoch 84/100\n",
      "8140/8140 [==============================] - 0s 56us/step - loss: 0.8535 - acc: 0.7396 - val_loss: 0.8667 - val_acc: 0.7426\n",
      "Epoch 85/100\n",
      "8140/8140 [==============================] - 0s 58us/step - loss: 0.8436 - acc: 0.7405 - val_loss: 0.8664 - val_acc: 0.7430\n",
      "Epoch 86/100\n",
      "8140/8140 [==============================] - 0s 54us/step - loss: 0.8475 - acc: 0.7482 - val_loss: 0.8660 - val_acc: 0.7430\n",
      "Epoch 87/100\n",
      "8140/8140 [==============================] - 0s 57us/step - loss: 0.8375 - acc: 0.7472 - val_loss: 0.8654 - val_acc: 0.7421\n",
      "Epoch 88/100\n",
      "8140/8140 [==============================] - 0s 56us/step - loss: 0.8358 - acc: 0.7439 - val_loss: 0.8648 - val_acc: 0.7406\n",
      "Epoch 89/100\n",
      "8140/8140 [==============================] - 0s 53us/step - loss: 0.8428 - acc: 0.7408 - val_loss: 0.8642 - val_acc: 0.7416\n",
      "Epoch 90/100\n",
      "8140/8140 [==============================] - 0s 54us/step - loss: 0.8232 - acc: 0.7475 - val_loss: 0.8636 - val_acc: 0.7397\n",
      "Epoch 91/100\n",
      "8140/8140 [==============================] - 0s 53us/step - loss: 0.8156 - acc: 0.7491 - val_loss: 0.8627 - val_acc: 0.7397\n",
      "Epoch 92/100\n",
      "8140/8140 [==============================] - 0s 55us/step - loss: 0.8245 - acc: 0.7502 - val_loss: 0.8618 - val_acc: 0.7392\n",
      "Epoch 93/100\n",
      "8140/8140 [==============================] - 0s 55us/step - loss: 0.8117 - acc: 0.7435 - val_loss: 0.8609 - val_acc: 0.7416\n",
      "Epoch 94/100\n",
      "8140/8140 [==============================] - 0s 58us/step - loss: 0.7902 - acc: 0.7516 - val_loss: 0.8603 - val_acc: 0.7426\n",
      "Epoch 95/100\n",
      "8140/8140 [==============================] - 0s 55us/step - loss: 0.7880 - acc: 0.7609 - val_loss: 0.8596 - val_acc: 0.7430\n",
      "Epoch 96/100\n",
      "8140/8140 [==============================] - 0s 56us/step - loss: 0.7957 - acc: 0.7545 - val_loss: 0.8591 - val_acc: 0.7421\n",
      "Epoch 97/100\n",
      "8140/8140 [==============================] - 0s 53us/step - loss: 0.7790 - acc: 0.7541 - val_loss: 0.8587 - val_acc: 0.7411\n",
      "Epoch 98/100\n",
      "8140/8140 [==============================] - 0s 56us/step - loss: 0.7713 - acc: 0.7628 - val_loss: 0.8580 - val_acc: 0.7426\n",
      "Epoch 99/100\n",
      "8140/8140 [==============================] - 0s 54us/step - loss: 0.7689 - acc: 0.7593 - val_loss: 0.8575 - val_acc: 0.7430\n",
      "Epoch 100/100\n",
      "8140/8140 [==============================] - 0s 58us/step - loss: 0.7904 - acc: 0.7538 - val_loss: 0.8568 - val_acc: 0.7445\n"
     ]
    }
   ],
   "source": [
    "reduce_lr = ReduceLROnPlateau(monitor='val_loss', factor=0.1, patience=3, verbose=2)\n",
    "history = model.fit(x = train_vgg_bf, y = ytr[:,1:], epochs = 100, batch_size = 8140,\n",
    "          validation_data = [valid_vgg_bf,yv[:,1:]],callbacks=[reduce_lr], verbose=1)"
   ]
  },
  {
   "cell_type": "code",
   "execution_count": 63,
   "metadata": {},
   "outputs": [
    {
     "data": {
      "image/png": "[encoded data removed]",
      "text/plain": [
       "<matplotlib.figure.Figure at 0x21131b67320>"
      ]
     },
     "metadata": {},
     "output_type": "display_data"
    },
    {
     "data": {
      "image/png": "[encoded data removed]",
      "text/plain": [
       "<matplotlib.figure.Figure at 0x21131b46588>"
      ]
     },
     "metadata": {},
     "output_type": "display_data"
    }
   ],
   "source": [
    "# summarize history for accuracy\n",
    "plt.plot(history.history['acc'])\n",
    "plt.plot(history.history['val_acc'])\n",
    "plt.title('model accuracy')\n",
    "plt.ylabel('accuracy')\n",
    "plt.xlabel('epoch')\n",
    "plt.legend(['train', 'test'], loc='upper left')\n",
    "plt.show()\n",
    "# summarize history for loss\n",
    "plt.plot(history.history['loss'])\n",
    "plt.plot(history.history['val_loss'])\n",
    "plt.title('model loss')\n",
    "plt.ylabel('loss')\n",
    "plt.xlabel('epoch')\n",
    "plt.legend(['train', 'test'], loc='upper left')\n",
    "plt.show()"
   ]
  },
  {
   "cell_type": "code",
   "execution_count": null,
   "metadata": {
    "collapsed": true
   },
   "outputs": [],
   "source": [
    "model.save_weights('trained_weights_vgg16_stage1.h5')"
   ]
  },
  {
   "cell_type": "code",
   "execution_count": null,
   "metadata": {
    "collapsed": true
   },
   "outputs": [],
   "source": [
    "#model.load_weights('trained_weights_resenet50_stage1.h5')"
   ]
  },
  {
   "cell_type": "code",
   "execution_count": null,
   "metadata": {
    "collapsed": true
   },
   "outputs": [],
   "source": [
    "for i, layer in enumerate(model.layers):\n",
    "   layer.trainable = True"
   ]
  },
  {
   "cell_type": "code",
   "execution_count": null,
   "metadata": {
    "collapsed": true,
    "scrolled": true
   },
   "outputs": [],
   "source": [
    "reduce_lr = ReduceLROnPlateau(monitor='val_loss', factor=0.2, patience=3, verbose=1)\n",
    "early_stopping = EarlyStopping(monitor='val_loss', min_delta=0, patience=10, verbose=1)\n",
    "model.compile(optimizer=Adam(lr=1e-4), loss='categorical_crossentropy',metrics = [\"accuracy\"])\n",
    "model.fit(x = Xtr, y = ytr[:,1:], epochs = 20, batch_size = 4,validation_data = [Xv,yv[:,1:]],callbacks=[reduce_lr, early_stopping])"
   ]
  },
  {
   "cell_type": "code",
   "execution_count": null,
   "metadata": {
    "collapsed": true
   },
   "outputs": [],
   "source": [
    "model.save_weights('trained_weights_vgg16.h5')"
   ]
  },
  {
   "cell_type": "markdown",
   "metadata": {
    "collapsed": true
   },
   "source": [
    "Creating submission file"
   ]
  },
  {
   "cell_type": "code",
   "execution_count": null,
   "metadata": {
    "collapsed": true
   },
   "outputs": [],
   "source": [
    "INPUT_SIZE = 224\n",
    "for i, img_id in tqdm(enumerate(sample_submission['id'])):\n",
    "    img = read_img(img_id, 'test', (INPUT_SIZE, INPUT_SIZE))\n",
    "    x = preprocess_input(np.expand_dims(img.copy(), axis=0))\n",
    "    y = model.predict(x)\n",
    "    sample_submission.iloc[i,1:121] = np.asarray(y[0,0:120])"
   ]
  },
  {
   "cell_type": "code",
   "execution_count": null,
   "metadata": {
    "collapsed": true
   },
   "outputs": [],
   "source": [
    "#sample_submission.iloc[1,1:121] = np.asarray(y[0,0:120])"
   ]
  },
  {
   "cell_type": "code",
   "execution_count": null,
   "metadata": {
    "collapsed": true
   },
   "outputs": [],
   "source": [
    "#sample_submission.head()"
   ]
  },
  {
   "cell_type": "code",
   "execution_count": null,
   "metadata": {
    "collapsed": true
   },
   "outputs": [],
   "source": [
    "sample_submission.to_csv('submission4.csv',index=False)"
   ]
  },
  {
   "cell_type": "code",
   "execution_count": null,
   "metadata": {
    "collapsed": true
   },
   "outputs": [],
   "source": []
  }
 ],
 "metadata": {
  "kernelspec": {
   "display_name": "Python 3",
   "language": "python",
   "name": "python3"
  },
  "language_info": {
   "codemirror_mode": {
    "name": "ipython",
    "version": 3
   },
   "file_extension": ".py",
   "mimetype": "text/x-python",
   "name": "python",
   "nbconvert_exporter": "python",
   "pygments_lexer": "ipython3",
   "version": "3.5.2"
  }
 },
 "nbformat": 4,
 "nbformat_minor": 2
}
