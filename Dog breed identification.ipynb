{
 "cells": [
  {
   "cell_type": "code",
   "execution_count": 1,
   "metadata": {},
   "outputs": [
    {
     "name": "stderr",
     "output_type": "stream",
     "text": [
      "c:\\users\\popeye\\appdata\\local\\programs\\python\\python35\\lib\\site-packages\\h5py\\__init__.py:36: FutureWarning: Conversion of the second argument of issubdtype from `float` to `np.floating` is deprecated. In future, it will be treated as `np.float64 == np.dtype(float).type`.\n",
      "  from ._conv import register_converters as _register_converters\n",
      "Using TensorFlow backend.\n"
     ]
    }
   ],
   "source": [
    "%matplotlib inline\n",
    "import numpy as np\n",
    "import pandas as pd\n",
    "import datetime as dt\n",
    "import matplotlib.pyplot as plt\n",
    "from mpl_toolkits.axes_grid1 import ImageGrid\n",
    "from os import listdir, makedirs\n",
    "from os.path import join, exists, expanduser\n",
    "from tqdm import tqdm\n",
    "from sklearn.metrics import log_loss, accuracy_score\n",
    "from keras.preprocessing import image\n",
    "from keras.applications.vgg16 import VGG16\n",
    "from keras.applications.resnet50 import ResNet50\n",
    "from keras.applications import xception\n",
    "from keras.applications import inception_v3\n",
    "from keras.applications.vgg16 import preprocess_input, decode_predictions\n",
    "from sklearn.linear_model import LogisticRegression\n",
    "from keras.models import Model\n",
    "from keras.layers import Flatten, Dense"
   ]
  },
  {
   "cell_type": "code",
   "execution_count": 2,
   "metadata": {},
   "outputs": [
    {
     "name": "stdout",
     "output_type": "stream",
     "text": [
      "10222 10222\n",
      "10357 10357\n"
     ]
    }
   ],
   "source": [
    "SEED = 1987\n",
    "data_dir = ''\n",
    "labels = pd.read_csv(join(data_dir, 'labels.csv'))\n",
    "sample_submission = pd.read_csv(join(data_dir, 'sample_submission.csv'))\n",
    "print(len(listdir(join(data_dir, 'train'))), len(labels))\n",
    "print(len(listdir(join(data_dir, 'test'))), len(sample_submission))"
   ]
  },
  {
   "cell_type": "code",
   "execution_count": 3,
   "metadata": {
    "collapsed": true
   },
   "outputs": [],
   "source": [
    "# This part is optional for if you want to train only on most popular classes. \n",
    "# NUM_CLASSES = 16\n",
    "# selected_breed_list = list(labels.groupby('breed').count().sort_values(by='id', ascending=False).head(NUM_CLASSES).index)\n",
    "# labels = labels[labels['breed'].isin(selected_breed_list)]"
   ]
  },
  {
   "cell_type": "code",
   "execution_count": 4,
   "metadata": {},
   "outputs": [],
   "source": [
    "labels['target'] = 1\n",
    "labels_pivot = labels.pivot('id', 'breed', 'target').reset_index().fillna(0)\n",
    "np.random.seed(seed=SEED)\n",
    "rnd = np.random.random(len(labels))\n",
    "train_idx = rnd < 0.8\n",
    "valid_idx = rnd >= 0.8\n",
    "y_train = labels_pivot.values\n",
    "ytr = y_train[train_idx]\n",
    "yv = y_train[valid_idx]"
   ]
  },
  {
   "cell_type": "code",
   "execution_count": 5,
   "metadata": {
    "collapsed": true
   },
   "outputs": [],
   "source": [
    "def read_img(img_id, train_or_test, size):\n",
    "    \"\"\"Read and resize image.\n",
    "    # Arguments\n",
    "        img_id: string\n",
    "        train_or_test: string 'train' or 'test'.\n",
    "        size: resize the original image.\n",
    "    # Returns\n",
    "        Image as numpy array.\n",
    "    \"\"\"\n",
    "    img = image.load_img(join(data_dir, train_or_test, '%s.jpg' % img_id), target_size=size)\n",
    "    img = image.img_to_array(img)\n",
    "    return img"
   ]
  },
  {
   "cell_type": "code",
   "execution_count": 6,
   "metadata": {},
   "outputs": [
    {
     "name": "stderr",
     "output_type": "stream",
     "text": [
      "10222it [00:56, 179.46it/s]\n"
     ]
    },
    {
     "name": "stdout",
     "output_type": "stream",
     "text": [
      "Train Images shape: (10222, 320, 320, 3) size: 3,140,198,400\n"
     ]
    }
   ],
   "source": [
    "INPUT_SIZE = 320\n",
    "x_train = np.zeros((len(labels), INPUT_SIZE, INPUT_SIZE, 3), dtype='float32')\n",
    "for i, img_id in tqdm(enumerate(labels['id'])):\n",
    "    img = read_img(img_id, 'train', (INPUT_SIZE, INPUT_SIZE))\n",
    "    x = preprocess_input(np.expand_dims(img.copy(), axis=0))\n",
    "    x_train[i] = x\n",
    "print('Train Images shape: {} size: {:,}'.format(x_train.shape, x_train.size))"
   ]
  },
  {
   "cell_type": "code",
   "execution_count": 7,
   "metadata": {},
   "outputs": [
    {
     "name": "stdout",
     "output_type": "stream",
     "text": [
      "((8140, 320, 320, 3), (2082, 320, 320, 3), (8140, 121), (2082, 121))\n"
     ]
    }
   ],
   "source": [
    "Xtr = x_train[train_idx]\n",
    "Xv = x_train[valid_idx]\n",
    "print((Xtr.shape, Xv.shape, ytr.shape, yv.shape))"
   ]
  },
  {
   "cell_type": "code",
   "execution_count": 8,
   "metadata": {
    "collapsed": true
   },
   "outputs": [],
   "source": [
    "del x_train"
   ]
  },
  {
   "cell_type": "code",
   "execution_count": 9,
   "metadata": {},
   "outputs": [],
   "source": [
    "model_resnet50 = ResNet50(weights='imagenet',include_top=False, input_shape = (INPUT_SIZE,INPUT_SIZE,3))\n",
    "x = model_resnet50.get_layer(model_resnet50.layers[-2].name).output\n",
    "x = Flatten(name=\"Last_flatterning\")(x)\n",
    "x = Dense(128, activation='relu', name='Last_Relu')(x)\n",
    "predictions = Dense(ytr.shape[1]-1, activation='softmax',name='Last_softmax')(x) \n",
    "model = Model(inputs=model_resnet50.input, outputs=predictions)"
   ]
  },
  {
   "cell_type": "code",
   "execution_count": 10,
   "metadata": {},
   "outputs": [],
   "source": [
    "for i, layer in enumerate(model.layers[:-3]):\n",
    "   layer.trainable = False\n",
    "   #print(i, layer.name,layer.trainable)   "
   ]
  },
  {
   "cell_type": "code",
   "execution_count": 11,
   "metadata": {},
   "outputs": [],
   "source": [
    "model.compile(optimizer='rmsprop', loss='binary_crossentropy',metrics = [\"accuracy\"])"
   ]
  },
  {
   "cell_type": "code",
   "execution_count": 12,
   "metadata": {},
   "outputs": [
    {
     "name": "stdout",
     "output_type": "stream",
     "text": [
      "Train on 8140 samples, validate on 2082 samples\n",
      "Epoch 1/1\n"
     ]
    },
    {
     "name": "stdout",
     "output_type": "stream",
     "text": [
      "6656/8140 [=======================>......] - ETA: 15:18 - loss: 0.0640 - acc: 0.99 - ETA: 8:23 - loss: 0.1499 - acc: 0.9878 - ETA: 6:04 - loss: 0.1650 - acc: 0.986 - ETA: 4:55 - loss: 0.1881 - acc: 0.985 - ETA: 4:13 - loss: 0.1974 - acc: 0.985 - ETA: 3:45 - loss: 0.2076 - acc: 0.985 - ETA: 3:25 - loss: 0.2149 - acc: 0.985 - ETA: 3:10 - loss: 0.2204 - acc: 0.984 - ETA: 2:58 - loss: 0.2256 - acc: 0.984 - ETA: 2:48 - loss: 0.2298 - acc: 0.984 - ETA: 2:40 - loss: 0.2332 - acc: 0.984 - ETA: 2:33 - loss: 0.2360 - acc: 0.984 - ETA: 2:27 - loss: 0.2384 - acc: 0.984 - ETA: 2:23 - loss: 0.2405 - acc: 0.984 - ETA: 2:18 - loss: 0.2422 - acc: 0.984 - ETA: 2:15 - loss: 0.2438 - acc: 0.984 - ETA: 2:11 - loss: 0.2452 - acc: 0.984 - ETA: 2:08 - loss: 0.2464 - acc: 0.984 - ETA: 2:05 - loss: 0.2475 - acc: 0.984 - ETA: 2:03 - loss: 0.2485 - acc: 0.983 - ETA: 2:01 - loss: 0.2494 - acc: 0.983 - ETA: 1:58 - loss: 0.2494 - acc: 0.983 - ETA: 1:56 - loss: 0.2495 - acc: 0.983 - ETA: 1:54 - loss: 0.2502 - acc: 0.983 - ETA: 1:53 - loss: 0.2509 - acc: 0.983 - ETA: 1:51 - loss: 0.2512 - acc: 0.983 - ETA: 1:49 - loss: 0.2518 - acc: 0.983 - ETA: 1:48 - loss: 0.2523 - acc: 0.983 - ETA: 1:47 - loss: 0.2525 - acc: 0.983 - ETA: 1:45 - loss: 0.2530 - acc: 0.983 - ETA: 1:44 - loss: 0.2532 - acc: 0.983 - ETA: 1:43 - loss: 0.2537 - acc: 0.983 - ETA: 1:41 - loss: 0.2538 - acc: 0.983 - ETA: 1:40 - loss: 0.2542 - acc: 0.983 - ETA: 1:39 - loss: 0.2546 - acc: 0.983 - ETA: 1:38 - loss: 0.2549 - acc: 0.983 - ETA: 1:37 - loss: 0.2553 - acc: 0.983 - ETA: 1:36 - loss: 0.2556 - acc: 0.983 - ETA: 1:35 - loss: 0.2559 - acc: 0.983 - ETA: 1:34 - loss: 0.2562 - acc: 0.983 - ETA: 1:33 - loss: 0.2564 - acc: 0.983 - ETA: 1:32 - loss: 0.2565 - acc: 0.983 - ETA: 1:31 - loss: 0.2565 - acc: 0.983 - ETA: 1:30 - loss: 0.2568 - acc: 0.983 - ETA: 1:29 - loss: 0.2570 - acc: 0.983 - ETA: 1:29 - loss: 0.2570 - acc: 0.983 - ETA: 1:28 - loss: 0.2573 - acc: 0.983 - ETA: 1:27 - loss: 0.2573 - acc: 0.983 - ETA: 1:26 - loss: 0.2573 - acc: 0.983 - ETA: 1:26 - loss: 0.2575 - acc: 0.983 - ETA: 1:25 - loss: 0.2577 - acc: 0.983 - ETA: 1:24 - loss: 0.2576 - acc: 0.983 - ETA: 1:24 - loss: 0.2578 - acc: 0.983 - ETA: 1:23 - loss: 0.2579 - acc: 0.983 - ETA: 1:22 - loss: 0.2579 - acc: 0.983 - ETA: 1:22 - loss: 0.2581 - acc: 0.983 - ETA: 1:21 - loss: 0.2583 - acc: 0.983 - ETA: 1:20 - loss: 0.2584 - acc: 0.983 - ETA: 1:20 - loss: 0.2586 - acc: 0.983 - ETA: 1:19 - loss: 0.2586 - acc: 0.983 - ETA: 1:18 - loss: 0.2587 - acc: 0.983 - ETA: 1:18 - loss: 0.2588 - acc: 0.983 - ETA: 1:17 - loss: 0.2590 - acc: 0.983 - ETA: 1:17 - loss: 0.2591 - acc: 0.983 - ETA: 1:16 - loss: 0.2591 - acc: 0.983 - ETA: 1:16 - loss: 0.2592 - acc: 0.983 - ETA: 1:15 - loss: 0.2593 - acc: 0.983 - ETA: 1:15 - loss: 0.2595 - acc: 0.983 - ETA: 1:14 - loss: 0.2596 - acc: 0.983 - ETA: 1:14 - loss: 0.2597 - acc: 0.983 - ETA: 1:13 - loss: 0.2597 - acc: 0.983 - ETA: 1:13 - loss: 0.2598 - acc: 0.983 - ETA: 1:12 - loss: 0.2598 - acc: 0.983 - ETA: 1:12 - loss: 0.2599 - acc: 0.983 - ETA: 1:11 - loss: 0.2600 - acc: 0.983 - ETA: 1:11 - loss: 0.2598 - acc: 0.983 - ETA: 1:10 - loss: 0.2598 - acc: 0.983 - ETA: 1:10 - loss: 0.2598 - acc: 0.983 - ETA: 1:09 - loss: 0.2599 - acc: 0.983 - ETA: 1:09 - loss: 0.2600 - acc: 0.983 - ETA: 1:08 - loss: 0.2601 - acc: 0.983 - ETA: 1:08 - loss: 0.2601 - acc: 0.983 - ETA: 1:07 - loss: 0.2600 - acc: 0.983 - ETA: 1:07 - loss: 0.2601 - acc: 0.983 - ETA: 1:06 - loss: 0.2602 - acc: 0.983 - ETA: 1:06 - loss: 0.2603 - acc: 0.983 - ETA: 1:05 - loss: 0.2604 - acc: 0.983 - ETA: 1:05 - loss: 0.2605 - acc: 0.983 - ETA: 1:05 - loss: 0.2605 - acc: 0.983 - ETA: 1:04 - loss: 0.2606 - acc: 0.983 - ETA: 1:04 - loss: 0.2607 - acc: 0.983 - ETA: 1:03 - loss: 0.2607 - acc: 0.983 - ETA: 1:03 - loss: 0.2607 - acc: 0.983 - ETA: 1:02 - loss: 0.2608 - acc: 0.983 - ETA: 1:02 - loss: 0.2608 - acc: 0.983 - ETA: 1:01 - loss: 0.2608 - acc: 0.983 - ETA: 1:01 - loss: 0.2608 - acc: 0.983 - ETA: 1:01 - loss: 0.2609 - acc: 0.983 - ETA: 1:00 - loss: 0.2609 - acc: 0.983 - ETA: 1:00 - loss: 0.2609 - acc: 0.983 - ETA: 59s - loss: 0.2610 - acc: 0.983 - ETA: 59s - loss: 0.2610 - acc: 0.98 - ETA: 58s - loss: 0.2611 - acc: 0.98 - ETA: 58s - loss: 0.2612 - acc: 0.98 - ETA: 58s - loss: 0.2612 - acc: 0.98 - ETA: 57s - loss: 0.2613 - acc: 0.98 - ETA: 57s - loss: 0.2613 - acc: 0.98 - ETA: 56s - loss: 0.2613 - acc: 0.98 - ETA: 56s - loss: 0.2609 - acc: 0.98 - ETA: 56s - loss: 0.2609 - acc: 0.98 - ETA: 55s - loss: 0.2609 - acc: 0.98 - ETA: 55s - loss: 0.2609 - acc: 0.98 - ETA: 54s - loss: 0.2609 - acc: 0.98 - ETA: 54s - loss: 0.2610 - acc: 0.98 - ETA: 53s - loss: 0.2610 - acc: 0.98 - ETA: 53s - loss: 0.2611 - acc: 0.98 - ETA: 53s - loss: 0.2611 - acc: 0.98 - ETA: 52s - loss: 0.2610 - acc: 0.98 - ETA: 52s - loss: 0.2609 - acc: 0.98 - ETA: 51s - loss: 0.2610 - acc: 0.98 - ETA: 51s - loss: 0.2610 - acc: 0.98 - ETA: 50s - loss: 0.2610 - acc: 0.98 - ETA: 50s - loss: 0.2610 - acc: 0.98 - ETA: 50s - loss: 0.2611 - acc: 0.98 - ETA: 49s - loss: 0.2611 - acc: 0.98 - ETA: 49s - loss: 0.2612 - acc: 0.98 - ETA: 48s - loss: 0.2612 - acc: 0.98 - ETA: 48s - loss: 0.2612 - acc: 0.98 - ETA: 47s - loss: 0.2612 - acc: 0.98 - ETA: 47s - loss: 0.2613 - acc: 0.98 - ETA: 47s - loss: 0.2613 - acc: 0.98 - ETA: 46s - loss: 0.2614 - acc: 0.98 - ETA: 46s - loss: 0.2614 - acc: 0.98 - ETA: 45s - loss: 0.2614 - acc: 0.98 - ETA: 45s - loss: 0.2614 - acc: 0.98 - ETA: 45s - loss: 0.2614 - acc: 0.98 - ETA: 44s - loss: 0.2615 - acc: 0.98 - ETA: 44s - loss: 0.2614 - acc: 0.98 - ETA: 43s - loss: 0.2614 - acc: 0.98 - ETA: 43s - loss: 0.2613 - acc: 0.98 - ETA: 43s - loss: 0.2613 - acc: 0.98 - ETA: 42s - loss: 0.2614 - acc: 0.98 - ETA: 42s - loss: 0.2614 - acc: 0.98 - ETA: 41s - loss: 0.2614 - acc: 0.98 - ETA: 41s - loss: 0.2615 - acc: 0.98 - ETA: 41s - loss: 0.2615 - acc: 0.98 - ETA: 40s - loss: 0.2616 - acc: 0.98 - ETA: 40s - loss: 0.2616 - acc: 0.98 - ETA: 39s - loss: 0.2616 - acc: 0.98 - ETA: 39s - loss: 0.2616 - acc: 0.98 - ETA: 39s - loss: 0.2617 - acc: 0.98 - ETA: 38s - loss: 0.2617 - acc: 0.98 - ETA: 38s - loss: 0.2617 - acc: 0.98 - ETA: 37s - loss: 0.2618 - acc: 0.98 - ETA: 37s - loss: 0.2617 - acc: 0.98 - ETA: 37s - loss: 0.2618 - acc: 0.98 - ETA: 36s - loss: 0.2618 - acc: 0.98 - ETA: 36s - loss: 0.2618 - acc: 0.98 - ETA: 35s - loss: 0.2619 - acc: 0.98 - ETA: 35s - loss: 0.2619 - acc: 0.98 - ETA: 35s - loss: 0.2619 - acc: 0.98 - ETA: 34s - loss: 0.2619 - acc: 0.98 - ETA: 34s - loss: 0.2619 - acc: 0.98 - ETA: 34s - loss: 0.2619 - acc: 0.98 - ETA: 33s - loss: 0.2619 - acc: 0.98 - ETA: 33s - loss: 0.2620 - acc: 0.98 - ETA: 32s - loss: 0.2620 - acc: 0.98 - ETA: 32s - loss: 0.2620 - acc: 0.98 - ETA: 32s - loss: 0.2620 - acc: 0.98 - ETA: 31s - loss: 0.2620 - acc: 0.98 - ETA: 31s - loss: 0.2620 - acc: 0.98 - ETA: 31s - loss: 0.2620 - acc: 0.98 - ETA: 30s - loss: 0.2621 - acc: 0.98 - ETA: 30s - loss: 0.2621 - acc: 0.98 - ETA: 29s - loss: 0.2620 - acc: 0.98 - ETA: 29s - loss: 0.2620 - acc: 0.98 - ETA: 29s - loss: 0.2620 - acc: 0.98 - ETA: 28s - loss: 0.2620 - acc: 0.98 - ETA: 28s - loss: 0.2620 - acc: 0.98 - ETA: 27s - loss: 0.2620 - acc: 0.98 - ETA: 27s - loss: 0.2620 - acc: 0.98 - ETA: 27s - loss: 0.2620 - acc: 0.98 - ETA: 26s - loss: 0.2621 - acc: 0.98 - ETA: 26s - loss: 0.2621 - acc: 0.98 - ETA: 26s - loss: 0.2621 - acc: 0.98 - ETA: 25s - loss: 0.2622 - acc: 0.98 - ETA: 25s - loss: 0.2622 - acc: 0.98 - ETA: 24s - loss: 0.2622 - acc: 0.98 - ETA: 24s - loss: 0.2621 - acc: 0.98 - ETA: 24s - loss: 0.2622 - acc: 0.98 - ETA: 23s - loss: 0.2622 - acc: 0.98 - ETA: 23s - loss: 0.2622 - acc: 0.98 - ETA: 23s - loss: 0.2622 - acc: 0.98 - ETA: 22s - loss: 0.2622 - acc: 0.98 - ETA: 22s - loss: 0.2622 - acc: 0.98 - ETA: 21s - loss: 0.2622 - acc: 0.98 - ETA: 21s - loss: 0.2622 - acc: 0.98 - ETA: 21s - loss: 0.2622 - acc: 0.98 - ETA: 20s - loss: 0.2622 - acc: 0.98 - ETA: 20s - loss: 0.2623 - acc: 0.98 - ETA: 19s - loss: 0.2623 - acc: 0.98 - ETA: 19s - loss: 0.2623 - acc: 0.98 - ETA: 19s - loss: 0.2623 - acc: 0.98 - ETA: 18s - loss: 0.2624 - acc: 0.98 - ETA: 18s - loss: 0.2624 - acc: 0.98 - ETA: 18s - loss: 0.2624 - acc: 0.98 - ETA: 17s - loss: 0.2624 - acc: 0.98 - ETA: 17s - loss: 0.2625 - acc: 0.9835\b\b\b\b\b\b\b\b\b\b\b\b\b\b\b\b\b\b\b\b\b\b\b\b\b\b\b\b\b\b\b\b\b\b\b\b\b\b\b\b\b\b\b\b\b\b\b\b\b\b\b\b\b\b\b\b\b\b\b\b\b\b\b\b\b\b\b\b\b\b\b\b\b\b\b\b\b\b\b\b\b\b"
     ]
    },
    {
     "name": "stdout",
     "output_type": "stream",
     "text": [
      "8140/8140 [==============================] - ETA: 16s - loss: 0.2625 - acc: 0.98 - ETA: 16s - loss: 0.2625 - acc: 0.98 - ETA: 16s - loss: 0.2625 - acc: 0.98 - ETA: 15s - loss: 0.2625 - acc: 0.98 - ETA: 15s - loss: 0.2625 - acc: 0.98 - ETA: 15s - loss: 0.2625 - acc: 0.98 - ETA: 14s - loss: 0.2625 - acc: 0.98 - ETA: 14s - loss: 0.2625 - acc: 0.98 - ETA: 13s - loss: 0.2626 - acc: 0.98 - ETA: 13s - loss: 0.2626 - acc: 0.98 - ETA: 13s - loss: 0.2625 - acc: 0.98 - ETA: 12s - loss: 0.2626 - acc: 0.98 - ETA: 12s - loss: 0.2626 - acc: 0.98 - ETA: 12s - loss: 0.2626 - acc: 0.98 - ETA: 11s - loss: 0.2626 - acc: 0.98 - ETA: 11s - loss: 0.2626 - acc: 0.98 - ETA: 10s - loss: 0.2627 - acc: 0.98 - ETA: 10s - loss: 0.2627 - acc: 0.98 - ETA: 10s - loss: 0.2627 - acc: 0.98 - ETA: 9s - loss: 0.2627 - acc: 0.9835 - ETA: 9s - loss: 0.2627 - acc: 0.983 - ETA: 9s - loss: 0.2628 - acc: 0.983 - ETA: 8s - loss: 0.2628 - acc: 0.983 - ETA: 8s - loss: 0.2628 - acc: 0.983 - ETA: 7s - loss: 0.2628 - acc: 0.983 - ETA: 7s - loss: 0.2628 - acc: 0.983 - ETA: 7s - loss: 0.2629 - acc: 0.983 - ETA: 6s - loss: 0.2629 - acc: 0.983 - ETA: 6s - loss: 0.2629 - acc: 0.983 - ETA: 6s - loss: 0.2629 - acc: 0.983 - ETA: 5s - loss: 0.2629 - acc: 0.983 - ETA: 5s - loss: 0.2629 - acc: 0.983 - ETA: 4s - loss: 0.2629 - acc: 0.983 - ETA: 4s - loss: 0.2629 - acc: 0.983 - ETA: 4s - loss: 0.2629 - acc: 0.983 - ETA: 3s - loss: 0.2629 - acc: 0.983 - ETA: 3s - loss: 0.2629 - acc: 0.983 - ETA: 3s - loss: 0.2629 - acc: 0.983 - ETA: 2s - loss: 0.2630 - acc: 0.983 - ETA: 2s - loss: 0.2630 - acc: 0.983 - ETA: 1s - loss: 0.2630 - acc: 0.983 - ETA: 1s - loss: 0.2630 - acc: 0.983 - ETA: 1s - loss: 0.2630 - acc: 0.983 - ETA: 0s - loss: 0.2630 - acc: 0.983 - ETA: 0s - loss: 0.2629 - acc: 0.983 - ETA: 0s - loss: 0.2629 - acc: 0.983 - 125s 15ms/step - loss: 0.2629 - acc: 0.9835 - val_loss: 0.2532 - val_acc: 0.9835\n"
     ]
    },
    {
     "data": {
      "text/plain": [
       "<keras.callbacks.History at 0x248060f0b38>"
      ]
     },
     "execution_count": 12,
     "metadata": {},
     "output_type": "execute_result"
    }
   ],
   "source": [
    "model.fit(x = Xtr, y = ytr[:,1:], epochs = 1, batch_size = 32,validation_data = [Xv,yv[:,1:]])"
   ]
  },
  {
   "cell_type": "code",
   "execution_count": 13,
   "metadata": {
    "collapsed": true
   },
   "outputs": [],
   "source": [
    "for i, layer in enumerate(model.layers):\n",
    "   layer.trainable = True"
   ]
  },
  {
   "cell_type": "code",
   "execution_count": 16,
   "metadata": {
    "scrolled": true
   },
   "outputs": [
    {
     "name": "stdout",
     "output_type": "stream",
     "text": [
      "Train on 8140 samples, validate on 2082 samples\n",
      "Epoch 1/1\n"
     ]
    },
    {
     "name": "stdout",
     "output_type": "stream",
     "text": [
      "1624/8140 [====>.........................] - ETA: 2:49:51 - loss: 0.1847 - acc: 0.98 - ETA: 1:27:55 - loss: 0.1849 - acc: 0.98 - ETA: 1:00:37 - loss: 0.1941 - acc: 0.98 - ETA: 46:56 - loss: 0.2014 - acc: 0.9857 - ETA: 38:46 - loss: 0.1702 - acc: 0.98 - ETA: 33:17 - loss: 0.1679 - acc: 0.98 - ETA: 29:22 - loss: 0.1640 - acc: 0.98 - ETA: 26:25 - loss: 0.1584 - acc: 0.98 - ETA: 24:09 - loss: 0.1583 - acc: 0.98 - ETA: 22:18 - loss: 0.1518 - acc: 0.98 - ETA: 20:48 - loss: 0.1449 - acc: 0.98 - ETA: 19:33 - loss: 0.1414 - acc: 0.98 - ETA: 18:28 - loss: 0.1384 - acc: 0.98 - ETA: 17:33 - loss: 0.1339 - acc: 0.98 - ETA: 16:46 - loss: 0.1341 - acc: 0.98 - ETA: 16:04 - loss: 0.1330 - acc: 0.98 - ETA: 15:27 - loss: 0.1296 - acc: 0.98 - ETA: 14:55 - loss: 0.1266 - acc: 0.98 - ETA: 14:26 - loss: 0.1240 - acc: 0.98 - ETA: 14:01 - loss: 0.1229 - acc: 0.98 - ETA: 13:37 - loss: 0.1207 - acc: 0.98 - ETA: 13:15 - loss: 0.1187 - acc: 0.98 - ETA: 12:55 - loss: 0.1168 - acc: 0.98 - ETA: 12:37 - loss: 0.1151 - acc: 0.98 - ETA: 12:21 - loss: 0.1146 - acc: 0.98 - ETA: 12:06 - loss: 0.1131 - acc: 0.98 - ETA: 11:52 - loss: 0.1127 - acc: 0.98 - ETA: 11:38 - loss: 0.1124 - acc: 0.98 - ETA: 11:26 - loss: 0.1111 - acc: 0.98 - ETA: 11:14 - loss: 0.1116 - acc: 0.98 - ETA: 11:03 - loss: 0.1105 - acc: 0.98 - ETA: 10:52 - loss: 0.1094 - acc: 0.98 - ETA: 10:42 - loss: 0.1099 - acc: 0.98 - ETA: 10:33 - loss: 0.1090 - acc: 0.98 - ETA: 10:24 - loss: 0.1081 - acc: 0.98 - ETA: 10:15 - loss: 0.1075 - acc: 0.98 - ETA: 10:08 - loss: 0.1067 - acc: 0.98 - ETA: 10:00 - loss: 0.1059 - acc: 0.98 - ETA: 9:53 - loss: 0.1051 - acc: 0.9893 - ETA: 9:46 - loss: 0.1048 - acc: 0.989 - ETA: 9:39 - loss: 0.1041 - acc: 0.989 - ETA: 9:33 - loss: 0.1041 - acc: 0.989 - ETA: 9:27 - loss: 0.1034 - acc: 0.989 - ETA: 9:21 - loss: 0.1034 - acc: 0.989 - ETA: 9:16 - loss: 0.1028 - acc: 0.989 - ETA: 9:11 - loss: 0.1026 - acc: 0.989 - ETA: 9:06 - loss: 0.1026 - acc: 0.989 - ETA: 9:01 - loss: 0.1020 - acc: 0.989 - ETA: 8:56 - loss: 0.1015 - acc: 0.989 - ETA: 8:52 - loss: 0.1015 - acc: 0.989 - ETA: 8:48 - loss: 0.1010 - acc: 0.989 - ETA: 8:44 - loss: 0.1013 - acc: 0.989 - ETA: 8:40 - loss: 0.1017 - acc: 0.989 - ETA: 8:36 - loss: 0.1020 - acc: 0.989 - ETA: 8:32 - loss: 0.1015 - acc: 0.989 - ETA: 8:28 - loss: 0.1012 - acc: 0.989 - ETA: 8:25 - loss: 0.1010 - acc: 0.989 - ETA: 8:21 - loss: 0.1012 - acc: 0.989 - ETA: 8:18 - loss: 0.1007 - acc: 0.989 - ETA: 8:15 - loss: 0.1008 - acc: 0.989 - ETA: 8:12 - loss: 0.1009 - acc: 0.989 - ETA: 8:09 - loss: 0.1005 - acc: 0.989 - ETA: 8:06 - loss: 0.1001 - acc: 0.989 - ETA: 8:04 - loss: 0.1001 - acc: 0.989 - ETA: 8:01 - loss: 0.0999 - acc: 0.989 - ETA: 7:58 - loss: 0.1002 - acc: 0.989 - ETA: 7:56 - loss: 0.1003 - acc: 0.989 - ETA: 7:54 - loss: 0.0999 - acc: 0.989 - ETA: 7:51 - loss: 0.0997 - acc: 0.989 - ETA: 7:49 - loss: 0.1000 - acc: 0.989 - ETA: 7:47 - loss: 0.0997 - acc: 0.989 - ETA: 7:44 - loss: 0.0994 - acc: 0.989 - ETA: 7:42 - loss: 0.0990 - acc: 0.989 - ETA: 7:40 - loss: 0.0985 - acc: 0.989 - ETA: 7:38 - loss: 0.0982 - acc: 0.989 - ETA: 7:36 - loss: 0.0979 - acc: 0.989 - ETA: 7:34 - loss: 0.0976 - acc: 0.989 - ETA: 7:32 - loss: 0.0975 - acc: 0.989 - ETA: 7:30 - loss: 0.0974 - acc: 0.989 - ETA: 7:28 - loss: 0.0971 - acc: 0.989 - ETA: 7:27 - loss: 0.0968 - acc: 0.989 - ETA: 7:25 - loss: 0.0969 - acc: 0.989 - ETA: 7:23 - loss: 0.0967 - acc: 0.989 - ETA: 7:21 - loss: 0.0964 - acc: 0.989 - ETA: 7:20 - loss: 0.0958 - acc: 0.989 - ETA: 7:18 - loss: 0.0956 - acc: 0.989 - ETA: 7:16 - loss: 0.0955 - acc: 0.989 - ETA: 7:15 - loss: 0.0953 - acc: 0.989 - ETA: 7:13 - loss: 0.0952 - acc: 0.989 - ETA: 7:12 - loss: 0.0949 - acc: 0.989 - ETA: 7:10 - loss: 0.0947 - acc: 0.989 - ETA: 7:09 - loss: 0.0945 - acc: 0.989 - ETA: 7:07 - loss: 0.0943 - acc: 0.989 - ETA: 7:06 - loss: 0.0943 - acc: 0.989 - ETA: 7:05 - loss: 0.0946 - acc: 0.989 - ETA: 7:03 - loss: 0.0945 - acc: 0.989 - ETA: 7:02 - loss: 0.0943 - acc: 0.989 - ETA: 7:01 - loss: 0.0942 - acc: 0.989 - ETA: 6:59 - loss: 0.0942 - acc: 0.989 - ETA: 6:58 - loss: 0.0943 - acc: 0.989 - ETA: 6:57 - loss: 0.0943 - acc: 0.989 - ETA: 6:55 - loss: 0.0942 - acc: 0.989 - ETA: 6:54 - loss: 0.0943 - acc: 0.989 - ETA: 6:53 - loss: 0.0952 - acc: 0.989 - ETA: 6:52 - loss: 0.0955 - acc: 0.989 - ETA: 6:50 - loss: 0.0961 - acc: 0.989 - ETA: 6:49 - loss: 0.0964 - acc: 0.989 - ETA: 6:48 - loss: 0.0965 - acc: 0.989 - ETA: 6:47 - loss: 0.0969 - acc: 0.989 - ETA: 6:46 - loss: 0.0967 - acc: 0.989 - ETA: 6:45 - loss: 0.0965 - acc: 0.989 - ETA: 6:44 - loss: 0.0963 - acc: 0.989 - ETA: 6:42 - loss: 0.0961 - acc: 0.989 - ETA: 6:41 - loss: 0.0960 - acc: 0.989 - ETA: 6:40 - loss: 0.0958 - acc: 0.989 - ETA: 6:39 - loss: 0.0956 - acc: 0.989 - ETA: 6:38 - loss: 0.0959 - acc: 0.989 - ETA: 6:37 - loss: 0.0961 - acc: 0.989 - ETA: 6:35 - loss: 0.0959 - acc: 0.989 - ETA: 6:34 - loss: 0.0962 - acc: 0.989 - ETA: 6:33 - loss: 0.0964 - acc: 0.989 - ETA: 6:32 - loss: 0.0964 - acc: 0.989 - ETA: 6:31 - loss: 0.0964 - acc: 0.989 - ETA: 6:30 - loss: 0.0963 - acc: 0.989 - ETA: 6:29 - loss: 0.0963 - acc: 0.989 - ETA: 6:28 - loss: 0.0961 - acc: 0.989 - ETA: 6:27 - loss: 0.0960 - acc: 0.989 - ETA: 6:26 - loss: 0.0960 - acc: 0.989 - ETA: 6:25 - loss: 0.0959 - acc: 0.989 - ETA: 6:24 - loss: 0.0959 - acc: 0.989 - ETA: 6:23 - loss: 0.0961 - acc: 0.989 - ETA: 6:22 - loss: 0.0965 - acc: 0.989 - ETA: 6:21 - loss: 0.0964 - acc: 0.989 - ETA: 6:20 - loss: 0.0962 - acc: 0.989 - ETA: 6:19 - loss: 0.0965 - acc: 0.989 - ETA: 6:18 - loss: 0.0965 - acc: 0.989 - ETA: 6:17 - loss: 0.0966 - acc: 0.989 - ETA: 6:16 - loss: 0.0965 - acc: 0.989 - ETA: 6:16 - loss: 0.0965 - acc: 0.989 - ETA: 6:15 - loss: 0.0964 - acc: 0.989 - ETA: 6:14 - loss: 0.0962 - acc: 0.989 - ETA: 6:13 - loss: 0.0963 - acc: 0.989 - ETA: 6:12 - loss: 0.0961 - acc: 0.989 - ETA: 6:11 - loss: 0.0963 - acc: 0.989 - ETA: 6:11 - loss: 0.0962 - acc: 0.989 - ETA: 6:10 - loss: 0.0961 - acc: 0.989 - ETA: 6:09 - loss: 0.0960 - acc: 0.989 - ETA: 6:08 - loss: 0.0961 - acc: 0.989 - ETA: 6:07 - loss: 0.0960 - acc: 0.989 - ETA: 6:07 - loss: 0.0960 - acc: 0.989 - ETA: 6:06 - loss: 0.0959 - acc: 0.989 - ETA: 6:05 - loss: 0.0958 - acc: 0.989 - ETA: 6:04 - loss: 0.0957 - acc: 0.989 - ETA: 6:04 - loss: 0.0956 - acc: 0.989 - ETA: 6:03 - loss: 0.0955 - acc: 0.989 - ETA: 6:02 - loss: 0.0953 - acc: 0.989 - ETA: 6:01 - loss: 0.0952 - acc: 0.989 - ETA: 6:01 - loss: 0.0951 - acc: 0.989 - ETA: 6:00 - loss: 0.0951 - acc: 0.989 - ETA: 5:59 - loss: 0.0950 - acc: 0.989 - ETA: 5:58 - loss: 0.0948 - acc: 0.989 - ETA: 5:58 - loss: 0.0948 - acc: 0.989 - ETA: 5:57 - loss: 0.0948 - acc: 0.989 - ETA: 5:56 - loss: 0.0947 - acc: 0.989 - ETA: 5:56 - loss: 0.0946 - acc: 0.989 - ETA: 5:55 - loss: 0.0944 - acc: 0.989 - ETA: 5:54 - loss: 0.0943 - acc: 0.989 - ETA: 5:54 - loss: 0.0942 - acc: 0.989 - ETA: 5:53 - loss: 0.0942 - acc: 0.989 - ETA: 5:52 - loss: 0.0942 - acc: 0.989 - ETA: 5:52 - loss: 0.0942 - acc: 0.989 - ETA: 5:51 - loss: 0.0942 - acc: 0.989 - ETA: 5:50 - loss: 0.0941 - acc: 0.989 - ETA: 5:50 - loss: 0.0942 - acc: 0.989 - ETA: 5:49 - loss: 0.0943 - acc: 0.989 - ETA: 5:48 - loss: 0.0942 - acc: 0.989 - ETA: 5:48 - loss: 0.0943 - acc: 0.989 - ETA: 5:47 - loss: 0.0942 - acc: 0.989 - ETA: 5:47 - loss: 0.0941 - acc: 0.989 - ETA: 5:46 - loss: 0.0940 - acc: 0.989 - ETA: 5:45 - loss: 0.0939 - acc: 0.989 - ETA: 5:45 - loss: 0.0938 - acc: 0.989 - ETA: 5:44 - loss: 0.0938 - acc: 0.989 - ETA: 5:43 - loss: 0.0937 - acc: 0.989 - ETA: 5:43 - loss: 0.0937 - acc: 0.989 - ETA: 5:42 - loss: 0.0938 - acc: 0.989 - ETA: 5:42 - loss: 0.0939 - acc: 0.989 - ETA: 5:41 - loss: 0.0938 - acc: 0.989 - ETA: 5:40 - loss: 0.0939 - acc: 0.989 - ETA: 5:40 - loss: 0.0941 - acc: 0.989 - ETA: 5:39 - loss: 0.0940 - acc: 0.989 - ETA: 5:39 - loss: 0.0940 - acc: 0.989 - ETA: 5:38 - loss: 0.0941 - acc: 0.989 - ETA: 5:37 - loss: 0.0940 - acc: 0.989 - ETA: 5:37 - loss: 0.0941 - acc: 0.989 - ETA: 5:36 - loss: 0.0940 - acc: 0.989 - ETA: 5:35 - loss: 0.0939 - acc: 0.989 - ETA: 5:35 - loss: 0.0939 - acc: 0.989 - ETA: 5:34 - loss: 0.0938 - acc: 0.989 - ETA: 5:34 - loss: 0.0937 - acc: 0.989 - ETA: 5:33 - loss: 0.0936 - acc: 0.989 - ETA: 5:32 - loss: 0.0937 - acc: 0.989 - ETA: 5:32 - loss: 0.0936 - acc: 0.9897\b\b\b\b\b\b\b\b\b\b\b\b\b\b\b\b\b\b\b\b\b\b\b\b\b\b\b\b\b\b\b\b\b\b\b\b\b\b\b\b\b\b\b\b\b\b\b\b\b\b\b\b\b\b\b\b\b\b\b\b\b\b\b\b\b\b\b\b\b\b\b\b\b\b\b\b\b\b\b\b\b\b\b"
     ]
    },
    {
     "name": "stdout",
     "output_type": "stream",
     "text": [
      "3256/8140 [===========>..................] - ETA: 5:31 - loss: 0.0937 - acc: 0.989 - ETA: 5:30 - loss: 0.0936 - acc: 0.989 - ETA: 5:30 - loss: 0.0936 - acc: 0.989 - ETA: 5:29 - loss: 0.0936 - acc: 0.989 - ETA: 5:28 - loss: 0.0936 - acc: 0.989 - ETA: 5:28 - loss: 0.0935 - acc: 0.989 - ETA: 5:27 - loss: 0.0935 - acc: 0.989 - ETA: 5:27 - loss: 0.0936 - acc: 0.989 - ETA: 5:26 - loss: 0.0937 - acc: 0.989 - ETA: 5:25 - loss: 0.0938 - acc: 0.989 - ETA: 5:25 - loss: 0.0938 - acc: 0.989 - ETA: 5:24 - loss: 0.0938 - acc: 0.989 - ETA: 5:24 - loss: 0.0937 - acc: 0.989 - ETA: 5:23 - loss: 0.0937 - acc: 0.989 - ETA: 5:23 - loss: 0.0937 - acc: 0.989 - ETA: 5:22 - loss: 0.0936 - acc: 0.989 - ETA: 5:21 - loss: 0.0936 - acc: 0.989 - ETA: 5:21 - loss: 0.0935 - acc: 0.989 - ETA: 5:20 - loss: 0.0934 - acc: 0.989 - ETA: 5:20 - loss: 0.0933 - acc: 0.989 - ETA: 5:19 - loss: 0.0934 - acc: 0.989 - ETA: 5:18 - loss: 0.0933 - acc: 0.989 - ETA: 5:18 - loss: 0.0932 - acc: 0.989 - ETA: 5:17 - loss: 0.0933 - acc: 0.989 - ETA: 5:17 - loss: 0.0933 - acc: 0.989 - ETA: 5:16 - loss: 0.0933 - acc: 0.989 - ETA: 5:16 - loss: 0.0932 - acc: 0.989 - ETA: 5:15 - loss: 0.0932 - acc: 0.989 - ETA: 5:15 - loss: 0.0929 - acc: 0.989 - ETA: 5:14 - loss: 0.0930 - acc: 0.989 - ETA: 5:13 - loss: 0.0930 - acc: 0.989 - ETA: 5:13 - loss: 0.0930 - acc: 0.989 - ETA: 5:12 - loss: 0.0930 - acc: 0.989 - ETA: 5:12 - loss: 0.0929 - acc: 0.989 - ETA: 5:11 - loss: 0.0928 - acc: 0.989 - ETA: 5:11 - loss: 0.0928 - acc: 0.989 - ETA: 5:10 - loss: 0.0928 - acc: 0.989 - ETA: 5:10 - loss: 0.0927 - acc: 0.989 - ETA: 5:09 - loss: 0.0927 - acc: 0.989 - ETA: 5:09 - loss: 0.0927 - acc: 0.989 - ETA: 5:08 - loss: 0.0926 - acc: 0.989 - ETA: 5:08 - loss: 0.0925 - acc: 0.989 - ETA: 5:07 - loss: 0.0925 - acc: 0.989 - ETA: 5:07 - loss: 0.0924 - acc: 0.989 - ETA: 5:06 - loss: 0.0924 - acc: 0.989 - ETA: 5:06 - loss: 0.0924 - acc: 0.989 - ETA: 5:05 - loss: 0.0924 - acc: 0.989 - ETA: 5:05 - loss: 0.0924 - acc: 0.989 - ETA: 5:04 - loss: 0.0923 - acc: 0.989 - ETA: 5:04 - loss: 0.0923 - acc: 0.989 - ETA: 5:03 - loss: 0.0923 - acc: 0.989 - ETA: 5:03 - loss: 0.0922 - acc: 0.989 - ETA: 5:02 - loss: 0.0921 - acc: 0.989 - ETA: 5:02 - loss: 0.0921 - acc: 0.989 - ETA: 5:01 - loss: 0.0921 - acc: 0.989 - ETA: 5:01 - loss: 0.0920 - acc: 0.989 - ETA: 5:00 - loss: 0.0921 - acc: 0.989 - ETA: 5:00 - loss: 0.0920 - acc: 0.989 - ETA: 4:59 - loss: 0.0921 - acc: 0.989 - ETA: 4:59 - loss: 0.0920 - acc: 0.989 - ETA: 4:58 - loss: 0.0920 - acc: 0.989 - ETA: 4:58 - loss: 0.0919 - acc: 0.989 - ETA: 4:57 - loss: 0.0919 - acc: 0.989 - ETA: 4:57 - loss: 0.0918 - acc: 0.989 - ETA: 4:56 - loss: 0.0917 - acc: 0.989 - ETA: 4:56 - loss: 0.0917 - acc: 0.989 - ETA: 4:55 - loss: 0.0916 - acc: 0.989 - ETA: 4:55 - loss: 0.0917 - acc: 0.989 - ETA: 4:54 - loss: 0.0916 - acc: 0.989 - ETA: 4:54 - loss: 0.0915 - acc: 0.989 - ETA: 4:54 - loss: 0.0915 - acc: 0.989 - ETA: 4:53 - loss: 0.0916 - acc: 0.989 - ETA: 4:53 - loss: 0.0916 - acc: 0.989 - ETA: 4:52 - loss: 0.0915 - acc: 0.989 - ETA: 4:52 - loss: 0.0915 - acc: 0.989 - ETA: 4:51 - loss: 0.0915 - acc: 0.989 - ETA: 4:51 - loss: 0.0915 - acc: 0.989 - ETA: 4:50 - loss: 0.0914 - acc: 0.989 - ETA: 4:50 - loss: 0.0914 - acc: 0.989 - ETA: 4:49 - loss: 0.0913 - acc: 0.989 - ETA: 4:49 - loss: 0.0913 - acc: 0.989 - ETA: 4:48 - loss: 0.0912 - acc: 0.989 - ETA: 4:48 - loss: 0.0912 - acc: 0.989 - ETA: 4:47 - loss: 0.0912 - acc: 0.989 - ETA: 4:47 - loss: 0.0913 - acc: 0.989 - ETA: 4:46 - loss: 0.0912 - acc: 0.989 - ETA: 4:46 - loss: 0.0912 - acc: 0.989 - ETA: 4:45 - loss: 0.0912 - acc: 0.989 - ETA: 4:45 - loss: 0.0911 - acc: 0.989 - ETA: 4:44 - loss: 0.0911 - acc: 0.989 - ETA: 4:44 - loss: 0.0910 - acc: 0.989 - ETA: 4:43 - loss: 0.0910 - acc: 0.989 - ETA: 4:43 - loss: 0.0910 - acc: 0.989 - ETA: 4:42 - loss: 0.0909 - acc: 0.989 - ETA: 4:42 - loss: 0.0909 - acc: 0.989 - ETA: 4:41 - loss: 0.0908 - acc: 0.989 - ETA: 4:41 - loss: 0.0908 - acc: 0.989 - ETA: 4:40 - loss: 0.0907 - acc: 0.989 - ETA: 4:40 - loss: 0.0907 - acc: 0.989 - ETA: 4:39 - loss: 0.0908 - acc: 0.989 - ETA: 4:39 - loss: 0.0907 - acc: 0.989 - ETA: 4:38 - loss: 0.0908 - acc: 0.989 - ETA: 4:38 - loss: 0.0907 - acc: 0.989 - ETA: 4:37 - loss: 0.0907 - acc: 0.989 - ETA: 4:37 - loss: 0.0906 - acc: 0.989 - ETA: 4:36 - loss: 0.0908 - acc: 0.989 - ETA: 4:36 - loss: 0.0907 - acc: 0.989 - ETA: 4:35 - loss: 0.0907 - acc: 0.989 - ETA: 4:35 - loss: 0.0907 - acc: 0.989 - ETA: 4:35 - loss: 0.0907 - acc: 0.989 - ETA: 4:34 - loss: 0.0907 - acc: 0.989 - ETA: 4:34 - loss: 0.0908 - acc: 0.989 - ETA: 4:33 - loss: 0.0907 - acc: 0.989 - ETA: 4:33 - loss: 0.0907 - acc: 0.989 - ETA: 4:32 - loss: 0.0906 - acc: 0.989 - ETA: 4:32 - loss: 0.0906 - acc: 0.989 - ETA: 4:31 - loss: 0.0905 - acc: 0.989 - ETA: 4:31 - loss: 0.0906 - acc: 0.989 - ETA: 4:30 - loss: 0.0905 - acc: 0.989 - ETA: 4:30 - loss: 0.0905 - acc: 0.989 - ETA: 4:30 - loss: 0.0904 - acc: 0.989 - ETA: 4:29 - loss: 0.0904 - acc: 0.989 - ETA: 4:29 - loss: 0.0903 - acc: 0.989 - ETA: 4:28 - loss: 0.0903 - acc: 0.989 - ETA: 4:28 - loss: 0.0902 - acc: 0.989 - ETA: 4:27 - loss: 0.0902 - acc: 0.989 - ETA: 4:27 - loss: 0.0902 - acc: 0.989 - ETA: 4:26 - loss: 0.0901 - acc: 0.989 - ETA: 4:26 - loss: 0.0900 - acc: 0.989 - ETA: 4:26 - loss: 0.0899 - acc: 0.989 - ETA: 4:25 - loss: 0.0899 - acc: 0.989 - ETA: 4:25 - loss: 0.0898 - acc: 0.989 - ETA: 4:24 - loss: 0.0898 - acc: 0.989 - ETA: 4:24 - loss: 0.0897 - acc: 0.989 - ETA: 4:23 - loss: 0.0897 - acc: 0.989 - ETA: 4:23 - loss: 0.0896 - acc: 0.989 - ETA: 4:23 - loss: 0.0896 - acc: 0.989 - ETA: 4:22 - loss: 0.0896 - acc: 0.989 - ETA: 4:22 - loss: 0.0895 - acc: 0.989 - ETA: 4:21 - loss: 0.0896 - acc: 0.989 - ETA: 4:21 - loss: 0.0895 - acc: 0.989 - ETA: 4:20 - loss: 0.0896 - acc: 0.989 - ETA: 4:20 - loss: 0.0896 - acc: 0.989 - ETA: 4:19 - loss: 0.0896 - acc: 0.989 - ETA: 4:19 - loss: 0.0896 - acc: 0.989 - ETA: 4:19 - loss: 0.0896 - acc: 0.989 - ETA: 4:18 - loss: 0.0896 - acc: 0.989 - ETA: 4:18 - loss: 0.0895 - acc: 0.989 - ETA: 4:17 - loss: 0.0895 - acc: 0.989 - ETA: 4:17 - loss: 0.0895 - acc: 0.989 - ETA: 4:17 - loss: 0.0896 - acc: 0.989 - ETA: 4:16 - loss: 0.0895 - acc: 0.989 - ETA: 4:16 - loss: 0.0895 - acc: 0.989 - ETA: 4:15 - loss: 0.0895 - acc: 0.989 - ETA: 4:15 - loss: 0.0895 - acc: 0.989 - ETA: 4:14 - loss: 0.0894 - acc: 0.989 - ETA: 4:14 - loss: 0.0894 - acc: 0.989 - ETA: 4:14 - loss: 0.0894 - acc: 0.989 - ETA: 4:13 - loss: 0.0894 - acc: 0.989 - ETA: 4:13 - loss: 0.0894 - acc: 0.989 - ETA: 4:12 - loss: 0.0893 - acc: 0.989 - ETA: 4:12 - loss: 0.0893 - acc: 0.990 - ETA: 4:11 - loss: 0.0892 - acc: 0.990 - ETA: 4:11 - loss: 0.0891 - acc: 0.990 - ETA: 4:10 - loss: 0.0892 - acc: 0.990 - ETA: 4:10 - loss: 0.0891 - acc: 0.990 - ETA: 4:10 - loss: 0.0891 - acc: 0.990 - ETA: 4:09 - loss: 0.0891 - acc: 0.990 - ETA: 4:09 - loss: 0.0891 - acc: 0.990 - ETA: 4:08 - loss: 0.0892 - acc: 0.990 - ETA: 4:08 - loss: 0.0891 - acc: 0.990 - ETA: 4:07 - loss: 0.0891 - acc: 0.990 - ETA: 4:07 - loss: 0.0891 - acc: 0.990 - ETA: 4:06 - loss: 0.0891 - acc: 0.990 - ETA: 4:06 - loss: 0.0892 - acc: 0.990 - ETA: 4:06 - loss: 0.0891 - acc: 0.990 - ETA: 4:05 - loss: 0.0892 - acc: 0.990 - ETA: 4:05 - loss: 0.0891 - acc: 0.990 - ETA: 4:04 - loss: 0.0891 - acc: 0.990 - ETA: 4:04 - loss: 0.0891 - acc: 0.990 - ETA: 4:03 - loss: 0.0890 - acc: 0.990 - ETA: 4:03 - loss: 0.0890 - acc: 0.990 - ETA: 4:03 - loss: 0.0891 - acc: 0.990 - ETA: 4:02 - loss: 0.0891 - acc: 0.990 - ETA: 4:02 - loss: 0.0891 - acc: 0.990 - ETA: 4:01 - loss: 0.0890 - acc: 0.990 - ETA: 4:01 - loss: 0.0890 - acc: 0.990 - ETA: 4:00 - loss: 0.0890 - acc: 0.990 - ETA: 4:00 - loss: 0.0890 - acc: 0.990 - ETA: 4:00 - loss: 0.0889 - acc: 0.990 - ETA: 3:59 - loss: 0.0889 - acc: 0.990 - ETA: 3:59 - loss: 0.0889 - acc: 0.990 - ETA: 3:58 - loss: 0.0889 - acc: 0.990 - ETA: 3:58 - loss: 0.0888 - acc: 0.990 - ETA: 3:57 - loss: 0.0888 - acc: 0.990 - ETA: 3:57 - loss: 0.0887 - acc: 0.990 - ETA: 3:57 - loss: 0.0887 - acc: 0.990 - ETA: 3:56 - loss: 0.0887 - acc: 0.990 - ETA: 3:56 - loss: 0.0888 - acc: 0.990 - ETA: 3:55 - loss: 0.0888 - acc: 0.990 - ETA: 3:55 - loss: 0.0888 - acc: 0.990 - ETA: 3:55 - loss: 0.0889 - acc: 0.990 - ETA: 3:54 - loss: 0.0888 - acc: 0.990 - ETA: 3:54 - loss: 0.0888 - acc: 0.9900"
     ]
    },
    {
     "name": "stdout",
     "output_type": "stream",
     "text": [
      "4888/8140 [=================>............] - ETA: 3:53 - loss: 0.0888 - acc: 0.990 - ETA: 3:53 - loss: 0.0888 - acc: 0.990 - ETA: 3:52 - loss: 0.0887 - acc: 0.990 - ETA: 3:52 - loss: 0.0887 - acc: 0.990 - ETA: 3:52 - loss: 0.0887 - acc: 0.990 - ETA: 3:51 - loss: 0.0887 - acc: 0.990 - ETA: 3:51 - loss: 0.0887 - acc: 0.990 - ETA: 3:50 - loss: 0.0887 - acc: 0.990 - ETA: 3:50 - loss: 0.0887 - acc: 0.990 - ETA: 3:50 - loss: 0.0886 - acc: 0.990 - ETA: 3:49 - loss: 0.0885 - acc: 0.990 - ETA: 3:49 - loss: 0.0885 - acc: 0.990 - ETA: 3:48 - loss: 0.0886 - acc: 0.990 - ETA: 3:48 - loss: 0.0886 - acc: 0.990 - ETA: 3:48 - loss: 0.0886 - acc: 0.990 - ETA: 3:47 - loss: 0.0887 - acc: 0.990 - ETA: 3:47 - loss: 0.0887 - acc: 0.990 - ETA: 3:46 - loss: 0.0886 - acc: 0.990 - ETA: 3:46 - loss: 0.0886 - acc: 0.990 - ETA: 3:46 - loss: 0.0886 - acc: 0.990 - ETA: 3:45 - loss: 0.0885 - acc: 0.990 - ETA: 3:45 - loss: 0.0885 - acc: 0.990 - ETA: 3:44 - loss: 0.0885 - acc: 0.990 - ETA: 3:44 - loss: 0.0884 - acc: 0.990 - ETA: 3:44 - loss: 0.0884 - acc: 0.990 - ETA: 3:43 - loss: 0.0884 - acc: 0.990 - ETA: 3:43 - loss: 0.0885 - acc: 0.990 - ETA: 3:42 - loss: 0.0885 - acc: 0.990 - ETA: 3:42 - loss: 0.0885 - acc: 0.990 - ETA: 3:42 - loss: 0.0884 - acc: 0.990 - ETA: 3:41 - loss: 0.0884 - acc: 0.990 - ETA: 3:41 - loss: 0.0884 - acc: 0.990 - ETA: 3:40 - loss: 0.0883 - acc: 0.990 - ETA: 3:40 - loss: 0.0884 - acc: 0.990 - ETA: 3:40 - loss: 0.0884 - acc: 0.990 - ETA: 3:39 - loss: 0.0884 - acc: 0.990 - ETA: 3:39 - loss: 0.0883 - acc: 0.990 - ETA: 3:38 - loss: 0.0883 - acc: 0.990 - ETA: 3:38 - loss: 0.0883 - acc: 0.990 - ETA: 3:38 - loss: 0.0883 - acc: 0.990 - ETA: 3:37 - loss: 0.0883 - acc: 0.990 - ETA: 3:37 - loss: 0.0883 - acc: 0.990 - ETA: 3:36 - loss: 0.0882 - acc: 0.990 - ETA: 3:36 - loss: 0.0882 - acc: 0.990 - ETA: 3:35 - loss: 0.0882 - acc: 0.990 - ETA: 3:35 - loss: 0.0882 - acc: 0.990 - ETA: 3:35 - loss: 0.0881 - acc: 0.990 - ETA: 3:34 - loss: 0.0881 - acc: 0.990 - ETA: 3:34 - loss: 0.0881 - acc: 0.990 - ETA: 3:33 - loss: 0.0881 - acc: 0.990 - ETA: 3:33 - loss: 0.0881 - acc: 0.990 - ETA: 3:33 - loss: 0.0880 - acc: 0.990 - ETA: 3:32 - loss: 0.0880 - acc: 0.990 - ETA: 3:32 - loss: 0.0880 - acc: 0.990 - ETA: 3:31 - loss: 0.0880 - acc: 0.990 - ETA: 3:31 - loss: 0.0880 - acc: 0.990 - ETA: 3:30 - loss: 0.0880 - acc: 0.990 - ETA: 3:30 - loss: 0.0879 - acc: 0.990 - ETA: 3:30 - loss: 0.0879 - acc: 0.990 - ETA: 3:29 - loss: 0.0879 - acc: 0.990 - ETA: 3:29 - loss: 0.0879 - acc: 0.990 - ETA: 3:28 - loss: 0.0880 - acc: 0.990 - ETA: 3:28 - loss: 0.0880 - acc: 0.990 - ETA: 3:28 - loss: 0.0880 - acc: 0.990 - ETA: 3:27 - loss: 0.0880 - acc: 0.990 - ETA: 3:27 - loss: 0.0881 - acc: 0.990 - ETA: 3:26 - loss: 0.0881 - acc: 0.990 - ETA: 3:26 - loss: 0.0882 - acc: 0.990 - ETA: 3:26 - loss: 0.0882 - acc: 0.990 - ETA: 3:25 - loss: 0.0883 - acc: 0.990 - ETA: 3:25 - loss: 0.0882 - acc: 0.990 - ETA: 3:24 - loss: 0.0882 - acc: 0.990 - ETA: 3:24 - loss: 0.0882 - acc: 0.990 - ETA: 3:24 - loss: 0.0882 - acc: 0.990 - ETA: 3:23 - loss: 0.0882 - acc: 0.990 - ETA: 3:23 - loss: 0.0881 - acc: 0.990 - ETA: 3:22 - loss: 0.0881 - acc: 0.990 - ETA: 3:22 - loss: 0.0881 - acc: 0.990 - ETA: 3:22 - loss: 0.0881 - acc: 0.990 - ETA: 3:21 - loss: 0.0880 - acc: 0.990 - ETA: 3:21 - loss: 0.0880 - acc: 0.990 - ETA: 3:20 - loss: 0.0880 - acc: 0.990 - ETA: 3:20 - loss: 0.0880 - acc: 0.990 - ETA: 3:20 - loss: 0.0880 - acc: 0.990 - ETA: 3:19 - loss: 0.0881 - acc: 0.990 - ETA: 3:19 - loss: 0.0881 - acc: 0.990 - ETA: 3:18 - loss: 0.0881 - acc: 0.990 - ETA: 3:18 - loss: 0.0881 - acc: 0.990 - ETA: 3:18 - loss: 0.0881 - acc: 0.990 - ETA: 3:17 - loss: 0.0881 - acc: 0.990 - ETA: 3:17 - loss: 0.0881 - acc: 0.990 - ETA: 3:16 - loss: 0.0880 - acc: 0.990 - ETA: 3:16 - loss: 0.0880 - acc: 0.990 - ETA: 3:16 - loss: 0.0880 - acc: 0.990 - ETA: 3:15 - loss: 0.0880 - acc: 0.990 - ETA: 3:15 - loss: 0.0880 - acc: 0.990 - ETA: 3:15 - loss: 0.0880 - acc: 0.990 - ETA: 3:14 - loss: 0.0879 - acc: 0.990 - ETA: 3:14 - loss: 0.0879 - acc: 0.990 - ETA: 3:13 - loss: 0.0879 - acc: 0.990 - ETA: 3:13 - loss: 0.0879 - acc: 0.990 - ETA: 3:13 - loss: 0.0879 - acc: 0.990 - ETA: 3:12 - loss: 0.0879 - acc: 0.990 - ETA: 3:12 - loss: 0.0878 - acc: 0.990 - ETA: 3:11 - loss: 0.0879 - acc: 0.990 - ETA: 3:11 - loss: 0.0879 - acc: 0.990 - ETA: 3:11 - loss: 0.0878 - acc: 0.990 - ETA: 3:10 - loss: 0.0878 - acc: 0.990 - ETA: 3:10 - loss: 0.0878 - acc: 0.990 - ETA: 3:09 - loss: 0.0879 - acc: 0.990 - ETA: 3:09 - loss: 0.0879 - acc: 0.990 - ETA: 3:09 - loss: 0.0878 - acc: 0.990 - ETA: 3:08 - loss: 0.0878 - acc: 0.990 - ETA: 3:08 - loss: 0.0878 - acc: 0.990 - ETA: 3:07 - loss: 0.0878 - acc: 0.990 - ETA: 3:07 - loss: 0.0877 - acc: 0.990 - ETA: 3:07 - loss: 0.0877 - acc: 0.990 - ETA: 3:06 - loss: 0.0877 - acc: 0.990 - ETA: 3:06 - loss: 0.0877 - acc: 0.990 - ETA: 3:06 - loss: 0.0877 - acc: 0.990 - ETA: 3:05 - loss: 0.0877 - acc: 0.990 - ETA: 3:05 - loss: 0.0878 - acc: 0.990 - ETA: 3:04 - loss: 0.0877 - acc: 0.990 - ETA: 3:04 - loss: 0.0877 - acc: 0.990 - ETA: 3:04 - loss: 0.0877 - acc: 0.990 - ETA: 3:03 - loss: 0.0877 - acc: 0.990 - ETA: 3:03 - loss: 0.0876 - acc: 0.990 - ETA: 3:02 - loss: 0.0876 - acc: 0.990 - ETA: 3:02 - loss: 0.0876 - acc: 0.990 - ETA: 3:02 - loss: 0.0876 - acc: 0.990 - ETA: 3:01 - loss: 0.0875 - acc: 0.990 - ETA: 3:01 - loss: 0.0875 - acc: 0.990 - ETA: 3:00 - loss: 0.0875 - acc: 0.990 - ETA: 3:00 - loss: 0.0876 - acc: 0.990 - ETA: 3:00 - loss: 0.0876 - acc: 0.990 - ETA: 2:59 - loss: 0.0875 - acc: 0.990 - ETA: 2:59 - loss: 0.0875 - acc: 0.990 - ETA: 2:58 - loss: 0.0875 - acc: 0.990 - ETA: 2:58 - loss: 0.0875 - acc: 0.990 - ETA: 2:58 - loss: 0.0875 - acc: 0.990 - ETA: 2:57 - loss: 0.0875 - acc: 0.990 - ETA: 2:57 - loss: 0.0875 - acc: 0.990 - ETA: 2:56 - loss: 0.0875 - acc: 0.990 - ETA: 2:56 - loss: 0.0874 - acc: 0.990 - ETA: 2:56 - loss: 0.0874 - acc: 0.990 - ETA: 2:55 - loss: 0.0874 - acc: 0.990 - ETA: 2:55 - loss: 0.0874 - acc: 0.990 - ETA: 2:54 - loss: 0.0873 - acc: 0.990 - ETA: 2:54 - loss: 0.0873 - acc: 0.990 - ETA: 2:54 - loss: 0.0874 - acc: 0.990 - ETA: 2:53 - loss: 0.0874 - acc: 0.990 - ETA: 2:53 - loss: 0.0874 - acc: 0.990 - ETA: 2:52 - loss: 0.0873 - acc: 0.990 - ETA: 2:52 - loss: 0.0874 - acc: 0.990 - ETA: 2:52 - loss: 0.0874 - acc: 0.990 - ETA: 2:51 - loss: 0.0874 - acc: 0.990 - ETA: 2:51 - loss: 0.0874 - acc: 0.990 - ETA: 2:50 - loss: 0.0874 - acc: 0.990 - ETA: 2:50 - loss: 0.0873 - acc: 0.990 - ETA: 2:50 - loss: 0.0873 - acc: 0.990 - ETA: 2:49 - loss: 0.0873 - acc: 0.990 - ETA: 2:49 - loss: 0.0873 - acc: 0.990 - ETA: 2:49 - loss: 0.0873 - acc: 0.990 - ETA: 2:48 - loss: 0.0872 - acc: 0.990 - ETA: 2:48 - loss: 0.0872 - acc: 0.990 - ETA: 2:47 - loss: 0.0872 - acc: 0.990 - ETA: 2:47 - loss: 0.0872 - acc: 0.990 - ETA: 2:47 - loss: 0.0872 - acc: 0.990 - ETA: 2:46 - loss: 0.0872 - acc: 0.990 - ETA: 2:46 - loss: 0.0871 - acc: 0.990 - ETA: 2:45 - loss: 0.0871 - acc: 0.990 - ETA: 2:45 - loss: 0.0871 - acc: 0.990 - ETA: 2:45 - loss: 0.0871 - acc: 0.990 - ETA: 2:44 - loss: 0.0871 - acc: 0.990 - ETA: 2:44 - loss: 0.0870 - acc: 0.990 - ETA: 2:43 - loss: 0.0870 - acc: 0.990 - ETA: 2:43 - loss: 0.0870 - acc: 0.990 - ETA: 2:43 - loss: 0.0869 - acc: 0.990 - ETA: 2:42 - loss: 0.0869 - acc: 0.990 - ETA: 2:42 - loss: 0.0869 - acc: 0.990 - ETA: 2:42 - loss: 0.0868 - acc: 0.990 - ETA: 2:41 - loss: 0.0868 - acc: 0.990 - ETA: 2:41 - loss: 0.0867 - acc: 0.990 - ETA: 2:40 - loss: 0.0867 - acc: 0.990 - ETA: 2:40 - loss: 0.0866 - acc: 0.990 - ETA: 2:40 - loss: 0.0866 - acc: 0.990 - ETA: 2:39 - loss: 0.0866 - acc: 0.990 - ETA: 2:39 - loss: 0.0865 - acc: 0.990 - ETA: 2:38 - loss: 0.0865 - acc: 0.990 - ETA: 2:38 - loss: 0.0865 - acc: 0.990 - ETA: 2:38 - loss: 0.0864 - acc: 0.990 - ETA: 2:37 - loss: 0.0864 - acc: 0.990 - ETA: 2:37 - loss: 0.0864 - acc: 0.990 - ETA: 2:37 - loss: 0.0863 - acc: 0.990 - ETA: 2:36 - loss: 0.0863 - acc: 0.990 - ETA: 2:36 - loss: 0.0863 - acc: 0.990 - ETA: 2:35 - loss: 0.0862 - acc: 0.990 - ETA: 2:35 - loss: 0.0861 - acc: 0.990 - ETA: 2:35 - loss: 0.0861 - acc: 0.990 - ETA: 2:34 - loss: 0.0860 - acc: 0.990 - ETA: 2:34 - loss: 0.0860 - acc: 0.990 - ETA: 2:34 - loss: 0.0859 - acc: 0.990 - ETA: 2:33 - loss: 0.0858 - acc: 0.990 - ETA: 2:33 - loss: 0.0858 - acc: 0.9901"
     ]
    },
    {
     "name": "stdout",
     "output_type": "stream",
     "text": [
      "6520/8140 [=======================>......] - ETA: 2:32 - loss: 0.0857 - acc: 0.990 - ETA: 2:32 - loss: 0.0857 - acc: 0.990 - ETA: 2:32 - loss: 0.0856 - acc: 0.990 - ETA: 2:31 - loss: 0.0856 - acc: 0.990 - ETA: 2:31 - loss: 0.0855 - acc: 0.990 - ETA: 2:30 - loss: 0.0855 - acc: 0.990 - ETA: 2:30 - loss: 0.0854 - acc: 0.990 - ETA: 2:30 - loss: 0.0853 - acc: 0.990 - ETA: 2:29 - loss: 0.0853 - acc: 0.990 - ETA: 2:29 - loss: 0.0852 - acc: 0.990 - ETA: 2:28 - loss: 0.0852 - acc: 0.990 - ETA: 2:28 - loss: 0.0851 - acc: 0.990 - ETA: 2:28 - loss: 0.0850 - acc: 0.990 - ETA: 2:27 - loss: 0.0850 - acc: 0.990 - ETA: 2:27 - loss: 0.0849 - acc: 0.990 - ETA: 2:26 - loss: 0.0849 - acc: 0.990 - ETA: 2:26 - loss: 0.0848 - acc: 0.990 - ETA: 2:26 - loss: 0.0848 - acc: 0.990 - ETA: 2:25 - loss: 0.0847 - acc: 0.990 - ETA: 2:25 - loss: 0.0846 - acc: 0.990 - ETA: 2:25 - loss: 0.0846 - acc: 0.990 - ETA: 2:24 - loss: 0.0845 - acc: 0.990 - ETA: 2:24 - loss: 0.0845 - acc: 0.990 - ETA: 2:23 - loss: 0.0844 - acc: 0.990 - ETA: 2:23 - loss: 0.0844 - acc: 0.990 - ETA: 2:23 - loss: 0.0843 - acc: 0.990 - ETA: 2:22 - loss: 0.0843 - acc: 0.990 - ETA: 2:22 - loss: 0.0842 - acc: 0.990 - ETA: 2:21 - loss: 0.0841 - acc: 0.990 - ETA: 2:21 - loss: 0.0841 - acc: 0.990 - ETA: 2:21 - loss: 0.0840 - acc: 0.990 - ETA: 2:20 - loss: 0.0840 - acc: 0.990 - ETA: 2:20 - loss: 0.0839 - acc: 0.990 - ETA: 2:20 - loss: 0.0839 - acc: 0.990 - ETA: 2:19 - loss: 0.0838 - acc: 0.990 - ETA: 2:19 - loss: 0.0838 - acc: 0.990 - ETA: 2:18 - loss: 0.0837 - acc: 0.990 - ETA: 2:18 - loss: 0.0837 - acc: 0.990 - ETA: 2:18 - loss: 0.0836 - acc: 0.990 - ETA: 2:17 - loss: 0.0835 - acc: 0.990 - ETA: 2:17 - loss: 0.0835 - acc: 0.990 - ETA: 2:16 - loss: 0.0834 - acc: 0.990 - ETA: 2:16 - loss: 0.0834 - acc: 0.990 - ETA: 2:16 - loss: 0.0833 - acc: 0.990 - ETA: 2:15 - loss: 0.0833 - acc: 0.990 - ETA: 2:15 - loss: 0.0832 - acc: 0.990 - ETA: 2:15 - loss: 0.0832 - acc: 0.990 - ETA: 2:14 - loss: 0.0831 - acc: 0.990 - ETA: 2:14 - loss: 0.0831 - acc: 0.990 - ETA: 2:13 - loss: 0.0830 - acc: 0.990 - ETA: 2:13 - loss: 0.0830 - acc: 0.990 - ETA: 2:13 - loss: 0.0829 - acc: 0.990 - ETA: 2:12 - loss: 0.0829 - acc: 0.990 - ETA: 2:12 - loss: 0.0828 - acc: 0.990 - ETA: 2:12 - loss: 0.0828 - acc: 0.990 - ETA: 2:11 - loss: 0.0827 - acc: 0.990 - ETA: 2:11 - loss: 0.0827 - acc: 0.990 - ETA: 2:10 - loss: 0.0826 - acc: 0.990 - ETA: 2:10 - loss: 0.0826 - acc: 0.990 - ETA: 2:10 - loss: 0.0825 - acc: 0.990 - ETA: 2:09 - loss: 0.0825 - acc: 0.990 - ETA: 2:09 - loss: 0.0824 - acc: 0.990 - ETA: 2:08 - loss: 0.0824 - acc: 0.990 - ETA: 2:08 - loss: 0.0823 - acc: 0.990 - ETA: 2:08 - loss: 0.0823 - acc: 0.990 - ETA: 2:07 - loss: 0.0822 - acc: 0.990 - ETA: 2:07 - loss: 0.0822 - acc: 0.990 - ETA: 2:07 - loss: 0.0821 - acc: 0.990 - ETA: 2:06 - loss: 0.0821 - acc: 0.990 - ETA: 2:06 - loss: 0.0820 - acc: 0.990 - ETA: 2:05 - loss: 0.0820 - acc: 0.990 - ETA: 2:05 - loss: 0.0819 - acc: 0.990 - ETA: 2:05 - loss: 0.0819 - acc: 0.990 - ETA: 2:04 - loss: 0.0818 - acc: 0.990 - ETA: 2:04 - loss: 0.0818 - acc: 0.990 - ETA: 2:04 - loss: 0.0817 - acc: 0.990 - ETA: 2:03 - loss: 0.0817 - acc: 0.990 - ETA: 2:03 - loss: 0.0816 - acc: 0.990 - ETA: 2:02 - loss: 0.0816 - acc: 0.990 - ETA: 2:02 - loss: 0.0815 - acc: 0.990 - ETA: 2:02 - loss: 0.0815 - acc: 0.990 - ETA: 2:01 - loss: 0.0814 - acc: 0.990 - ETA: 2:01 - loss: 0.0814 - acc: 0.990 - ETA: 2:01 - loss: 0.0813 - acc: 0.990 - ETA: 2:00 - loss: 0.0813 - acc: 0.990 - ETA: 2:00 - loss: 0.0812 - acc: 0.990 - ETA: 1:59 - loss: 0.0812 - acc: 0.990 - ETA: 1:59 - loss: 0.0812 - acc: 0.990 - ETA: 1:59 - loss: 0.0811 - acc: 0.990 - ETA: 1:58 - loss: 0.0811 - acc: 0.990 - ETA: 1:58 - loss: 0.0810 - acc: 0.990 - ETA: 1:57 - loss: 0.0810 - acc: 0.990 - ETA: 1:57 - loss: 0.0809 - acc: 0.990 - ETA: 1:57 - loss: 0.0809 - acc: 0.990 - ETA: 1:56 - loss: 0.0808 - acc: 0.990 - ETA: 1:56 - loss: 0.0808 - acc: 0.990 - ETA: 1:56 - loss: 0.0807 - acc: 0.990 - ETA: 1:55 - loss: 0.0807 - acc: 0.990 - ETA: 1:55 - loss: 0.0806 - acc: 0.990 - ETA: 1:54 - loss: 0.0806 - acc: 0.990 - ETA: 1:54 - loss: 0.0806 - acc: 0.990 - ETA: 1:54 - loss: 0.0805 - acc: 0.990 - ETA: 1:53 - loss: 0.0805 - acc: 0.990 - ETA: 1:53 - loss: 0.0804 - acc: 0.990 - ETA: 1:52 - loss: 0.0804 - acc: 0.990 - ETA: 1:52 - loss: 0.0803 - acc: 0.990 - ETA: 1:52 - loss: 0.0803 - acc: 0.990 - ETA: 1:51 - loss: 0.0802 - acc: 0.990 - ETA: 1:51 - loss: 0.0802 - acc: 0.990 - ETA: 1:51 - loss: 0.0802 - acc: 0.990 - ETA: 1:50 - loss: 0.0801 - acc: 0.990 - ETA: 1:50 - loss: 0.0801 - acc: 0.990 - ETA: 1:49 - loss: 0.0800 - acc: 0.990 - ETA: 1:49 - loss: 0.0800 - acc: 0.990 - ETA: 1:49 - loss: 0.0799 - acc: 0.990 - ETA: 1:48 - loss: 0.0799 - acc: 0.990 - ETA: 1:48 - loss: 0.0798 - acc: 0.990 - ETA: 1:48 - loss: 0.0798 - acc: 0.990 - ETA: 1:47 - loss: 0.0798 - acc: 0.990 - ETA: 1:47 - loss: 0.0797 - acc: 0.990 - ETA: 1:46 - loss: 0.0797 - acc: 0.990 - ETA: 1:46 - loss: 0.0796 - acc: 0.990 - ETA: 1:46 - loss: 0.0796 - acc: 0.990 - ETA: 1:45 - loss: 0.0796 - acc: 0.990 - ETA: 1:45 - loss: 0.0795 - acc: 0.990 - ETA: 1:44 - loss: 0.0795 - acc: 0.990 - ETA: 1:44 - loss: 0.0794 - acc: 0.990 - ETA: 1:44 - loss: 0.0794 - acc: 0.990 - ETA: 1:43 - loss: 0.0793 - acc: 0.990 - ETA: 1:43 - loss: 0.0793 - acc: 0.990 - ETA: 1:43 - loss: 0.0793 - acc: 0.990 - ETA: 1:42 - loss: 0.0792 - acc: 0.990 - ETA: 1:42 - loss: 0.0792 - acc: 0.990 - ETA: 1:41 - loss: 0.0791 - acc: 0.990 - ETA: 1:41 - loss: 0.0791 - acc: 0.990 - ETA: 1:41 - loss: 0.0791 - acc: 0.990 - ETA: 1:40 - loss: 0.0790 - acc: 0.990 - ETA: 1:40 - loss: 0.0790 - acc: 0.990 - ETA: 1:40 - loss: 0.0789 - acc: 0.990 - ETA: 1:39 - loss: 0.0789 - acc: 0.990 - ETA: 1:39 - loss: 0.0789 - acc: 0.990 - ETA: 1:38 - loss: 0.0788 - acc: 0.990 - ETA: 1:38 - loss: 0.0788 - acc: 0.990 - ETA: 1:38 - loss: 0.0787 - acc: 0.990 - ETA: 1:37 - loss: 0.0787 - acc: 0.990 - ETA: 1:37 - loss: 0.0787 - acc: 0.990 - ETA: 1:37 - loss: 0.0786 - acc: 0.990 - ETA: 1:36 - loss: 0.0786 - acc: 0.990 - ETA: 1:36 - loss: 0.0785 - acc: 0.990 - ETA: 1:35 - loss: 0.0785 - acc: 0.990 - ETA: 1:35 - loss: 0.0785 - acc: 0.990 - ETA: 1:35 - loss: 0.0784 - acc: 0.990 - ETA: 1:34 - loss: 0.0784 - acc: 0.990 - ETA: 1:34 - loss: 0.0783 - acc: 0.990 - ETA: 1:34 - loss: 0.0783 - acc: 0.990 - ETA: 1:33 - loss: 0.0783 - acc: 0.990 - ETA: 1:33 - loss: 0.0782 - acc: 0.990 - ETA: 1:32 - loss: 0.0782 - acc: 0.990 - ETA: 1:32 - loss: 0.0782 - acc: 0.990 - ETA: 1:32 - loss: 0.0781 - acc: 0.990 - ETA: 1:31 - loss: 0.0781 - acc: 0.990 - ETA: 1:31 - loss: 0.0780 - acc: 0.990 - ETA: 1:31 - loss: 0.0780 - acc: 0.990 - ETA: 1:30 - loss: 0.0780 - acc: 0.990 - ETA: 1:30 - loss: 0.0779 - acc: 0.990 - ETA: 1:29 - loss: 0.0779 - acc: 0.990 - ETA: 1:29 - loss: 0.0778 - acc: 0.990 - ETA: 1:29 - loss: 0.0778 - acc: 0.990 - ETA: 1:28 - loss: 0.0778 - acc: 0.990 - ETA: 1:28 - loss: 0.0777 - acc: 0.990 - ETA: 1:27 - loss: 0.0777 - acc: 0.990 - ETA: 1:27 - loss: 0.0777 - acc: 0.990 - ETA: 1:27 - loss: 0.0776 - acc: 0.990 - ETA: 1:26 - loss: 0.0776 - acc: 0.990 - ETA: 1:26 - loss: 0.0775 - acc: 0.990 - ETA: 1:26 - loss: 0.0775 - acc: 0.990 - ETA: 1:25 - loss: 0.0775 - acc: 0.990 - ETA: 1:25 - loss: 0.0774 - acc: 0.990 - ETA: 1:24 - loss: 0.0774 - acc: 0.990 - ETA: 1:24 - loss: 0.0774 - acc: 0.990 - ETA: 1:24 - loss: 0.0773 - acc: 0.990 - ETA: 1:23 - loss: 0.0773 - acc: 0.990 - ETA: 1:23 - loss: 0.0773 - acc: 0.990 - ETA: 1:23 - loss: 0.0772 - acc: 0.990 - ETA: 1:22 - loss: 0.0772 - acc: 0.990 - ETA: 1:22 - loss: 0.0772 - acc: 0.990 - ETA: 1:21 - loss: 0.0771 - acc: 0.990 - ETA: 1:21 - loss: 0.0771 - acc: 0.990 - ETA: 1:21 - loss: 0.0771 - acc: 0.990 - ETA: 1:20 - loss: 0.0770 - acc: 0.990 - ETA: 1:20 - loss: 0.0770 - acc: 0.990 - ETA: 1:20 - loss: 0.0770 - acc: 0.990 - ETA: 1:19 - loss: 0.0769 - acc: 0.990 - ETA: 1:19 - loss: 0.0769 - acc: 0.990 - ETA: 1:18 - loss: 0.0768 - acc: 0.990 - ETA: 1:18 - loss: 0.0768 - acc: 0.990 - ETA: 1:18 - loss: 0.0768 - acc: 0.990 - ETA: 1:17 - loss: 0.0767 - acc: 0.990 - ETA: 1:17 - loss: 0.0767 - acc: 0.990 - ETA: 1:17 - loss: 0.0767 - acc: 0.990 - ETA: 1:16 - loss: 0.0766 - acc: 0.990 - ETA: 1:16 - loss: 0.0766 - acc: 0.990 - ETA: 1:15 - loss: 0.0766 - acc: 0.990 - ETA: 1:15 - loss: 0.0765 - acc: 0.9905"
     ]
    },
    {
     "name": "stdout",
     "output_type": "stream",
     "text": [
      "8140/8140 [==============================] - ETA: 1:15 - loss: 0.0765 - acc: 0.990 - ETA: 1:14 - loss: 0.0765 - acc: 0.990 - ETA: 1:14 - loss: 0.0764 - acc: 0.990 - ETA: 1:14 - loss: 0.0764 - acc: 0.990 - ETA: 1:13 - loss: 0.0764 - acc: 0.990 - ETA: 1:13 - loss: 0.0763 - acc: 0.990 - ETA: 1:12 - loss: 0.0763 - acc: 0.990 - ETA: 1:12 - loss: 0.0763 - acc: 0.990 - ETA: 1:12 - loss: 0.0762 - acc: 0.990 - ETA: 1:11 - loss: 0.0762 - acc: 0.990 - ETA: 1:11 - loss: 0.0762 - acc: 0.990 - ETA: 1:11 - loss: 0.0761 - acc: 0.990 - ETA: 1:10 - loss: 0.0761 - acc: 0.990 - ETA: 1:10 - loss: 0.0761 - acc: 0.990 - ETA: 1:09 - loss: 0.0760 - acc: 0.990 - ETA: 1:09 - loss: 0.0760 - acc: 0.990 - ETA: 1:09 - loss: 0.0760 - acc: 0.990 - ETA: 1:08 - loss: 0.0759 - acc: 0.990 - ETA: 1:08 - loss: 0.0759 - acc: 0.990 - ETA: 1:08 - loss: 0.0759 - acc: 0.990 - ETA: 1:07 - loss: 0.0758 - acc: 0.990 - ETA: 1:07 - loss: 0.0758 - acc: 0.990 - ETA: 1:06 - loss: 0.0758 - acc: 0.990 - ETA: 1:06 - loss: 0.0757 - acc: 0.990 - ETA: 1:06 - loss: 0.0757 - acc: 0.990 - ETA: 1:05 - loss: 0.0757 - acc: 0.990 - ETA: 1:05 - loss: 0.0756 - acc: 0.990 - ETA: 1:05 - loss: 0.0756 - acc: 0.990 - ETA: 1:04 - loss: 0.0756 - acc: 0.990 - ETA: 1:04 - loss: 0.0755 - acc: 0.990 - ETA: 1:03 - loss: 0.0755 - acc: 0.990 - ETA: 1:03 - loss: 0.0755 - acc: 0.990 - ETA: 1:03 - loss: 0.0754 - acc: 0.990 - ETA: 1:02 - loss: 0.0754 - acc: 0.990 - ETA: 1:02 - loss: 0.0754 - acc: 0.990 - ETA: 1:02 - loss: 0.0753 - acc: 0.990 - ETA: 1:01 - loss: 0.0753 - acc: 0.990 - ETA: 1:01 - loss: 0.0753 - acc: 0.990 - ETA: 1:00 - loss: 0.0752 - acc: 0.990 - ETA: 1:00 - loss: 0.0752 - acc: 0.990 - ETA: 1:00 - loss: 0.0752 - acc: 0.990 - ETA: 59s - loss: 0.0752 - acc: 0.990 - ETA: 59s - loss: 0.0751 - acc: 0.99 - ETA: 59s - loss: 0.0751 - acc: 0.99 - ETA: 58s - loss: 0.0751 - acc: 0.99 - ETA: 58s - loss: 0.0750 - acc: 0.99 - ETA: 57s - loss: 0.0750 - acc: 0.99 - ETA: 57s - loss: 0.0750 - acc: 0.99 - ETA: 57s - loss: 0.0749 - acc: 0.99 - ETA: 56s - loss: 0.0749 - acc: 0.99 - ETA: 56s - loss: 0.0749 - acc: 0.99 - ETA: 56s - loss: 0.0748 - acc: 0.99 - ETA: 55s - loss: 0.0748 - acc: 0.99 - ETA: 55s - loss: 0.0748 - acc: 0.99 - ETA: 54s - loss: 0.0748 - acc: 0.99 - ETA: 54s - loss: 0.0747 - acc: 0.99 - ETA: 54s - loss: 0.0747 - acc: 0.99 - ETA: 53s - loss: 0.0747 - acc: 0.99 - ETA: 53s - loss: 0.0746 - acc: 0.99 - ETA: 53s - loss: 0.0746 - acc: 0.99 - ETA: 52s - loss: 0.0746 - acc: 0.99 - ETA: 52s - loss: 0.0745 - acc: 0.99 - ETA: 51s - loss: 0.0745 - acc: 0.99 - ETA: 51s - loss: 0.0745 - acc: 0.99 - ETA: 51s - loss: 0.0745 - acc: 0.99 - ETA: 50s - loss: 0.0744 - acc: 0.99 - ETA: 50s - loss: 0.0744 - acc: 0.99 - ETA: 50s - loss: 0.0744 - acc: 0.99 - ETA: 49s - loss: 0.0743 - acc: 0.99 - ETA: 49s - loss: 0.0743 - acc: 0.99 - ETA: 48s - loss: 0.0743 - acc: 0.99 - ETA: 48s - loss: 0.0742 - acc: 0.99 - ETA: 48s - loss: 0.0742 - acc: 0.99 - ETA: 47s - loss: 0.0742 - acc: 0.99 - ETA: 47s - loss: 0.0742 - acc: 0.99 - ETA: 47s - loss: 0.0741 - acc: 0.99 - ETA: 46s - loss: 0.0741 - acc: 0.99 - ETA: 46s - loss: 0.0741 - acc: 0.99 - ETA: 45s - loss: 0.0740 - acc: 0.99 - ETA: 45s - loss: 0.0740 - acc: 0.99 - ETA: 45s - loss: 0.0740 - acc: 0.99 - ETA: 44s - loss: 0.0740 - acc: 0.99 - ETA: 44s - loss: 0.0739 - acc: 0.99 - ETA: 44s - loss: 0.0739 - acc: 0.99 - ETA: 43s - loss: 0.0739 - acc: 0.99 - ETA: 43s - loss: 0.0738 - acc: 0.99 - ETA: 42s - loss: 0.0738 - acc: 0.99 - ETA: 42s - loss: 0.0738 - acc: 0.99 - ETA: 42s - loss: 0.0738 - acc: 0.99 - ETA: 41s - loss: 0.0737 - acc: 0.99 - ETA: 41s - loss: 0.0737 - acc: 0.99 - ETA: 41s - loss: 0.0737 - acc: 0.99 - ETA: 40s - loss: 0.0737 - acc: 0.99 - ETA: 40s - loss: 0.0736 - acc: 0.99 - ETA: 39s - loss: 0.0736 - acc: 0.99 - ETA: 39s - loss: 0.0736 - acc: 0.99 - ETA: 39s - loss: 0.0735 - acc: 0.99 - ETA: 38s - loss: 0.0735 - acc: 0.99 - ETA: 38s - loss: 0.0735 - acc: 0.99 - ETA: 38s - loss: 0.0735 - acc: 0.99 - ETA: 37s - loss: 0.0734 - acc: 0.99 - ETA: 37s - loss: 0.0734 - acc: 0.99 - ETA: 36s - loss: 0.0734 - acc: 0.99 - ETA: 36s - loss: 0.0733 - acc: 0.99 - ETA: 36s - loss: 0.0733 - acc: 0.99 - ETA: 35s - loss: 0.0733 - acc: 0.99 - ETA: 35s - loss: 0.0733 - acc: 0.99 - ETA: 35s - loss: 0.0732 - acc: 0.99 - ETA: 34s - loss: 0.0732 - acc: 0.99 - ETA: 34s - loss: 0.0732 - acc: 0.99 - ETA: 33s - loss: 0.0732 - acc: 0.99 - ETA: 33s - loss: 0.0731 - acc: 0.99 - ETA: 33s - loss: 0.0731 - acc: 0.99 - ETA: 32s - loss: 0.0731 - acc: 0.99 - ETA: 32s - loss: 0.0730 - acc: 0.99 - ETA: 32s - loss: 0.0730 - acc: 0.99 - ETA: 31s - loss: 0.0730 - acc: 0.99 - ETA: 31s - loss: 0.0730 - acc: 0.99 - ETA: 31s - loss: 0.0730 - acc: 0.99 - ETA: 30s - loss: 0.0729 - acc: 0.99 - ETA: 30s - loss: 0.0729 - acc: 0.99 - ETA: 29s - loss: 0.0729 - acc: 0.99 - ETA: 29s - loss: 0.0729 - acc: 0.99 - ETA: 29s - loss: 0.0728 - acc: 0.99 - ETA: 28s - loss: 0.0728 - acc: 0.99 - ETA: 28s - loss: 0.0728 - acc: 0.99 - ETA: 28s - loss: 0.0728 - acc: 0.99 - ETA: 27s - loss: 0.0727 - acc: 0.99 - ETA: 27s - loss: 0.0727 - acc: 0.99 - ETA: 26s - loss: 0.0727 - acc: 0.99 - ETA: 26s - loss: 0.0726 - acc: 0.99 - ETA: 26s - loss: 0.0726 - acc: 0.99 - ETA: 25s - loss: 0.0726 - acc: 0.99 - ETA: 25s - loss: 0.0726 - acc: 0.99 - ETA: 25s - loss: 0.0725 - acc: 0.99 - ETA: 24s - loss: 0.0725 - acc: 0.99 - ETA: 24s - loss: 0.0725 - acc: 0.99 - ETA: 23s - loss: 0.0725 - acc: 0.99 - ETA: 23s - loss: 0.0724 - acc: 0.99 - ETA: 23s - loss: 0.0724 - acc: 0.99 - ETA: 22s - loss: 0.0724 - acc: 0.99 - ETA: 22s - loss: 0.0724 - acc: 0.99 - ETA: 22s - loss: 0.0723 - acc: 0.99 - ETA: 21s - loss: 0.0723 - acc: 0.99 - ETA: 21s - loss: 0.0723 - acc: 0.99 - ETA: 20s - loss: 0.0723 - acc: 0.99 - ETA: 20s - loss: 0.0722 - acc: 0.99 - ETA: 20s - loss: 0.0722 - acc: 0.99 - ETA: 19s - loss: 0.0722 - acc: 0.99 - ETA: 19s - loss: 0.0722 - acc: 0.99 - ETA: 19s - loss: 0.0721 - acc: 0.99 - ETA: 18s - loss: 0.0721 - acc: 0.99 - ETA: 18s - loss: 0.0721 - acc: 0.99 - ETA: 17s - loss: 0.0721 - acc: 0.99 - ETA: 17s - loss: 0.0720 - acc: 0.99 - ETA: 17s - loss: 0.0720 - acc: 0.99 - ETA: 16s - loss: 0.0720 - acc: 0.99 - ETA: 16s - loss: 0.0720 - acc: 0.99 - ETA: 16s - loss: 0.0720 - acc: 0.99 - ETA: 15s - loss: 0.0719 - acc: 0.99 - ETA: 15s - loss: 0.0719 - acc: 0.99 - ETA: 15s - loss: 0.0719 - acc: 0.99 - ETA: 14s - loss: 0.0719 - acc: 0.99 - ETA: 14s - loss: 0.0718 - acc: 0.99 - ETA: 13s - loss: 0.0718 - acc: 0.99 - ETA: 13s - loss: 0.0718 - acc: 0.99 - ETA: 13s - loss: 0.0718 - acc: 0.99 - ETA: 12s - loss: 0.0717 - acc: 0.99 - ETA: 12s - loss: 0.0717 - acc: 0.99 - ETA: 12s - loss: 0.0717 - acc: 0.99 - ETA: 11s - loss: 0.0717 - acc: 0.99 - ETA: 11s - loss: 0.0716 - acc: 0.99 - ETA: 10s - loss: 0.0716 - acc: 0.99 - ETA: 10s - loss: 0.0716 - acc: 0.99 - ETA: 10s - loss: 0.0716 - acc: 0.99 - ETA: 9s - loss: 0.0716 - acc: 0.9907 - ETA: 9s - loss: 0.0715 - acc: 0.990 - ETA: 9s - loss: 0.0715 - acc: 0.990 - ETA: 8s - loss: 0.0715 - acc: 0.990 - ETA: 8s - loss: 0.0715 - acc: 0.990 - ETA: 7s - loss: 0.0714 - acc: 0.990 - ETA: 7s - loss: 0.0714 - acc: 0.990 - ETA: 7s - loss: 0.0714 - acc: 0.990 - ETA: 6s - loss: 0.0714 - acc: 0.990 - ETA: 6s - loss: 0.0713 - acc: 0.990 - ETA: 6s - loss: 0.0713 - acc: 0.990 - ETA: 5s - loss: 0.0713 - acc: 0.990 - ETA: 5s - loss: 0.0713 - acc: 0.990 - ETA: 5s - loss: 0.0712 - acc: 0.990 - ETA: 4s - loss: 0.0712 - acc: 0.990 - ETA: 4s - loss: 0.0712 - acc: 0.990 - ETA: 3s - loss: 0.0712 - acc: 0.990 - ETA: 3s - loss: 0.0712 - acc: 0.990 - ETA: 3s - loss: 0.0711 - acc: 0.990 - ETA: 2s - loss: 0.0711 - acc: 0.990 - ETA: 2s - loss: 0.0711 - acc: 0.990 - ETA: 2s - loss: 0.0711 - acc: 0.990 - ETA: 1s - loss: 0.0710 - acc: 0.990 - ETA: 1s - loss: 0.0710 - acc: 0.990 - ETA: 0s - loss: 0.0710 - acc: 0.990 - ETA: 0s - loss: 0.0710 - acc: 0.990 - ETA: 0s - loss: 0.0710 - acc: 0.990 - 412s 51ms/step - loss: 0.0709 - acc: 0.9907 - val_loss: 0.0483 - val_acc: 0.9917\n"
     ]
    },
    {
     "data": {
      "text/plain": [
       "<keras.callbacks.History at 0x2485afb04a8>"
      ]
     },
     "execution_count": 16,
     "metadata": {},
     "output_type": "execute_result"
    }
   ],
   "source": [
    "model.compile(optimizer='rmsprop', loss='binary_crossentropy',metrics = [\"accuracy\"])\n",
    "model.fit(x = Xtr, y = ytr[:,1:], epochs = 1, batch_size = 8,validation_data = [Xv,yv[:,1:]])"
   ]
  },
  {
   "cell_type": "code",
   "execution_count": 17,
   "metadata": {
    "collapsed": true
   },
   "outputs": [],
   "source": [
    "model.save_weights('trained_weights_resenet50.h5')"
   ]
  },
  {
   "cell_type": "code",
   "execution_count": null,
   "metadata": {
    "collapsed": true
   },
   "outputs": [],
   "source": []
  }
 ],
 "metadata": {
  "kernelspec": {
   "display_name": "Python 3",
   "language": "python",
   "name": "python3"
  },
  "language_info": {
   "codemirror_mode": {
    "name": "ipython",
    "version": 3
   },
   "file_extension": ".py",
   "mimetype": "text/x-python",
   "name": "python",
   "nbconvert_exporter": "python",
   "pygments_lexer": "ipython3",
   "version": "3.5.2"
  }
 },
 "nbformat": 4,
 "nbformat_minor": 2
}
