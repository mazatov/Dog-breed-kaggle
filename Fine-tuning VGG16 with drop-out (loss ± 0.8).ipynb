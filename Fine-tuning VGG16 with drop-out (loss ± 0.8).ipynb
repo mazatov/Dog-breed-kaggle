{
 "cells": [
  {
   "cell_type": "code",
   "execution_count": 1,
   "metadata": {
    "collapsed": true
   },
   "outputs": [],
   "source": [
    "%matplotlib inline\n",
    "import matplotlib.pyplot as plt\n",
    "import matplotlib as mpl"
   ]
  },
  {
   "cell_type": "code",
   "execution_count": 2,
   "metadata": {},
   "outputs": [
    {
     "name": "stderr",
     "output_type": "stream",
     "text": [
      "c:\\users\\popeye\\appdata\\local\\programs\\python\\python35\\lib\\site-packages\\h5py\\__init__.py:36: FutureWarning: Conversion of the second argument of issubdtype from `float` to `np.floating` is deprecated. In future, it will be treated as `np.float64 == np.dtype(float).type`.\n",
      "  from ._conv import register_converters as _register_converters\n",
      "Using TensorFlow backend.\n"
     ]
    }
   ],
   "source": [
    "# Load keras\n",
    "import keras\n",
    "from keras.layers import Input, LSTM, Dense, Flatten, MaxPooling2D, Dropout, Activation, Conv2D\n",
    "from keras.layers.normalization import BatchNormalization\n",
    "from keras.models import Model\n",
    "from keras.applications.vgg16 import preprocess_input, decode_predictions\n",
    "from keras.models import model_from_json\n",
    "from keras.preprocessing.image import ImageDataGenerator"
   ]
  },
  {
   "cell_type": "code",
   "execution_count": 3,
   "metadata": {
    "collapsed": true
   },
   "outputs": [],
   "source": [
    "import os, fnmatch\n",
    "from skimage import io, transform\n",
    "import numpy as np\n",
    "from tqdm import tqdm\n",
    "import pandas as pd\n",
    "import shutil"
   ]
  },
  {
   "cell_type": "code",
   "execution_count": 35,
   "metadata": {},
   "outputs": [],
   "source": [
    "vgg16 = keras.applications.vgg16.VGG16(include_top=False, #weights=None,\n",
    "                                       weights='imagenet',\n",
    "                                       input_tensor=None, input_shape=(224,224,3))\n",
    "vgg16_full = keras.applications.vgg16.VGG16(include_top=True, #weights=None, \n",
    "                                            weights='imagenet',\n",
    "                                            input_tensor=None, input_shape=(224,224,3))"
   ]
  },
  {
   "cell_type": "code",
   "execution_count": 36,
   "metadata": {},
   "outputs": [
    {
     "data": {
      "text/plain": [
       "<keras.layers.core.Dense at 0x19b19acbc50>"
      ]
     },
     "execution_count": 36,
     "metadata": {},
     "output_type": "execute_result"
    }
   ],
   "source": [
    "fc1_layer = vgg16_full.get_layer(\"fc1\")\n",
    "fc1_layer\n",
    "fc2_layer = vgg16_full.get_layer(\"fc2\")\n",
    "fc2_layer\n"
   ]
  },
  {
   "cell_type": "code",
   "execution_count": 8,
   "metadata": {},
   "outputs": [],
   "source": [
    "labels_csv = pd.read_csv(\"labels.csv\")"
   ]
  },
  {
   "cell_type": "code",
   "execution_count": 9,
   "metadata": {
    "collapsed": true
   },
   "outputs": [],
   "source": [
    "breeds = pd.Series(labels_csv['breed'])\n",
    "filenames = pd.Series(labels_csv['id'])"
   ]
  },
  {
   "cell_type": "code",
   "execution_count": 10,
   "metadata": {
    "collapsed": true
   },
   "outputs": [],
   "source": [
    "unique_breeds = np.unique(breeds)\n",
    "labels = []\n",
    "for breed in breeds:\n",
    "    i = np.where(unique_breeds == breed)[0][0]\n",
    "    labels.append(i)\n",
    "\n",
    "n_breeds = np.max(labels) + 1\n",
    "labels = np.eye(n_breeds)[labels]"
   ]
  },
  {
   "cell_type": "code",
   "execution_count": 11,
   "metadata": {},
   "outputs": [
    {
     "name": "stderr",
     "output_type": "stream",
     "text": [
      "100%|█████████████████████████████████████████████████████████████████████████| 10222/10222 [00:00<00:00, 14311.11it/s]\n"
     ]
    }
   ],
   "source": [
    "filenames_train = []\n",
    "filenames_validate = []\n",
    "\n",
    "# move to validate folder\n",
    "for i in tqdm(range(len(filenames))):\n",
    "    label = unique_breeds[np.where(labels[i]==1.)][0]\n",
    "    filename = '{}.jpg'.format(filenames[i])\n",
    "\n",
    "    if i < 8000:\n",
    "        new_dir = './sorted/train/{}/'.format(label)\n",
    "        filenames_train.append(new_dir + filename)\n",
    "    else:\n",
    "        new_dir = './sorted/validate/{}/'.format(label)\n",
    "        filenames_validate.append(new_dir + filename)\n",
    "        \n",
    "    if not os.path.exists(new_dir):\n",
    "        os.makedirs(new_dir)\n",
    "    \n",
    "    #shutil.move(\"train/{}.jpg\".format(filenames[i]), new_dir + filename)"
   ]
  },
  {
   "cell_type": "code",
   "execution_count": 12,
   "metadata": {
    "collapsed": true
   },
   "outputs": [],
   "source": [
    "indices_train = np.argsort(filenames_train)\n",
    "indices_val = np.argsort(filenames_validate)\n",
    "\n",
    "sorted_filenames_train = np.array(filenames_train)[indices_train]\n",
    "sorted_filenames_validate = np.array(filenames_validate)[indices_val]\n",
    "sorted_labels_train = np.array(labels)[0:8000][indices_train]\n",
    "sorted_labels_validate = np.array(labels)[8000:][indices_val]"
   ]
  },
  {
   "cell_type": "code",
   "execution_count": 13,
   "metadata": {},
   "outputs": [
    {
     "name": "stdout",
     "output_type": "stream",
     "text": [
      "(8000,)\n",
      "(8000, 120)\n",
      "(2222,)\n",
      "(2222, 120)\n"
     ]
    }
   ],
   "source": [
    "print(sorted_filenames_train.shape)\n",
    "print(sorted_labels_train.shape)\n",
    "\n",
    "print(sorted_filenames_validate.shape)\n",
    "print(sorted_labels_validate.shape)"
   ]
  },
  {
   "cell_type": "code",
   "execution_count": 14,
   "metadata": {},
   "outputs": [
    {
     "name": "stdout",
     "output_type": "stream",
     "text": [
      "['affenpinscher']\n",
      "./sorted/train/affenpinscher/a2702282275212144b1683a434651d7f.jpg\n"
     ]
    }
   ],
   "source": [
    "print(unique_breeds[np.where(sorted_labels_train[50] == 1.)])\n",
    "# should be equal to:\n",
    "print(sorted_filenames_train[50])"
   ]
  },
  {
   "cell_type": "code",
   "execution_count": 15,
   "metadata": {
    "collapsed": true
   },
   "outputs": [],
   "source": [
    "def preprocess(img):\n",
    "    input_img = preprocess_input(np.expand_dims(img, axis=0))\n",
    "    return input_img[0]\n",
    "\n",
    "train_datagen = ImageDataGenerator(preprocessing_function=preprocess)\n",
    "val_datagen = ImageDataGenerator(preprocessing_function=preprocess)"
   ]
  },
  {
   "cell_type": "code",
   "execution_count": 16,
   "metadata": {},
   "outputs": [
    {
     "name": "stdout",
     "output_type": "stream",
     "text": [
      "Found 8000 images belonging to 120 classes.\n",
      "Found 2222 images belonging to 120 classes.\n"
     ]
    }
   ],
   "source": [
    "# subset of data\n",
    "batch_size = 64\n",
    "\n",
    "train_gen = train_datagen.flow_from_directory(\"sorted/train\", \n",
    "                                              batch_size=batch_size, \n",
    "                                              target_size=(224, 224), \n",
    "                                              shuffle=False)\n",
    "\n",
    "val_gen = val_datagen.flow_from_directory(\"sorted/validate\", \n",
    "                                          batch_size=batch_size, \n",
    "                                          target_size=(224, 224), \n",
    "                                          shuffle=False)"
   ]
  },
  {
   "cell_type": "code",
   "execution_count": 17,
   "metadata": {
    "collapsed": true
   },
   "outputs": [],
   "source": [
    "x_train = vgg16.predict_generator(train_gen, steps=8000 // batch_size, verbose=2)"
   ]
  },
  {
   "cell_type": "code",
   "execution_count": 18,
   "metadata": {
    "collapsed": true
   },
   "outputs": [],
   "source": [
    "x_val = vgg16.predict_generator(val_gen, steps=2222 // batch_size, verbose=2)"
   ]
  },
  {
   "cell_type": "code",
   "execution_count": 19,
   "metadata": {
    "collapsed": true
   },
   "outputs": [],
   "source": [
    "y_train = sorted_labels_train[0:len(x_train)]\n",
    "y_val = sorted_labels_validate[0:len(x_val)]"
   ]
  },
  {
   "cell_type": "code",
   "execution_count": 37,
   "metadata": {},
   "outputs": [
    {
     "name": "stdout",
     "output_type": "stream",
     "text": [
      "_________________________________________________________________\n",
      "Layer (type)                 Output Shape              Param #   \n",
      "=================================================================\n",
      "input_9 (InputLayer)         (None, 7, 7, 512)         0         \n",
      "_________________________________________________________________\n",
      "flatten_5 (Flatten)          (None, 25088)             0         \n",
      "_________________________________________________________________\n",
      "fc1 (Dense)                  (None, 4096)              102764544 \n",
      "_________________________________________________________________\n",
      "batch_normalization_9 (Batch (None, 4096)              16384     \n",
      "_________________________________________________________________\n",
      "dropout_9 (Dropout)          (None, 4096)              0         \n",
      "_________________________________________________________________\n",
      "dense_9 (Dense)              (None, 512)               2097664   \n",
      "_________________________________________________________________\n",
      "batch_normalization_10 (Batc (None, 512)               2048      \n",
      "_________________________________________________________________\n",
      "dropout_10 (Dropout)         (None, 512)               0         \n",
      "_________________________________________________________________\n",
      "dense_10 (Dense)             (None, 120)               61560     \n",
      "=================================================================\n",
      "Total params: 104,942,200\n",
      "Trainable params: 2,168,440\n",
      "Non-trainable params: 102,773,760\n",
      "_________________________________________________________________\n"
     ]
    }
   ],
   "source": [
    "inputs = Input(shape=(7,7,512))\n",
    "\n",
    "# turn off training vgg16\n",
    "for layer in vgg16.layers:\n",
    "    layer.trainable = False\n",
    "\n",
    "fc1_layer.trainable = False\n",
    "\n",
    "# x = vgg16(inputs)\n",
    "x = Flatten()(inputs)\n",
    "x = fc1_layer(x)\n",
    "x = BatchNormalization()(x)\n",
    "x = Dropout(0.8)(x)\n",
    "x = Dense(512, activation='relu')(x)\n",
    "x = BatchNormalization()(x)\n",
    "x = Dropout(0.8)(x)\n",
    "x = Dense(120, activation='softmax')(x)\n",
    "\n",
    "model = Model(inputs=inputs, outputs=x)\n",
    "model.summary()"
   ]
  },
  {
   "cell_type": "code",
   "execution_count": 38,
   "metadata": {
    "collapsed": true
   },
   "outputs": [],
   "source": [
    "model.compile(optimizer=keras.optimizers.Adam(), \n",
    "              loss=keras.losses.categorical_crossentropy, \n",
    "              metrics=['accuracy'])"
   ]
  },
  {
   "cell_type": "code",
   "execution_count": 54,
   "metadata": {
    "scrolled": true
   },
   "outputs": [
    {
     "name": "stderr",
     "output_type": "stream",
     "text": [
      "c:\\users\\popeye\\appdata\\local\\programs\\python\\python35\\lib\\site-packages\\keras\\engine\\training.py:975: UserWarning: Discrepancy between trainable weights and collected trainable weights, did you set `model.trainable` without calling `model.compile` after ?\n",
      "  'Discrepancy between trainable weights and collected trainable'\n"
     ]
    },
    {
     "name": "stdout",
     "output_type": "stream",
     "text": [
      "Train on 8000 samples, validate on 2176 samples\n",
      "Epoch 1/15\n",
      "8000/8000 [==============================] - ETA: 1s - loss: 0.9487 - acc: 0.712 - ETA: 1s - loss: 0.9482 - acc: 0.712 - ETA: 0s - loss: 0.9665 - acc: 0.711 - ETA: 0s - loss: 0.9709 - acc: 0.706 - ETA: 0s - loss: 0.9798 - acc: 0.704 - ETA: 0s - loss: 0.9641 - acc: 0.708 - ETA: 0s - loss: 0.9647 - acc: 0.706 - 2s 232us/step - loss: 0.9690 - acc: 0.7045 - val_loss: 0.8400 - val_acc: 0.7468\n",
      "Epoch 2/15\n",
      "8000/8000 [==============================] - ETA: 1s - loss: 0.9376 - acc: 0.710 - ETA: 1s - loss: 0.9493 - acc: 0.712 - ETA: 0s - loss: 0.9526 - acc: 0.713 - ETA: 0s - loss: 0.9565 - acc: 0.710 - ETA: 0s - loss: 0.9543 - acc: 0.711 - ETA: 0s - loss: 0.9572 - acc: 0.708 - ETA: 0s - loss: 0.9546 - acc: 0.708 - 2s 226us/step - loss: 0.9488 - acc: 0.7076 - val_loss: 0.8396 - val_acc: 0.7468\n",
      "Epoch 3/15\n",
      "8000/8000 [==============================] - ETA: 1s - loss: 0.9990 - acc: 0.707 - ETA: 1s - loss: 0.9783 - acc: 0.699 - ETA: 0s - loss: 0.9472 - acc: 0.707 - ETA: 0s - loss: 0.9540 - acc: 0.707 - ETA: 0s - loss: 0.9565 - acc: 0.709 - ETA: 0s - loss: 0.9470 - acc: 0.712 - ETA: 0s - loss: 0.9463 - acc: 0.713 - 2s 229us/step - loss: 0.9481 - acc: 0.7116 - val_loss: 0.8414 - val_acc: 0.7463\n",
      "Epoch 4/15\n",
      "8000/8000 [==============================] - ETA: 1s - loss: 0.9727 - acc: 0.710 - ETA: 1s - loss: 0.9680 - acc: 0.709 - ETA: 0s - loss: 0.9514 - acc: 0.710 - ETA: 0s - loss: 0.9467 - acc: 0.709 - ETA: 0s - loss: 0.9378 - acc: 0.714 - ETA: 0s - loss: 0.9410 - acc: 0.715 - ETA: 0s - loss: 0.9413 - acc: 0.714 - 2s 227us/step - loss: 0.9456 - acc: 0.7120 - val_loss: 0.8402 - val_acc: 0.7463\n",
      "Epoch 5/15\n",
      "8000/8000 [==============================] - ETA: 1s - loss: 0.9527 - acc: 0.705 - ETA: 1s - loss: 0.9139 - acc: 0.715 - ETA: 0s - loss: 0.9112 - acc: 0.716 - ETA: 0s - loss: 0.9206 - acc: 0.713 - ETA: 0s - loss: 0.9123 - acc: 0.716 - ETA: 0s - loss: 0.9222 - acc: 0.714 - ETA: 0s - loss: 0.9293 - acc: 0.714 - 2s 230us/step - loss: 0.9214 - acc: 0.7142 - val_loss: 0.8409 - val_acc: 0.7426\n",
      "Epoch 6/15\n",
      "8000/8000 [==============================] - ETA: 1s - loss: 0.9187 - acc: 0.724 - ETA: 1s - loss: 0.9614 - acc: 0.707 - ETA: 0s - loss: 0.9793 - acc: 0.700 - ETA: 0s - loss: 0.9660 - acc: 0.706 - ETA: 0s - loss: 0.9545 - acc: 0.711 - ETA: 0s - loss: 0.9512 - acc: 0.710 - ETA: 0s - loss: 0.9556 - acc: 0.709 - 2s 225us/step - loss: 0.9453 - acc: 0.7129 - val_loss: 0.8400 - val_acc: 0.7426\n",
      "Epoch 7/15\n",
      "8000/8000 [==============================] - ETA: 1s - loss: 0.9220 - acc: 0.694 - ETA: 1s - loss: 0.9317 - acc: 0.701 - ETA: 0s - loss: 0.9337 - acc: 0.708 - ETA: 0s - loss: 0.9225 - acc: 0.711 - ETA: 0s - loss: 0.9047 - acc: 0.718 - ETA: 0s - loss: 0.9033 - acc: 0.722 - ETA: 0s - loss: 0.9095 - acc: 0.723 - 2s 224us/step - loss: 0.9048 - acc: 0.7239 - val_loss: 0.8383 - val_acc: 0.7440\n",
      "Epoch 8/15\n",
      "8000/8000 [==============================] - ETA: 1s - loss: 0.8890 - acc: 0.724 - ETA: 1s - loss: 0.9197 - acc: 0.718 - ETA: 0s - loss: 0.9192 - acc: 0.715 - ETA: 0s - loss: 0.9070 - acc: 0.719 - ETA: 0s - loss: 0.9070 - acc: 0.719 - ETA: 0s - loss: 0.9038 - acc: 0.722 - ETA: 0s - loss: 0.9130 - acc: 0.720 - 2s 226us/step - loss: 0.9157 - acc: 0.7206 - val_loss: 0.8369 - val_acc: 0.7436\n",
      "Epoch 9/15\n",
      "8000/8000 [==============================] - ETA: 1s - loss: 0.8620 - acc: 0.737 - ETA: 0s - loss: 0.8696 - acc: 0.728 - ETA: 0s - loss: 0.8644 - acc: 0.729 - ETA: 0s - loss: 0.8682 - acc: 0.727 - ETA: 0s - loss: 0.8809 - acc: 0.727 - ETA: 0s - loss: 0.8827 - acc: 0.728 - ETA: 0s - loss: 0.8841 - acc: 0.726 - 2s 214us/step - loss: 0.8880 - acc: 0.7264 - val_loss: 0.8381 - val_acc: 0.7514\n",
      "Epoch 10/15\n",
      "8000/8000 [==============================] - ETA: 1s - loss: 0.8874 - acc: 0.727 - ETA: 1s - loss: 0.8762 - acc: 0.723 - ETA: 0s - loss: 0.8775 - acc: 0.725 - ETA: 0s - loss: 0.8831 - acc: 0.725 - ETA: 0s - loss: 0.8867 - acc: 0.727 - ETA: 0s - loss: 0.8953 - acc: 0.725 - ETA: 0s - loss: 0.9022 - acc: 0.723 - 2s 216us/step - loss: 0.9066 - acc: 0.7229 - val_loss: 0.8381 - val_acc: 0.7486\n",
      "Epoch 11/15\n",
      "8000/8000 [==============================] - ETA: 1s - loss: 0.9755 - acc: 0.702 - ETA: 1s - loss: 0.9043 - acc: 0.718 - ETA: 0s - loss: 0.8903 - acc: 0.723 - ETA: 0s - loss: 0.8965 - acc: 0.718 - ETA: 0s - loss: 0.8826 - acc: 0.725 - ETA: 0s - loss: 0.8817 - acc: 0.725 - ETA: 0s - loss: 0.8754 - acc: 0.725 - 2s 228us/step - loss: 0.8713 - acc: 0.7290 - val_loss: 0.8385 - val_acc: 0.7472\n",
      "Epoch 12/15\n",
      "8000/8000 [==============================] - ETA: 1s - loss: 0.8627 - acc: 0.747 - ETA: 1s - loss: 0.8580 - acc: 0.741 - ETA: 0s - loss: 0.8839 - acc: 0.728 - ETA: 0s - loss: 0.8893 - acc: 0.726 - ETA: 0s - loss: 0.8824 - acc: 0.730 - ETA: 0s - loss: 0.8662 - acc: 0.734 - ETA: 0s - loss: 0.8732 - acc: 0.732 - 2s 221us/step - loss: 0.8750 - acc: 0.7308 - val_loss: 0.8391 - val_acc: 0.7472\n",
      "Epoch 13/15\n",
      "8000/8000 [==============================] - ETA: 1s - loss: 0.8759 - acc: 0.719 - ETA: 1s - loss: 0.8626 - acc: 0.727 - ETA: 0s - loss: 0.8647 - acc: 0.725 - ETA: 0s - loss: 0.8603 - acc: 0.726 - ETA: 0s - loss: 0.8674 - acc: 0.724 - ETA: 0s - loss: 0.8731 - acc: 0.724 - ETA: 0s - loss: 0.8674 - acc: 0.727 - 2s 226us/step - loss: 0.8685 - acc: 0.7279 - val_loss: 0.8393 - val_acc: 0.7459\n",
      "Epoch 14/15\n",
      "8000/8000 [==============================] - ETA: 1s - loss: 0.8391 - acc: 0.737 - ETA: 0s - loss: 0.8268 - acc: 0.736 - ETA: 0s - loss: 0.8601 - acc: 0.730 - ETA: 0s - loss: 0.8796 - acc: 0.722 - ETA: 0s - loss: 0.8764 - acc: 0.725 - ETA: 0s - loss: 0.8766 - acc: 0.725 - ETA: 0s - loss: 0.8690 - acc: 0.728 - 2s 226us/step - loss: 0.8737 - acc: 0.7285 - val_loss: 0.8389 - val_acc: 0.7459\n",
      "Epoch 15/15\n",
      "8000/8000 [==============================] - ETA: 1s - loss: 0.8205 - acc: 0.760 - ETA: 0s - loss: 0.8402 - acc: 0.752 - ETA: 0s - loss: 0.8572 - acc: 0.742 - ETA: 0s - loss: 0.8653 - acc: 0.739 - ETA: 0s - loss: 0.8651 - acc: 0.732 - ETA: 0s - loss: 0.8709 - acc: 0.731 - ETA: 0s - loss: 0.8877 - acc: 0.726 - 2s 216us/step - loss: 0.8785 - acc: 0.7305 - val_loss: 0.8405 - val_acc: 0.7482\n"
     ]
    }
   ],
   "source": [
    "history = model.fit(x_train, y_train, batch_size=1024, epochs=15, verbose=1, \n",
    "                    validation_data=(x_val, y_val))\n",
    "\n",
    "# We should probably use early stopping here"
   ]
  },
  {
   "cell_type": "code",
   "execution_count": 55,
   "metadata": {},
   "outputs": [
    {
     "data": {
      "image/png": "[encoded data removed]",
      "text/plain": [
       "<matplotlib.figure.Figure at 0x19b1b3ea3c8>"
      ]
     },
     "metadata": {},
     "output_type": "display_data"
    },
    {
     "data": {
      "image/png": "[encoded data removed]",
      "text/plain": [
       "<matplotlib.figure.Figure at 0x19b1b2ab908>"
      ]
     },
     "metadata": {},
     "output_type": "display_data"
    }
   ],
   "source": [
    "# summarize history for accuracy\n",
    "plt.plot(history.history['acc'])\n",
    "plt.plot(history.history['val_acc'])\n",
    "plt.title('model accuracy')\n",
    "plt.ylabel('accuracy')\n",
    "plt.xlabel('epoch')\n",
    "plt.legend(['train', 'test'], loc='upper left')\n",
    "plt.show()\n",
    "# summarize history for loss\n",
    "plt.plot(history.history['loss'])\n",
    "plt.plot(history.history['val_loss'])\n",
    "plt.title('model loss')\n",
    "plt.ylabel('loss')\n",
    "plt.xlabel('epoch')\n",
    "plt.legend(['train', 'test'], loc='upper left')\n",
    "plt.show()"
   ]
  },
  {
   "cell_type": "code",
   "execution_count": 53,
   "metadata": {},
   "outputs": [],
   "source": [
    "model.layers[2].trainable=True"
   ]
  },
  {
   "cell_type": "code",
   "execution_count": 62,
   "metadata": {},
   "outputs": [
    {
     "name": "stderr",
     "output_type": "stream",
     "text": [
      "10357it [12:47, 13.50it/s]\n"
     ]
    }
   ],
   "source": [
    "def read_img(img_id, train_or_test, size):\n",
    "    \"\"\"Read and resize image.\n",
    "    # Arguments\n",
    "        img_id: string\n",
    "        train_or_test: string 'train' or 'test'.\n",
    "        size: resize the original image.\n",
    "    # Returns\n",
    "        Image as numpy array.\n",
    "    \"\"\"\n",
    "    img = image.load_img(join('', train_or_test, '%s.jpg' % img_id), target_size=size)\n",
    "    img = image.img_to_array(img)\n",
    "    return img\n",
    "\n",
    "\n",
    "INPUT_SIZE = 224\n",
    "from os.path import join\n",
    "from keras.preprocessing import image\n",
    "sample_submission = pd.read_csv(join('', 'sample_submission.csv'))\n",
    "for i, img_id in tqdm(enumerate(sample_submission['id'])):\n",
    "    img = read_img(img_id, 'test', (INPUT_SIZE, INPUT_SIZE))\n",
    "    x = preprocess_input(np.expand_dims(img.copy(), axis=0))\n",
    "    y = model.predict(vgg16.predict(x))\n",
    "    sample_submission.iloc[i,1:121] = np.asarray(y[0,0:120])"
   ]
  },
  {
   "cell_type": "code",
   "execution_count": 63,
   "metadata": {
    "collapsed": true
   },
   "outputs": [],
   "source": [
    "sample_submission.to_csv('submission5.csv',index=False)"
   ]
  }
 ],
 "metadata": {
  "kernelspec": {
   "display_name": "Python 3",
   "language": "python",
   "name": "python3"
  },
  "language_info": {
   "codemirror_mode": {
    "name": "ipython",
    "version": 3
   },
   "file_extension": ".py",
   "mimetype": "text/x-python",
   "name": "python",
   "nbconvert_exporter": "python",
   "pygments_lexer": "ipython3",
   "version": "3.5.2"
  }
 },
 "nbformat": 4,
 "nbformat_minor": 2
}
