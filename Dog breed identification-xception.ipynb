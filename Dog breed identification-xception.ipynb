{
 "cells": [
  {
   "cell_type": "code",
   "execution_count": 1,
   "metadata": {},
   "outputs": [
    {
     "name": "stderr",
     "output_type": "stream",
     "text": [
      "c:\\users\\popeye\\appdata\\local\\programs\\python\\python35\\lib\\site-packages\\h5py\\__init__.py:36: FutureWarning: Conversion of the second argument of issubdtype from `float` to `np.floating` is deprecated. In future, it will be treated as `np.float64 == np.dtype(float).type`.\n",
      "  from ._conv import register_converters as _register_converters\n",
      "Using TensorFlow backend.\n"
     ]
    }
   ],
   "source": [
    "%matplotlib inline\n",
    "import numpy as np\n",
    "import pandas as pd\n",
    "import datetime as dt\n",
    "import matplotlib.pyplot as plt\n",
    "import matplotlib as mpl\n",
    "from mpl_toolkits.axes_grid1 import ImageGrid\n",
    "from os import listdir, makedirs\n",
    "from os.path import join, exists, expanduser\n",
    "from tqdm import tqdm\n",
    "from sklearn.metrics import log_loss, accuracy_score\n",
    "from keras.preprocessing import image\n",
    "from keras.applications.vgg16 import VGG16\n",
    "from keras.applications.vgg19 import VGG19\n",
    "from keras.applications.resnet50 import ResNet50\n",
    "from keras.applications import xception\n",
    "from keras.applications import inception_v3\n",
    "from keras.applications.vgg16 import preprocess_input, decode_predictions\n",
    "from sklearn.linear_model import LogisticRegression\n",
    "from keras.layers.normalization import BatchNormalization\n",
    "from keras.models import Model\n",
    "from keras.layers import Flatten, Dense, Dropout,Input\n",
    "from keras.optimizers import Adam\n",
    "from keras.callbacks import TensorBoard, ModelCheckpoint, ReduceLROnPlateau, EarlyStopping"
   ]
  },
  {
   "cell_type": "code",
   "execution_count": 2,
   "metadata": {},
   "outputs": [
    {
     "name": "stdout",
     "output_type": "stream",
     "text": [
      "10222 10222\n",
      "10357 10357\n"
     ]
    }
   ],
   "source": [
    "SEED = 1987\n",
    "data_dir = ''\n",
    "labels = pd.read_csv(join(data_dir, 'labels.csv'))\n",
    "sample_submission = pd.read_csv(join(data_dir, 'sample_submission.csv'))\n",
    "print(len(listdir(join(data_dir, 'train'))), len(labels))\n",
    "print(len(listdir(join(data_dir, 'test'))), len(sample_submission))"
   ]
  },
  {
   "cell_type": "code",
   "execution_count": 3,
   "metadata": {
    "collapsed": true
   },
   "outputs": [],
   "source": [
    "# This part is optional for if you want to train only on most popular classes. \n",
    "# NUM_CLASSES = 16\n",
    "# selected_breed_list = list(labels.groupby('breed').count().sort_values(by='id', ascending=False).head(NUM_CLASSES).index)\n",
    "# labels = labels[labels['breed'].isin(selected_breed_list)]"
   ]
  },
  {
   "cell_type": "code",
   "execution_count": 4,
   "metadata": {},
   "outputs": [],
   "source": [
    "labels['target'] = 1\n",
    "labels_pivot = labels.pivot('id', 'breed', 'target').reset_index().fillna(0)\n",
    "np.random.seed(seed=SEED)\n",
    "rnd = np.random.random(len(labels))\n",
    "train_idx = rnd < 0.8\n",
    "valid_idx = rnd >= 0.8\n",
    "labels_pivot = labels_pivot.drop('id', axis=1)\n",
    "y_train = labels_pivot.values\n",
    "ytr = y_train[train_idx]\n",
    "yv = y_train[valid_idx]"
   ]
  },
  {
   "cell_type": "code",
   "execution_count": 5,
   "metadata": {
    "collapsed": true
   },
   "outputs": [],
   "source": [
    "def read_img(img_id, train_or_test, size):\n",
    "    \"\"\"Read and resize image.\n",
    "    # Arguments\n",
    "        img_id: string\n",
    "        train_or_test: string 'train' or 'test'.\n",
    "        size: resize the original image.\n",
    "    # Returns\n",
    "        Image as numpy array.\n",
    "    \"\"\"\n",
    "    img = image.load_img(join(data_dir, train_or_test, '%s.jpg' % img_id), target_size=size)\n",
    "    img = image.img_to_array(img)\n",
    "    return img"
   ]
  },
  {
   "cell_type": "code",
   "execution_count": 6,
   "metadata": {
    "scrolled": true
   },
   "outputs": [
    {
     "name": "stderr",
     "output_type": "stream",
     "text": [
      "10222it [00:59, 171.35it/s]\n"
     ]
    },
    {
     "name": "stdout",
     "output_type": "stream",
     "text": [
      "Train Images shape: (10222, 299, 299, 3) size: 2,741,571,066\n"
     ]
    }
   ],
   "source": [
    "INPUT_SIZE = 299\n",
    "x_train = np.zeros((len(labels), INPUT_SIZE, INPUT_SIZE, 3), dtype='float32')\n",
    "for i, img_id in tqdm(enumerate(labels['id'])):\n",
    "    img = read_img(img_id, 'train', (INPUT_SIZE, INPUT_SIZE))\n",
    "    x = xception.preprocess_input(np.expand_dims(img.copy(), axis=0))\n",
    "    x_train[i] = x\n",
    "print('Train Images shape: {} size: {:,}'.format(x_train.shape, x_train.size))"
   ]
  },
  {
   "cell_type": "code",
   "execution_count": 7,
   "metadata": {},
   "outputs": [
    {
     "name": "stdout",
     "output_type": "stream",
     "text": [
      "((8140, 299, 299, 3), (2082, 299, 299, 3), (8140, 120), (2082, 120))\n"
     ]
    }
   ],
   "source": [
    "Xtr = x_train[train_idx]\n",
    "Xv = x_train[valid_idx]\n",
    "print((Xtr.shape, Xv.shape, ytr.shape, yv.shape))"
   ]
  },
  {
   "cell_type": "code",
   "execution_count": 8,
   "metadata": {
    "collapsed": true
   },
   "outputs": [],
   "source": [
    "del x_train"
   ]
  },
  {
   "cell_type": "code",
   "execution_count": 9,
   "metadata": {},
   "outputs": [],
   "source": [
    "POOLING='none'\n",
    "model_vgg = xception.Xception(weights='imagenet',include_top=True, input_shape = (INPUT_SIZE,INPUT_SIZE,3),pooling=POOLING)"
   ]
  },
  {
   "cell_type": "code",
   "execution_count": 10,
   "metadata": {},
   "outputs": [],
   "source": [
    "xception_bottleneck = xception.Xception(weights='imagenet', include_top=False, pooling='avg')"
   ]
  },
  {
   "cell_type": "code",
   "execution_count": 11,
   "metadata": {},
   "outputs": [
    {
     "name": "stdout",
     "output_type": "stream",
     "text": [
      "Xception train bottleneck features shape: (8140, 2048) size: 16,670,720\n",
      "Xception valid bottleneck features shape: (2082, 2048) size: 4,263,936\n"
     ]
    }
   ],
   "source": [
    "train_x_bf = xception_bottleneck.predict(Xtr, batch_size=32, verbose=2)\n",
    "valid_x_bf = xception_bottleneck.predict(Xv, batch_size=32, verbose=2)\n",
    "print('Xception train bottleneck features shape: {} size: {:,}'.format(train_x_bf.shape, train_x_bf.size))\n",
    "print('Xception valid bottleneck features shape: {} size: {:,}'.format(valid_x_bf.shape, valid_x_bf.size))"
   ]
  },
  {
   "cell_type": "code",
   "execution_count": 14,
   "metadata": {},
   "outputs": [
    {
     "name": "stdout",
     "output_type": "stream",
     "text": [
      "Validation Xception LogLoss 0.35417187323362515\n",
      "Validation Xception Accuracy 0.8861671469740634\n"
     ]
    }
   ],
   "source": [
    "logreg = LogisticRegression(multi_class='multinomial', solver='lbfgs', random_state=SEED)\n",
    "logreg.fit(train_x_bf, (ytr * range(120)).sum(axis=1))\n",
    "valid_probs = logreg.predict_proba(valid_x_bf)\n",
    "valid_preds = logreg.predict(valid_x_bf)\n",
    "print('Validation Xception LogLoss {}'.format(log_loss(yv, valid_probs)))\n",
    "print('Validation Xception Accuracy {}'.format(accuracy_score((yv * range(120)).sum(axis=1), valid_preds)))"
   ]
  },
  {
   "cell_type": "code",
   "execution_count": 15,
   "metadata": {
    "collapsed": true
   },
   "outputs": [],
   "source": [
    "intermediate_layer_model = Model(inputs=model_vgg.input,\n",
    "                                  outputs=model_vgg.get_layer('block14_sepconv2_act').output)"
   ]
  },
  {
   "cell_type": "code",
   "execution_count": 16,
   "metadata": {
    "scrolled": true
   },
   "outputs": [],
   "source": [
    "train_vgg_bf = intermediate_layer_model.predict(Xtr, batch_size=32, verbose=2)"
   ]
  },
  {
   "cell_type": "code",
   "execution_count": 17,
   "metadata": {},
   "outputs": [
    {
     "name": "stdout",
     "output_type": "stream",
     "text": [
      "(8140, 10, 10, 2048) (2082, 10, 10, 2048)\n"
     ]
    }
   ],
   "source": [
    "valid_vgg_bf = intermediate_layer_model.predict(Xv, batch_size=32, verbose=2)\n",
    "print(train_vgg_bf.shape,valid_vgg_bf.shape)"
   ]
  },
  {
   "cell_type": "code",
   "execution_count": 23,
   "metadata": {
    "collapsed": true
   },
   "outputs": [],
   "source": [
    "inputs = Input(shape=(2048,))\n",
    "#x = Flatten()(inputs)\n",
    "#x = Dense(2048, activation='relu')(x)\n",
    "x = BatchNormalization()(inputs)\n",
    "x = Dropout(0.8)(x)\n",
    "x = Dense(512, activation='relu')(x)\n",
    "x = BatchNormalization()(x)\n",
    "x = Dropout(0.8)(x)\n",
    "predictions = Dense(ytr.shape[1], activation='softmax',name='Last_softmax')(x) \n",
    "model = Model(inputs, outputs=predictions)"
   ]
  },
  {
   "cell_type": "code",
   "execution_count": null,
   "metadata": {
    "collapsed": true
   },
   "outputs": [],
   "source": [
    "#model.get_layer('fc1').trainable = False "
   ]
  },
  {
   "cell_type": "code",
   "execution_count": null,
   "metadata": {},
   "outputs": [],
   "source": [
    "#model.get_layer('fc1').trainable"
   ]
  },
  {
   "cell_type": "code",
   "execution_count": 24,
   "metadata": {
    "collapsed": true
   },
   "outputs": [],
   "source": [
    "model.compile(optimizer=Adam(lr=1e-3), loss='categorical_crossentropy',metrics = [\"accuracy\"])"
   ]
  },
  {
   "cell_type": "code",
   "execution_count": 25,
   "metadata": {
    "scrolled": true
   },
   "outputs": [
    {
     "name": "stdout",
     "output_type": "stream",
     "text": [
      "Train on 8140 samples, validate on 2082 samples\n",
      "Epoch 1/100\n",
      "8140/8140 [==============================] - 2s 278us/step - loss: 8.2102 - acc: 0.0095 - val_loss: 4.5023 - val_acc: 0.0346\n",
      "Epoch 2/100\n",
      "8140/8140 [==============================] - 0s 19us/step - loss: 7.7417 - acc: 0.0150 - val_loss: 3.9065 - val_acc: 0.2080\n",
      "Epoch 3/100\n",
      "8140/8140 [==============================] - 0s 20us/step - loss: 7.0990 - acc: 0.0213 - val_loss: 3.3084 - val_acc: 0.4424\n",
      "Epoch 4/100\n",
      "8140/8140 [==============================] - 0s 23us/step - loss: 6.4572 - acc: 0.0332 - val_loss: 2.7430 - val_acc: 0.6182\n",
      "Epoch 5/100\n",
      "8140/8140 [==============================] - 0s 22us/step - loss: 5.8774 - acc: 0.0534 - val_loss: 2.2352 - val_acc: 0.7099\n",
      "Epoch 6/100\n",
      "8140/8140 [==============================] - 0s 20us/step - loss: 5.3098 - acc: 0.0883 - val_loss: 1.8049 - val_acc: 0.7546\n",
      "Epoch 7/100\n",
      "8140/8140 [==============================] - 0s 22us/step - loss: 4.7964 - acc: 0.1127 - val_loss: 1.4598 - val_acc: 0.7800\n",
      "Epoch 8/100\n",
      "8140/8140 [==============================] - 0s 20us/step - loss: 4.3250 - acc: 0.1665 - val_loss: 1.1943 - val_acc: 0.7997\n",
      "Epoch 9/100\n",
      "8140/8140 [==============================] - 0s 21us/step - loss: 3.8918 - acc: 0.2080 - val_loss: 0.9972 - val_acc: 0.8093\n",
      "Epoch 10/100\n",
      "8140/8140 [==============================] - 0s 22us/step - loss: 3.4870 - acc: 0.2585 - val_loss: 0.8524 - val_acc: 0.8184\n",
      "Epoch 11/100\n",
      "8140/8140 [==============================] - 0s 22us/step - loss: 3.0880 - acc: 0.3177 - val_loss: 0.7462 - val_acc: 0.8256\n",
      "Epoch 12/100\n",
      "8140/8140 [==============================] - 0s 20us/step - loss: 2.8037 - acc: 0.3498 - val_loss: 0.6674 - val_acc: 0.8305\n",
      "Epoch 13/100\n",
      "8140/8140 [==============================] - 0s 20us/step - loss: 2.5847 - acc: 0.4009 - val_loss: 0.6079 - val_acc: 0.8367\n",
      "Epoch 14/100\n",
      "8140/8140 [==============================] - 0s 23us/step - loss: 2.3234 - acc: 0.4467 - val_loss: 0.5618 - val_acc: 0.8410\n",
      "Epoch 15/100\n",
      "8140/8140 [==============================] - 0s 20us/step - loss: 2.1664 - acc: 0.4775 - val_loss: 0.5256 - val_acc: 0.8458\n",
      "Epoch 16/100\n",
      "8140/8140 [==============================] - 0s 20us/step - loss: 1.9860 - acc: 0.5162 - val_loss: 0.4966 - val_acc: 0.8501\n",
      "Epoch 17/100\n",
      "8140/8140 [==============================] - 0s 20us/step - loss: 1.8452 - acc: 0.5391 - val_loss: 0.4726 - val_acc: 0.8549\n",
      "Epoch 18/100\n",
      "8140/8140 [==============================] - 0s 21us/step - loss: 1.7247 - acc: 0.5679 - val_loss: 0.4525 - val_acc: 0.8583\n",
      "Epoch 19/100\n",
      "8140/8140 [==============================] - 0s 20us/step - loss: 1.6187 - acc: 0.5921 - val_loss: 0.4356 - val_acc: 0.8607\n",
      "Epoch 20/100\n",
      "8140/8140 [==============================] - 0s 24us/step - loss: 1.5240 - acc: 0.6155 - val_loss: 0.4212 - val_acc: 0.8641\n",
      "Epoch 21/100\n",
      "8140/8140 [==============================] - 0s 22us/step - loss: 1.4264 - acc: 0.6317 - val_loss: 0.4089 - val_acc: 0.8674\n",
      "Epoch 22/100\n",
      "8140/8140 [==============================] - 0s 23us/step - loss: 1.3633 - acc: 0.6439 - val_loss: 0.3984 - val_acc: 0.8703\n",
      "Epoch 23/100\n",
      "8140/8140 [==============================] - 0s 23us/step - loss: 1.2829 - acc: 0.6687 - val_loss: 0.3897 - val_acc: 0.8737\n",
      "Epoch 24/100\n",
      "8140/8140 [==============================] - 0s 21us/step - loss: 1.2521 - acc: 0.6731 - val_loss: 0.3821 - val_acc: 0.8756\n",
      "Epoch 25/100\n",
      "8140/8140 [==============================] - 0s 21us/step - loss: 1.2005 - acc: 0.6802 - val_loss: 0.3757 - val_acc: 0.8799\n",
      "Epoch 26/100\n",
      "8140/8140 [==============================] - 0s 23us/step - loss: 1.1552 - acc: 0.6936 - val_loss: 0.3703 - val_acc: 0.8838\n",
      "Epoch 27/100\n",
      "8140/8140 [==============================] - 0s 20us/step - loss: 1.1258 - acc: 0.6999 - val_loss: 0.3659 - val_acc: 0.8852\n",
      "Epoch 28/100\n",
      "8140/8140 [==============================] - 0s 23us/step - loss: 1.0695 - acc: 0.7133 - val_loss: 0.3622 - val_acc: 0.8876\n",
      "Epoch 29/100\n",
      "8140/8140 [==============================] - 0s 20us/step - loss: 1.0410 - acc: 0.7167 - val_loss: 0.3592 - val_acc: 0.8886\n",
      "Epoch 30/100\n",
      "8140/8140 [==============================] - 0s 21us/step - loss: 1.0200 - acc: 0.7181 - val_loss: 0.3567 - val_acc: 0.8890\n",
      "Epoch 31/100\n",
      "8140/8140 [==============================] - 0s 20us/step - loss: 0.9679 - acc: 0.7373 - val_loss: 0.3545 - val_acc: 0.8890\n",
      "Epoch 32/100\n",
      "8140/8140 [==============================] - 0s 21us/step - loss: 0.9659 - acc: 0.7396 - val_loss: 0.3528 - val_acc: 0.8881\n",
      "Epoch 33/100\n",
      "8140/8140 [==============================] - 0s 20us/step - loss: 0.9701 - acc: 0.7351 - val_loss: 0.3513 - val_acc: 0.8876\n",
      "Epoch 34/100\n",
      "8140/8140 [==============================] - 0s 21us/step - loss: 0.9225 - acc: 0.7402 - val_loss: 0.3502 - val_acc: 0.8876\n",
      "Epoch 35/100\n",
      "8140/8140 [==============================] - 0s 22us/step - loss: 0.9044 - acc: 0.7515 - val_loss: 0.3492 - val_acc: 0.8881\n",
      "Epoch 36/100\n",
      "8140/8140 [==============================] - 0s 21us/step - loss: 0.9092 - acc: 0.7525 - val_loss: 0.3485 - val_acc: 0.8866\n",
      "Epoch 37/100\n",
      "8140/8140 [==============================] - 0s 20us/step - loss: 0.8553 - acc: 0.7630 - val_loss: 0.3479 - val_acc: 0.8871\n",
      "Epoch 38/100\n",
      "8140/8140 [==============================] - 0s 21us/step - loss: 0.8628 - acc: 0.7629 - val_loss: 0.3475 - val_acc: 0.8866\n",
      "Epoch 39/100\n",
      "8140/8140 [==============================] - 0s 22us/step - loss: 0.8336 - acc: 0.7678 - val_loss: 0.3472 - val_acc: 0.8862\n",
      "Epoch 40/100\n",
      "8140/8140 [==============================] - 0s 21us/step - loss: 0.8410 - acc: 0.7663 - val_loss: 0.3470 - val_acc: 0.8871\n",
      "Epoch 41/100\n",
      "8140/8140 [==============================] - 0s 20us/step - loss: 0.7883 - acc: 0.7791 - val_loss: 0.3469 - val_acc: 0.8876\n",
      "Epoch 42/100\n",
      "8140/8140 [==============================] - 0s 20us/step - loss: 0.7999 - acc: 0.7719 - val_loss: 0.3467 - val_acc: 0.8876\n",
      "Epoch 43/100\n",
      "8140/8140 [==============================] - 0s 19us/step - loss: 0.7970 - acc: 0.7806 - val_loss: 0.3466 - val_acc: 0.8876\n",
      "Epoch 44/100\n",
      "8140/8140 [==============================] - 0s 19us/step - loss: 0.7819 - acc: 0.7805 - val_loss: 0.3464 - val_acc: 0.8866\n",
      "Epoch 45/100\n",
      "8140/8140 [==============================] - 0s 21us/step - loss: 0.7736 - acc: 0.7833 - val_loss: 0.3462 - val_acc: 0.8862\n",
      "Epoch 46/100\n",
      "8140/8140 [==============================] - 0s 21us/step - loss: 0.7465 - acc: 0.7855 - val_loss: 0.3458 - val_acc: 0.8866\n",
      "Epoch 47/100\n",
      "8140/8140 [==============================] - 0s 24us/step - loss: 0.7647 - acc: 0.7835 - val_loss: 0.3455 - val_acc: 0.8871\n",
      "Epoch 48/100\n",
      "8140/8140 [==============================] - 0s 22us/step - loss: 0.7563 - acc: 0.7878 - val_loss: 0.3451 - val_acc: 0.8886\n",
      "Epoch 49/100\n",
      "8140/8140 [==============================] - 0s 22us/step - loss: 0.7311 - acc: 0.7942 - val_loss: 0.3448 - val_acc: 0.8886\n",
      "Epoch 50/100\n",
      "8140/8140 [==============================] - 0s 20us/step - loss: 0.7304 - acc: 0.7899 - val_loss: 0.3444 - val_acc: 0.8886\n",
      "Epoch 51/100\n",
      "8140/8140 [==============================] - 0s 22us/step - loss: 0.7080 - acc: 0.7959 - val_loss: 0.3440 - val_acc: 0.8905\n",
      "Epoch 52/100\n",
      "8140/8140 [==============================] - 0s 21us/step - loss: 0.7033 - acc: 0.7990 - val_loss: 0.3436 - val_acc: 0.8905\n",
      "Epoch 53/100\n",
      "8140/8140 [==============================] - 0s 25us/step - loss: 0.7105 - acc: 0.7946 - val_loss: 0.3432 - val_acc: 0.8910\n",
      "Epoch 54/100\n",
      "8140/8140 [==============================] - 0s 21us/step - loss: 0.7146 - acc: 0.7937 - val_loss: 0.3430 - val_acc: 0.8900\n",
      "Epoch 55/100\n",
      "8140/8140 [==============================] - 0s 20us/step - loss: 0.7072 - acc: 0.7978 - val_loss: 0.3426 - val_acc: 0.8900\n",
      "Epoch 56/100\n",
      "8140/8140 [==============================] - 0s 23us/step - loss: 0.6852 - acc: 0.7994 - val_loss: 0.3423 - val_acc: 0.8886\n",
      "Epoch 57/100\n",
      "8140/8140 [==============================] - 0s 21us/step - loss: 0.6636 - acc: 0.8106 - val_loss: 0.3420 - val_acc: 0.8886\n",
      "Epoch 58/100\n",
      "8140/8140 [==============================] - 0s 20us/step - loss: 0.6812 - acc: 0.8029 - val_loss: 0.3417 - val_acc: 0.8886\n",
      "Epoch 59/100\n",
      "8140/8140 [==============================] - 0s 20us/step - loss: 0.6826 - acc: 0.8070 - val_loss: 0.3414 - val_acc: 0.8876\n",
      "Epoch 60/100\n",
      "8140/8140 [==============================] - 0s 20us/step - loss: 0.6533 - acc: 0.8093 - val_loss: 0.3411 - val_acc: 0.8881\n"
     ]
    },
    {
     "name": "stdout",
     "output_type": "stream",
     "text": [
      "Epoch 61/100\n",
      "8140/8140 [==============================] - 0s 21us/step - loss: 0.6604 - acc: 0.8144 - val_loss: 0.3409 - val_acc: 0.8881\n",
      "Epoch 62/100\n",
      "8140/8140 [==============================] - 0s 20us/step - loss: 0.6409 - acc: 0.8127 - val_loss: 0.3407 - val_acc: 0.8886\n",
      "Epoch 63/100\n",
      "8140/8140 [==============================] - 0s 20us/step - loss: 0.6531 - acc: 0.8087 - val_loss: 0.3406 - val_acc: 0.8886\n",
      "Epoch 64/100\n",
      "8140/8140 [==============================] - 0s 20us/step - loss: 0.6493 - acc: 0.8057 - val_loss: 0.3404 - val_acc: 0.8890\n",
      "Epoch 65/100\n",
      "8140/8140 [==============================] - 0s 20us/step - loss: 0.6463 - acc: 0.8145 - val_loss: 0.3402 - val_acc: 0.8895\n",
      "Epoch 66/100\n",
      "8140/8140 [==============================] - 0s 22us/step - loss: 0.6291 - acc: 0.8120 - val_loss: 0.3401 - val_acc: 0.8890\n",
      "Epoch 67/100\n",
      "8140/8140 [==============================] - 0s 19us/step - loss: 0.6233 - acc: 0.8147 - val_loss: 0.3400 - val_acc: 0.8890\n",
      "Epoch 68/100\n",
      "8140/8140 [==============================] - 0s 19us/step - loss: 0.6227 - acc: 0.8160 - val_loss: 0.3399 - val_acc: 0.8900\n",
      "Epoch 69/100\n",
      "8140/8140 [==============================] - 0s 19us/step - loss: 0.6338 - acc: 0.8162 - val_loss: 0.3397 - val_acc: 0.8900\n",
      "Epoch 70/100\n",
      "8140/8140 [==============================] - 0s 21us/step - loss: 0.5962 - acc: 0.8203 - val_loss: 0.3396 - val_acc: 0.8910\n",
      "Epoch 71/100\n",
      "8140/8140 [==============================] - 0s 20us/step - loss: 0.6048 - acc: 0.8208 - val_loss: 0.3395 - val_acc: 0.8915\n",
      "Epoch 72/100\n",
      "8140/8140 [==============================] - 0s 21us/step - loss: 0.6086 - acc: 0.8172 - val_loss: 0.3395 - val_acc: 0.8915\n",
      "Epoch 73/100\n",
      "8140/8140 [==============================] - 0s 22us/step - loss: 0.6019 - acc: 0.8197 - val_loss: 0.3395 - val_acc: 0.8919\n",
      "Epoch 74/100\n",
      "8140/8140 [==============================] - 0s 20us/step - loss: 0.5982 - acc: 0.8253 - val_loss: 0.3395 - val_acc: 0.8919\n",
      "Epoch 75/100\n",
      "8140/8140 [==============================] - 0s 22us/step - loss: 0.5865 - acc: 0.8285 - val_loss: 0.3396 - val_acc: 0.8915\n",
      "Epoch 76/100\n",
      "8140/8140 [==============================] - 0s 19us/step - loss: 0.5857 - acc: 0.8279 - val_loss: 0.3397 - val_acc: 0.8919\n",
      "\n",
      "Epoch 00076: ReduceLROnPlateau reducing learning rate to 0.00010000000474974513.\n",
      "Epoch 77/100\n",
      "8140/8140 [==============================] - 0s 19us/step - loss: 0.5950 - acc: 0.8243 - val_loss: 0.3396 - val_acc: 0.8919\n",
      "Epoch 78/100\n",
      "8140/8140 [==============================] - 0s 20us/step - loss: 0.5636 - acc: 0.8357 - val_loss: 0.3394 - val_acc: 0.8919\n",
      "Epoch 79/100\n",
      "8140/8140 [==============================] - 0s 19us/step - loss: 0.5981 - acc: 0.8271 - val_loss: 0.3393 - val_acc: 0.8919\n",
      "Epoch 80/100\n",
      "8140/8140 [==============================] - 0s 19us/step - loss: 0.5707 - acc: 0.8273 - val_loss: 0.3392 - val_acc: 0.8915\n",
      "Epoch 81/100\n",
      "8140/8140 [==============================] - 0s 19us/step - loss: 0.5821 - acc: 0.8329 - val_loss: 0.3391 - val_acc: 0.8915\n",
      "Epoch 82/100\n",
      "8140/8140 [==============================] - 0s 21us/step - loss: 0.6000 - acc: 0.8172 - val_loss: 0.3389 - val_acc: 0.8910\n",
      "Epoch 83/100\n",
      "8140/8140 [==============================] - 0s 20us/step - loss: 0.5851 - acc: 0.8263 - val_loss: 0.3388 - val_acc: 0.8910\n",
      "Epoch 84/100\n",
      "8140/8140 [==============================] - 0s 20us/step - loss: 0.5793 - acc: 0.8294 - val_loss: 0.3387 - val_acc: 0.8910\n",
      "Epoch 85/100\n",
      "8140/8140 [==============================] - 0s 20us/step - loss: 0.6081 - acc: 0.8219 - val_loss: 0.3385 - val_acc: 0.8910\n",
      "Epoch 86/100\n",
      "8140/8140 [==============================] - 0s 22us/step - loss: 0.6006 - acc: 0.8262 - val_loss: 0.3384 - val_acc: 0.8905\n",
      "Epoch 87/100\n",
      "8140/8140 [==============================] - 0s 20us/step - loss: 0.5767 - acc: 0.8303 - val_loss: 0.3383 - val_acc: 0.8905\n",
      "Epoch 88/100\n",
      "8140/8140 [==============================] - 0s 22us/step - loss: 0.5857 - acc: 0.8216 - val_loss: 0.3382 - val_acc: 0.8905\n",
      "Epoch 89/100\n",
      "8140/8140 [==============================] - 0s 19us/step - loss: 0.5991 - acc: 0.8251 - val_loss: 0.3381 - val_acc: 0.8905\n",
      "Epoch 90/100\n",
      "8140/8140 [==============================] - 0s 19us/step - loss: 0.5807 - acc: 0.8273 - val_loss: 0.3380 - val_acc: 0.8905\n",
      "Epoch 91/100\n",
      "8140/8140 [==============================] - 0s 19us/step - loss: 0.5893 - acc: 0.8252 - val_loss: 0.3379 - val_acc: 0.8905\n",
      "Epoch 92/100\n",
      "8140/8140 [==============================] - 0s 22us/step - loss: 0.5821 - acc: 0.8299 - val_loss: 0.3378 - val_acc: 0.8905\n",
      "Epoch 93/100\n",
      "8140/8140 [==============================] - 0s 21us/step - loss: 0.5966 - acc: 0.8316 - val_loss: 0.3377 - val_acc: 0.8905\n",
      "Epoch 94/100\n",
      "8140/8140 [==============================] - 0s 22us/step - loss: 0.5970 - acc: 0.8262 - val_loss: 0.3376 - val_acc: 0.8905\n",
      "Epoch 95/100\n",
      "8140/8140 [==============================] - 0s 20us/step - loss: 0.5839 - acc: 0.8291 - val_loss: 0.3375 - val_acc: 0.8895\n",
      "Epoch 96/100\n",
      "8140/8140 [==============================] - 0s 19us/step - loss: 0.5896 - acc: 0.8256 - val_loss: 0.3374 - val_acc: 0.8895\n",
      "Epoch 97/100\n",
      "8140/8140 [==============================] - 0s 20us/step - loss: 0.5805 - acc: 0.8187 - val_loss: 0.3373 - val_acc: 0.8895\n",
      "Epoch 98/100\n",
      "8140/8140 [==============================] - 0s 21us/step - loss: 0.5779 - acc: 0.8302 - val_loss: 0.3372 - val_acc: 0.8895\n",
      "Epoch 99/100\n",
      "8140/8140 [==============================] - 0s 21us/step - loss: 0.5790 - acc: 0.8285 - val_loss: 0.3371 - val_acc: 0.8895\n",
      "Epoch 100/100\n",
      "8140/8140 [==============================] - 0s 19us/step - loss: 0.5828 - acc: 0.8287 - val_loss: 0.3370 - val_acc: 0.8890\n"
     ]
    }
   ],
   "source": [
    "reduce_lr = ReduceLROnPlateau(monitor='val_loss', factor=0.1, patience=3, verbose=2)\n",
    "history = model.fit(x = train_x_bf, y = ytr[:,:], epochs = 100, batch_size = 8140,\n",
    "          validation_data = [valid_x_bf,yv[:,:]],callbacks=[reduce_lr], verbose=1)"
   ]
  },
  {
   "cell_type": "code",
   "execution_count": 26,
   "metadata": {},
   "outputs": [
    {
     "data": {
      "image/png": "[encoded data removed]",
      "text/plain": [
       "<matplotlib.figure.Figure at 0x25f731d1780>"
      ]
     },
     "metadata": {},
     "output_type": "display_data"
    },
    {
     "data": {
      "image/png": "[encoded data removed]",
      "text/plain": [
       "<matplotlib.figure.Figure at 0x25f731635c0>"
      ]
     },
     "metadata": {},
     "output_type": "display_data"
    }
   ],
   "source": [
    "# summarize history for accuracy\n",
    "plt.plot(history.history['acc'])\n",
    "plt.plot(history.history['val_acc'])\n",
    "plt.title('model accuracy')\n",
    "plt.ylabel('accuracy')\n",
    "plt.xlabel('epoch')\n",
    "plt.legend(['train', 'test'], loc='upper left')\n",
    "plt.show()\n",
    "# summarize history for loss\n",
    "plt.plot(history.history['loss'])\n",
    "plt.plot(history.history['val_loss'])\n",
    "plt.title('model loss')\n",
    "plt.ylabel('loss')\n",
    "plt.xlabel('epoch')\n",
    "plt.legend(['train', 'test'], loc='upper left')\n",
    "plt.show()"
   ]
  },
  {
   "cell_type": "code",
   "execution_count": null,
   "metadata": {
    "collapsed": true
   },
   "outputs": [],
   "source": [
    "model.save_weights('trained_weights_vgg16_stage1.h5')"
   ]
  },
  {
   "cell_type": "code",
   "execution_count": null,
   "metadata": {
    "collapsed": true
   },
   "outputs": [],
   "source": [
    "#model.load_weights('trained_weights_resenet50_stage1.h5')"
   ]
  },
  {
   "cell_type": "code",
   "execution_count": null,
   "metadata": {
    "collapsed": true
   },
   "outputs": [],
   "source": [
    "for i, layer in enumerate(model.layers):\n",
    "   layer.trainable = True"
   ]
  },
  {
   "cell_type": "code",
   "execution_count": null,
   "metadata": {
    "collapsed": true,
    "scrolled": true
   },
   "outputs": [],
   "source": [
    "reduce_lr = ReduceLROnPlateau(monitor='val_loss', factor=0.2, patience=3, verbose=1)\n",
    "early_stopping = EarlyStopping(monitor='val_loss', min_delta=0, patience=10, verbose=1)\n",
    "model.compile(optimizer=Adam(lr=1e-4), loss='categorical_crossentropy',metrics = [\"accuracy\"])\n",
    "model.fit(x = Xtr, y = ytr[:,1:], epochs = 20, batch_size = 4,validation_data = [Xv,yv[:,1:]],callbacks=[reduce_lr, early_stopping])"
   ]
  },
  {
   "cell_type": "code",
   "execution_count": null,
   "metadata": {
    "collapsed": true
   },
   "outputs": [],
   "source": [
    "model.save_weights('trained_weights_vgg16.h5')"
   ]
  },
  {
   "cell_type": "markdown",
   "metadata": {
    "collapsed": true
   },
   "source": [
    "Creating submission file"
   ]
  },
  {
   "cell_type": "code",
   "execution_count": null,
   "metadata": {
    "collapsed": true
   },
   "outputs": [],
   "source": [
    "INPUT_SIZE = 224\n",
    "for i, img_id in tqdm(enumerate(sample_submission['id'])):\n",
    "    img = read_img(img_id, 'test', (INPUT_SIZE, INPUT_SIZE))\n",
    "    x = preprocess_input(np.expand_dims(img.copy(), axis=0))\n",
    "    y = model.predict(x)\n",
    "    sample_submission.iloc[i,1:121] = np.asarray(y[0,0:120])"
   ]
  },
  {
   "cell_type": "code",
   "execution_count": null,
   "metadata": {
    "collapsed": true
   },
   "outputs": [],
   "source": [
    "#sample_submission.iloc[1,1:121] = np.asarray(y[0,0:120])"
   ]
  },
  {
   "cell_type": "code",
   "execution_count": null,
   "metadata": {
    "collapsed": true
   },
   "outputs": [],
   "source": [
    "#sample_submission.head()"
   ]
  },
  {
   "cell_type": "code",
   "execution_count": null,
   "metadata": {
    "collapsed": true
   },
   "outputs": [],
   "source": [
    "sample_submission.to_csv('submission4.csv',index=False)"
   ]
  },
  {
   "cell_type": "code",
   "execution_count": null,
   "metadata": {
    "collapsed": true
   },
   "outputs": [],
   "source": []
  }
 ],
 "metadata": {
  "kernelspec": {
   "display_name": "Python 3",
   "language": "python",
   "name": "python3"
  },
  "language_info": {
   "codemirror_mode": {
    "name": "ipython",
    "version": 3
   },
   "file_extension": ".py",
   "mimetype": "text/x-python",
   "name": "python",
   "nbconvert_exporter": "python",
   "pygments_lexer": "ipython3",
   "version": "3.5.2"
  }
 },
 "nbformat": 4,
 "nbformat_minor": 2
}
