{
 "cells": [
  {
   "cell_type": "code",
   "execution_count": 1,
   "metadata": {},
   "outputs": [
    {
     "name": "stderr",
     "output_type": "stream",
     "text": [
      "c:\\users\\popeye\\appdata\\local\\programs\\python\\python35\\lib\\site-packages\\h5py\\__init__.py:36: FutureWarning: Conversion of the second argument of issubdtype from `float` to `np.floating` is deprecated. In future, it will be treated as `np.float64 == np.dtype(float).type`.\n",
      "  from ._conv import register_converters as _register_converters\n",
      "Using TensorFlow backend.\n"
     ]
    }
   ],
   "source": [
    "%matplotlib inline\n",
    "import numpy as np\n",
    "import pandas as pd\n",
    "import datetime as dt\n",
    "import matplotlib.pyplot as plt\n",
    "import matplotlib as mpl\n",
    "from mpl_toolkits.axes_grid1 import ImageGrid\n",
    "from os import listdir, makedirs\n",
    "from os.path import join, exists, expanduser\n",
    "from tqdm import tqdm\n",
    "from sklearn.metrics import log_loss, accuracy_score\n",
    "from keras.preprocessing import image\n",
    "from keras.applications.vgg16 import VGG16\n",
    "from keras.applications.resnet50 import ResNet50\n",
    "from keras.applications import xception\n",
    "from keras.applications import inception_v3\n",
    "from keras.applications.vgg16 import preprocess_input, decode_predictions\n",
    "from sklearn.linear_model import LogisticRegression\n",
    "from keras.layers.normalization import BatchNormalization\n",
    "from keras.models import Model\n",
    "from keras.layers import Flatten, Dense, Dropout,Input\n",
    "from keras.optimizers import Adam\n",
    "from keras.callbacks import TensorBoard, ModelCheckpoint, ReduceLROnPlateau, EarlyStopping"
   ]
  },
  {
   "cell_type": "code",
   "execution_count": null,
   "metadata": {
    "collapsed": true
   },
   "outputs": [],
   "source": []
  },
  {
   "cell_type": "code",
   "execution_count": 2,
   "metadata": {},
   "outputs": [
    {
     "name": "stdout",
     "output_type": "stream",
     "text": [
      "10222 10222\n",
      "10357 10357\n"
     ]
    }
   ],
   "source": [
    "SEED = 1987\n",
    "data_dir = ''\n",
    "labels = pd.read_csv(join(data_dir, 'labels.csv'))\n",
    "sample_submission = pd.read_csv(join(data_dir, 'sample_submission.csv'))\n",
    "print(len(listdir(join(data_dir, 'train'))), len(labels))\n",
    "print(len(listdir(join(data_dir, 'test'))), len(sample_submission))"
   ]
  },
  {
   "cell_type": "code",
   "execution_count": 3,
   "metadata": {
    "collapsed": true
   },
   "outputs": [],
   "source": [
    "# This part is optional for if you want to train only on most popular classes. \n",
    "# NUM_CLASSES = 16\n",
    "# selected_breed_list = list(labels.groupby('breed').count().sort_values(by='id', ascending=False).head(NUM_CLASSES).index)\n",
    "# labels = labels[labels['breed'].isin(selected_breed_list)]"
   ]
  },
  {
   "cell_type": "code",
   "execution_count": 4,
   "metadata": {
    "collapsed": true
   },
   "outputs": [],
   "source": [
    "labels['target'] = 1\n",
    "labels_pivot = labels.pivot('id', 'breed', 'target').reset_index().fillna(0)\n",
    "np.random.seed(seed=SEED)\n",
    "rnd = np.random.random(len(labels))\n",
    "train_idx = rnd < 0.8\n",
    "valid_idx = rnd >= 0.8\n",
    "y_train = labels_pivot.values\n",
    "ytr = y_train[train_idx]\n",
    "yv = y_train[valid_idx]"
   ]
  },
  {
   "cell_type": "code",
   "execution_count": 5,
   "metadata": {
    "collapsed": true
   },
   "outputs": [],
   "source": [
    "def read_img(img_id, train_or_test, size):\n",
    "    \"\"\"Read and resize image.\n",
    "    # Arguments\n",
    "        img_id: string\n",
    "        train_or_test: string 'train' or 'test'.\n",
    "        size: resize the original image.\n",
    "    # Returns\n",
    "        Image as numpy array.\n",
    "    \"\"\"\n",
    "    img = image.load_img(join(data_dir, train_or_test, '%s.jpg' % img_id), target_size=size)\n",
    "    img = image.img_to_array(img)\n",
    "    return img"
   ]
  },
  {
   "cell_type": "code",
   "execution_count": 6,
   "metadata": {},
   "outputs": [
    {
     "name": "stderr",
     "output_type": "stream",
     "text": [
      "10222it [00:38, 268.53it/s]\n"
     ]
    },
    {
     "name": "stdout",
     "output_type": "stream",
     "text": [
      "Train Images shape: (10222, 224, 224, 3) size: 1,538,697,216\n"
     ]
    }
   ],
   "source": [
    "INPUT_SIZE = 224\n",
    "x_train = np.zeros((len(labels), INPUT_SIZE, INPUT_SIZE, 3), dtype='float32')\n",
    "for i, img_id in tqdm(enumerate(labels['id'])):\n",
    "    img = read_img(img_id, 'train', (INPUT_SIZE, INPUT_SIZE))\n",
    "    x = preprocess_input(np.expand_dims(img.copy(), axis=0))\n",
    "    x_train[i] = x\n",
    "print('Train Images shape: {} size: {:,}'.format(x_train.shape, x_train.size))"
   ]
  },
  {
   "cell_type": "code",
   "execution_count": 7,
   "metadata": {},
   "outputs": [
    {
     "name": "stdout",
     "output_type": "stream",
     "text": [
      "((8140, 224, 224, 3), (2082, 224, 224, 3), (8140, 121), (2082, 121))\n"
     ]
    }
   ],
   "source": [
    "Xtr = x_train[train_idx]\n",
    "Xv = x_train[valid_idx]\n",
    "print((Xtr.shape, Xv.shape, ytr.shape, yv.shape))"
   ]
  },
  {
   "cell_type": "code",
   "execution_count": 8,
   "metadata": {
    "collapsed": true
   },
   "outputs": [],
   "source": [
    "del x_train"
   ]
  },
  {
   "cell_type": "code",
   "execution_count": 9,
   "metadata": {},
   "outputs": [
    {
     "name": "stdout",
     "output_type": "stream",
     "text": [
      "8140/8140 [==============================] - ETA: 9: - ETA: 5: - ETA: 3: - ETA: 3: - ETA: 2: - ETA: 2: - ETA: 2: - ETA: 1: - ETA: 1: - ETA: 1: - ETA: 1: - ETA: 1: - ETA: 1: - ETA: 1: - ETA: 1: - ETA: 1: - ETA: 1: - ETA: 1: - ETA: 1: - ETA: 1: - ETA: 1: - ETA: 1: - ETA: 1: - ETA: 1: - ETA: 1: - ETA: 1: - ETA: 1: - ETA: 1: - ETA: 1: - ETA: 1: - ETA: 1: - ETA: 1: - ETA: 59s - ETA: 59 - ETA: 58 - ETA: 57 - ETA: 57 - ETA: 56 - ETA: 55 - ETA: 55 - ETA: 54 - ETA: 54 - ETA: 53 - ETA: 53 - ETA: 53 - ETA: 52 - ETA: 52 - ETA: 51 - ETA: 51 - ETA: 50 - ETA: 50 - ETA: 50 - ETA: 49 - ETA: 49 - ETA: 48 - ETA: 48 - ETA: 48 - ETA: 47 - ETA: 47 - ETA: 47 - ETA: 46 - ETA: 46 - ETA: 46 - ETA: 45 - ETA: 45 - ETA: 45 - ETA: 44 - ETA: 44 - ETA: 44 - ETA: 43 - ETA: 43 - ETA: 43 - ETA: 42 - ETA: 42 - ETA: 42 - ETA: 41 - ETA: 41 - ETA: 41 - ETA: 41 - ETA: 40 - ETA: 40 - ETA: 40 - ETA: 39 - ETA: 39 - ETA: 39 - ETA: 39 - ETA: 38 - ETA: 38 - ETA: 38 - ETA: 37 - ETA: 37 - ETA: 37 - ETA: 37 - ETA: 36 - ETA: 36 - ETA: 36 - ETA: 36 - ETA: 35 - ETA: 35 - ETA: 35 - ETA: 34 - ETA: 34 - ETA: 34 - ETA: 34 - ETA: 33 - ETA: 33 - ETA: 33 - ETA: 33 - ETA: 32 - ETA: 32 - ETA: 32 - ETA: 32 - ETA: 31 - ETA: 31 - ETA: 31 - ETA: 31 - ETA: 30 - ETA: 30 - ETA: 30 - ETA: 30 - ETA: 29 - ETA: 29 - ETA: 29 - ETA: 29 - ETA: 28 - ETA: 28 - ETA: 28 - ETA: 28 - ETA: 28 - ETA: 27 - ETA: 27 - ETA: 27 - ETA: 27 - ETA: 26 - ETA: 26 - ETA: 26 - ETA: 26 - ETA: 25 - ETA: 25 - ETA: 25 - ETA: 25 - ETA: 24 - ETA: 24 - ETA: 24 - ETA: 24 - ETA: 24 - ETA: 23 - ETA: 23 - ETA: 23 - ETA: 23 - ETA: 22 - ETA: 22 - ETA: 22 - ETA: 22 - ETA: 21 - ETA: 21 - ETA: 21 - ETA: 21 - ETA: 21 - ETA: 20 - ETA: 20 - ETA: 20 - ETA: 20 - ETA: 19 - ETA: 19 - ETA: 19 - ETA: 19 - ETA: 19 - ETA: 18 - ETA: 18 - ETA: 18 - ETA: 18 - ETA: 17 - ETA: 17 - ETA: 17 - ETA: 17 - ETA: 16 - ETA: 16 - ETA: 16 - ETA: 16 - ETA: 16 - ETA: 15 - ETA: 15 - ETA: 15 - ETA: 15 - ETA: 14 - ETA: 14 - ETA: 14 - ETA: 14 - ETA: 14 - ETA: 13 - ETA: 13 - ETA: 13 - ETA: 13 - ETA: 12 - ETA: 12 - ETA: 12 - ETA: 12 - ETA: 12 - ETA: 11 - ETA: 11 - ETA: 11 - ETA: 11 - ETA: 10 - ETA: 10 - ETA: 10 - ETA: 10 - ETA: 10 - ETA: 9 - ETA:  - ETA:  - ETA:  - ETA:  - ETA:  - ETA:  - ETA:  - ETA:  - ETA:  - ETA:  - ETA:  - ETA:  - ETA:  - ETA:  - ETA:  - ETA:  - ETA:  - ETA:  - ETA:  - ETA:  - ETA:  - ETA:  - ETA:  - ETA:  - ETA:  - ETA:  - ETA:  - ETA:  - ETA:  - ETA:  - ETA:  - ETA:  - ETA:  - ETA:  - ETA:  - ETA:  - ETA:  - ETA:  - ETA:  - ETA:  - ETA:  - ETA:  - ETA:  - ETA:  - ETA:  - 56s 7ms/step\n"
     ]
    }
   ],
   "source": [
    "POOLING='none'\n",
    "model_vgg16_bottleneck = VGG16(weights='imagenet',include_top=False, input_shape = (INPUT_SIZE,INPUT_SIZE,3),pooling=POOLING)\n",
    "model_vgg16 = VGG16(weights='imagenet',include_top=True, input_shape = (INPUT_SIZE,INPUT_SIZE,3),pooling=POOLING)\n",
    "train_vgg_bf = model_vgg16_bottleneck.predict(Xtr, batch_size=32, verbose=1)"
   ]
  },
  {
   "cell_type": "code",
   "execution_count": 10,
   "metadata": {},
   "outputs": [
    {
     "name": "stdout",
     "output_type": "stream",
     "text": [
      "(8140, 7, 7, 512) (2082, 7, 7, 512)\n"
     ]
    }
   ],
   "source": [
    "valid_vgg_bf = model_vgg16_bottleneck.predict(Xv, batch_size=32, verbose=2)\n",
    "print(train_vgg_bf.shape,valid_vgg_bf.shape)"
   ]
  },
  {
   "cell_type": "code",
   "execution_count": 11,
   "metadata": {},
   "outputs": [],
   "source": [
    "fc1_layer = model_vgg16.get_layer(\"fc1\")\n",
    "inputs = Input(shape=(7,7,512))\n",
    "x = Flatten()(inputs)\n",
    "x = fc1_layer(x)\n",
    "x = BatchNormalization()(x)\n",
    "x = Dropout(0.8)(x)\n",
    "x = Dense(512, activation='relu')(x)\n",
    "x = BatchNormalization()(x)\n",
    "x = Dropout(0.8)(x)\n",
    "predictions = Dense(ytr.shape[1]-1, activation='softmax',name='Last_softmax')(x) \n",
    "model = Model(inputs, outputs=predictions)"
   ]
  },
  {
   "cell_type": "code",
   "execution_count": 12,
   "metadata": {
    "scrolled": true
   },
   "outputs": [
    {
     "name": "stdout",
     "output_type": "stream",
     "text": [
      "_________________________________________________________________\n",
      "Layer (type)                 Output Shape              Param #   \n",
      "=================================================================\n",
      "input_3 (InputLayer)         (None, 7, 7, 512)         0         \n",
      "_________________________________________________________________\n",
      "flatten_1 (Flatten)          (None, 25088)             0         \n",
      "_________________________________________________________________\n",
      "fc1 (Dense)                  (None, 4096)              102764544 \n",
      "_________________________________________________________________\n",
      "batch_normalization_1 (Batch (None, 4096)              16384     \n",
      "_________________________________________________________________\n",
      "dropout_1 (Dropout)          (None, 4096)              0         \n",
      "_________________________________________________________________\n",
      "dense_1 (Dense)              (None, 512)               2097664   \n",
      "_________________________________________________________________\n",
      "batch_normalization_2 (Batch (None, 512)               2048      \n",
      "_________________________________________________________________\n",
      "dropout_2 (Dropout)          (None, 512)               0         \n",
      "_________________________________________________________________\n",
      "Last_softmax (Dense)         (None, 120)               61560     \n",
      "=================================================================\n",
      "Total params: 104,942,200\n",
      "Trainable params: 104,932,984\n",
      "Non-trainable params: 9,216\n",
      "_________________________________________________________________\n"
     ]
    }
   ],
   "source": [
    "model.summary()"
   ]
  },
  {
   "cell_type": "code",
   "execution_count": 13,
   "metadata": {},
   "outputs": [
    {
     "name": "stdout",
     "output_type": "stream",
     "text": [
      "0 input_3 False\n",
      "1 flatten_1 False\n",
      "2 fc1 False\n"
     ]
    }
   ],
   "source": [
    "for i, layer in enumerate(model.layers[:-6]):\n",
    "   layer.trainable = False\n",
    "   print(i, layer.name,layer.trainable)   "
   ]
  },
  {
   "cell_type": "code",
   "execution_count": 14,
   "metadata": {},
   "outputs": [],
   "source": [
    "model.compile(optimizer=Adam(lr=1e-3), loss='categorical_crossentropy',metrics = [\"accuracy\"])"
   ]
  },
  {
   "cell_type": "code",
   "execution_count": 15,
   "metadata": {
    "scrolled": true
   },
   "outputs": [
    {
     "name": "stdout",
     "output_type": "stream",
     "text": [
      "Train on 8140 samples, validate on 2082 samples\n",
      "Epoch 1/80\n",
      "8140/8140 [==============================] - 2s 286us/step - loss: 8.0514 - acc: 0.0085 - val_loss: 4.6413 - val_acc: 0.0303\n",
      "Epoch 2/80\n",
      "8140/8140 [==============================] - 2s 188us/step - loss: 7.7228 - acc: 0.0103 - val_loss: 4.2100 - val_acc: 0.1134\n",
      "Epoch 3/80\n",
      "8140/8140 [==============================] - 2s 188us/step - loss: 7.1076 - acc: 0.0210 - val_loss: 3.7873 - val_acc: 0.2310\n",
      "Epoch 4/80\n",
      "8140/8140 [==============================] - 2s 186us/step - loss: 6.7008 - acc: 0.0296 - val_loss: 3.4037 - val_acc: 0.3160\n",
      "Epoch 5/80\n",
      "8140/8140 [==============================] - 2s 194us/step - loss: 6.1858 - acc: 0.0430 - val_loss: 3.0726 - val_acc: 0.3703\n",
      "Epoch 6/80\n",
      "8140/8140 [==============================] - 2s 193us/step - loss: 5.7489 - acc: 0.0613 - val_loss: 2.7917 - val_acc: 0.4193\n",
      "Epoch 7/80\n",
      "8140/8140 [==============================] - 2s 190us/step - loss: 5.3270 - acc: 0.0893 - val_loss: 2.5600 - val_acc: 0.4544\n",
      "Epoch 8/80\n",
      "8140/8140 [==============================] - 2s 193us/step - loss: 5.0361 - acc: 0.1045 - val_loss: 2.3676 - val_acc: 0.4870\n",
      "Epoch 9/80\n",
      "8140/8140 [==============================] - 2s 195us/step - loss: 4.6409 - acc: 0.1376 - val_loss: 2.2063 - val_acc: 0.5038\n",
      "Epoch 10/80\n",
      "8140/8140 [==============================] - 2s 188us/step - loss: 4.4088 - acc: 0.1601 - val_loss: 2.0699 - val_acc: 0.5235\n",
      "Epoch 11/80\n",
      "8140/8140 [==============================] - 2s 193us/step - loss: 4.1288 - acc: 0.1948 - val_loss: 1.9534 - val_acc: 0.5384\n",
      "Epoch 12/80\n",
      "8140/8140 [==============================] - 2s 189us/step - loss: 3.8809 - acc: 0.2125 - val_loss: 1.8532 - val_acc: 0.5509\n",
      "Epoch 13/80\n",
      "8140/8140 [==============================] - 2s 189us/step - loss: 3.7056 - acc: 0.2334 - val_loss: 1.7653 - val_acc: 0.5596\n",
      "Epoch 14/80\n",
      "8140/8140 [==============================] - 2s 194us/step - loss: 3.4954 - acc: 0.2614 - val_loss: 1.6880 - val_acc: 0.5716\n",
      "Epoch 15/80\n",
      "8140/8140 [==============================] - 1s 184us/step - loss: 3.3600 - acc: 0.2765 - val_loss: 1.6193 - val_acc: 0.5860\n",
      "Epoch 16/80\n",
      "8140/8140 [==============================] - 2s 186us/step - loss: 3.1977 - acc: 0.3029 - val_loss: 1.5573 - val_acc: 0.5989\n",
      "Epoch 17/80\n",
      "8140/8140 [==============================] - 2s 187us/step - loss: 3.0774 - acc: 0.3162 - val_loss: 1.5015 - val_acc: 0.6100\n",
      "Epoch 18/80\n",
      "8140/8140 [==============================] - 1s 180us/step - loss: 2.9797 - acc: 0.3280 - val_loss: 1.4510 - val_acc: 0.6196\n",
      "Epoch 19/80\n",
      "8140/8140 [==============================] - 2s 187us/step - loss: 2.8701 - acc: 0.3404 - val_loss: 1.4051 - val_acc: 0.6249\n",
      "Epoch 20/80\n",
      "8140/8140 [==============================] - 2s 193us/step - loss: 2.8016 - acc: 0.3581 - val_loss: 1.3635 - val_acc: 0.6350\n",
      "Epoch 21/80\n",
      "8140/8140 [==============================] - 2s 192us/step - loss: 2.6644 - acc: 0.3752 - val_loss: 1.3260 - val_acc: 0.6398\n",
      "Epoch 22/80\n",
      "8140/8140 [==============================] - 2s 185us/step - loss: 2.5985 - acc: 0.3807 - val_loss: 1.2919 - val_acc: 0.6451\n",
      "Epoch 23/80\n",
      "8140/8140 [==============================] - 2s 189us/step - loss: 2.5224 - acc: 0.4011 - val_loss: 1.2606 - val_acc: 0.6503\n",
      "Epoch 24/80\n",
      "8140/8140 [==============================] - 2s 192us/step - loss: 2.4622 - acc: 0.4084 - val_loss: 1.2322 - val_acc: 0.6575\n",
      "Epoch 25/80\n",
      "8140/8140 [==============================] - 2s 188us/step - loss: 2.3865 - acc: 0.4170 - val_loss: 1.2061 - val_acc: 0.6667\n",
      "Epoch 26/80\n",
      "8140/8140 [==============================] - 2s 190us/step - loss: 2.3487 - acc: 0.4214 - val_loss: 1.1826 - val_acc: 0.6753\n",
      "Epoch 27/80\n",
      "8140/8140 [==============================] - 2s 190us/step - loss: 2.2896 - acc: 0.4359 - val_loss: 1.1612 - val_acc: 0.6816\n",
      "Epoch 28/80\n",
      "8140/8140 [==============================] - 2s 185us/step - loss: 2.2476 - acc: 0.4421 - val_loss: 1.1420 - val_acc: 0.6844\n",
      "Epoch 29/80\n",
      "8140/8140 [==============================] - 2s 190us/step - loss: 2.1711 - acc: 0.4514 - val_loss: 1.1248 - val_acc: 0.6878\n",
      "Epoch 30/80\n",
      "8140/8140 [==============================] - 2s 189us/step - loss: 2.1401 - acc: 0.4553 - val_loss: 1.1091 - val_acc: 0.6936\n",
      "Epoch 31/80\n",
      "8140/8140 [==============================] - 2s 191us/step - loss: 2.0626 - acc: 0.4765 - val_loss: 1.0949 - val_acc: 0.6979\n",
      "Epoch 32/80\n",
      "8140/8140 [==============================] - 2s 188us/step - loss: 2.0290 - acc: 0.4732 - val_loss: 1.0820 - val_acc: 0.7022\n",
      "Epoch 33/80\n",
      "8140/8140 [==============================] - 1s 182us/step - loss: 1.9755 - acc: 0.4910 - val_loss: 1.0703 - val_acc: 0.7061\n",
      "Epoch 34/80\n",
      "8140/8140 [==============================] - 2s 186us/step - loss: 1.9581 - acc: 0.4913 - val_loss: 1.0595 - val_acc: 0.7065\n",
      "Epoch 35/80\n",
      "8140/8140 [==============================] - 2s 187us/step - loss: 1.9377 - acc: 0.4959 - val_loss: 1.0495 - val_acc: 0.7094\n",
      "Epoch 36/80\n",
      "8140/8140 [==============================] - 2s 190us/step - loss: 1.8834 - acc: 0.5111 - val_loss: 1.0402 - val_acc: 0.7099\n",
      "Epoch 37/80\n",
      "8140/8140 [==============================] - 2s 186us/step - loss: 1.8510 - acc: 0.5176 - val_loss: 1.0316 - val_acc: 0.7104\n",
      "Epoch 38/80\n",
      "8140/8140 [==============================] - 2s 190us/step - loss: 1.8138 - acc: 0.5221 - val_loss: 1.0236 - val_acc: 0.7113\n",
      "Epoch 39/80\n",
      "8140/8140 [==============================] - 2s 193us/step - loss: 1.8074 - acc: 0.5278 - val_loss: 1.0164 - val_acc: 0.7118\n",
      "Epoch 40/80\n",
      "8140/8140 [==============================] - 2s 190us/step - loss: 1.8087 - acc: 0.5213 - val_loss: 1.0096 - val_acc: 0.7152\n",
      "Epoch 41/80\n",
      "8140/8140 [==============================] - 2s 191us/step - loss: 1.7589 - acc: 0.5306 - val_loss: 1.0035 - val_acc: 0.7176\n",
      "Epoch 42/80\n",
      "8140/8140 [==============================] - 2s 197us/step - loss: 1.7231 - acc: 0.5412 - val_loss: 0.9976 - val_acc: 0.7185\n",
      "Epoch 43/80\n",
      "8140/8140 [==============================] - 2s 194us/step - loss: 1.7019 - acc: 0.5467 - val_loss: 0.9922 - val_acc: 0.7181\n",
      "Epoch 44/80\n",
      "8140/8140 [==============================] - 2s 192us/step - loss: 1.6832 - acc: 0.5507 - val_loss: 0.9870 - val_acc: 0.7185\n",
      "Epoch 45/80\n",
      "8140/8140 [==============================] - 2s 187us/step - loss: 1.6260 - acc: 0.5558 - val_loss: 0.9822 - val_acc: 0.7200\n",
      "Epoch 46/80\n",
      "8140/8140 [==============================] - 2s 188us/step - loss: 1.6406 - acc: 0.5520 - val_loss: 0.9776 - val_acc: 0.7209\n",
      "Epoch 47/80\n",
      "8140/8140 [==============================] - 2s 190us/step - loss: 1.6215 - acc: 0.5612 - val_loss: 0.9731 - val_acc: 0.7209\n",
      "Epoch 48/80\n",
      "8140/8140 [==============================] - 2s 194us/step - loss: 1.5973 - acc: 0.5643 - val_loss: 0.9687 - val_acc: 0.7219\n",
      "Epoch 49/80\n",
      "8140/8140 [==============================] - 2s 187us/step - loss: 1.6033 - acc: 0.5628 - val_loss: 0.9646 - val_acc: 0.7243\n",
      "Epoch 50/80\n",
      "8140/8140 [==============================] - 1s 182us/step - loss: 1.5385 - acc: 0.5737 - val_loss: 0.9608 - val_acc: 0.7243\n",
      "Epoch 51/80\n",
      "8140/8140 [==============================] - 1s 180us/step - loss: 1.5504 - acc: 0.5710 - val_loss: 0.9573 - val_acc: 0.7257\n",
      "Epoch 52/80\n",
      "8140/8140 [==============================] - 1s 182us/step - loss: 1.5311 - acc: 0.5759 - val_loss: 0.9540 - val_acc: 0.7253\n",
      "Epoch 53/80\n",
      "8140/8140 [==============================] - 2s 187us/step - loss: 1.5183 - acc: 0.5830 - val_loss: 0.9508 - val_acc: 0.7253\n",
      "Epoch 54/80\n",
      "8140/8140 [==============================] - 2s 186us/step - loss: 1.4745 - acc: 0.5952 - val_loss: 0.9477 - val_acc: 0.7262\n",
      "Epoch 55/80\n",
      "8140/8140 [==============================] - 2s 191us/step - loss: 1.4733 - acc: 0.5939 - val_loss: 0.9447 - val_acc: 0.7267\n",
      "Epoch 56/80\n",
      "8140/8140 [==============================] - 2s 192us/step - loss: 1.4582 - acc: 0.5967 - val_loss: 0.9416 - val_acc: 0.7277\n",
      "Epoch 57/80\n",
      "8140/8140 [==============================] - 2s 185us/step - loss: 1.4656 - acc: 0.5982 - val_loss: 0.9386 - val_acc: 0.7281\n",
      "Epoch 58/80\n",
      "8140/8140 [==============================] - 1s 183us/step - loss: 1.4503 - acc: 0.6009 - val_loss: 0.9356 - val_acc: 0.7296\n",
      "Epoch 59/80\n",
      "8140/8140 [==============================] - 1s 182us/step - loss: 1.4444 - acc: 0.5993 - val_loss: 0.9326 - val_acc: 0.7291\n",
      "Epoch 60/80\n",
      "8140/8140 [==============================] - 1s 183us/step - loss: 1.4092 - acc: 0.6045 - val_loss: 0.9297 - val_acc: 0.7277\n"
     ]
    },
    {
     "name": "stdout",
     "output_type": "stream",
     "text": [
      "Epoch 61/80\n",
      "8140/8140 [==============================] - 2s 189us/step - loss: 1.3993 - acc: 0.6039 - val_loss: 0.9271 - val_acc: 0.7286\n",
      "Epoch 62/80\n",
      "8140/8140 [==============================] - 2s 186us/step - loss: 1.4118 - acc: 0.6014 - val_loss: 0.9246 - val_acc: 0.7296\n",
      "Epoch 63/80\n",
      "8140/8140 [==============================] - 2s 188us/step - loss: 1.3782 - acc: 0.6145 - val_loss: 0.9222 - val_acc: 0.7305\n",
      "Epoch 64/80\n",
      "8140/8140 [==============================] - 2s 188us/step - loss: 1.3654 - acc: 0.6131 - val_loss: 0.9198 - val_acc: 0.7310\n",
      "Epoch 65/80\n",
      "8140/8140 [==============================] - 2s 187us/step - loss: 1.3371 - acc: 0.6182 - val_loss: 0.9174 - val_acc: 0.7310\n",
      "Epoch 66/80\n",
      "8140/8140 [==============================] - 2s 191us/step - loss: 1.3477 - acc: 0.6243 - val_loss: 0.9149 - val_acc: 0.7334\n",
      "Epoch 67/80\n",
      "8140/8140 [==============================] - 2s 188us/step - loss: 1.3340 - acc: 0.6216 - val_loss: 0.9126 - val_acc: 0.7344\n",
      "Epoch 68/80\n",
      "8140/8140 [==============================] - 2s 186us/step - loss: 1.3320 - acc: 0.6220 - val_loss: 0.9104 - val_acc: 0.7344\n",
      "Epoch 69/80\n",
      "8140/8140 [==============================] - 2s 186us/step - loss: 1.3095 - acc: 0.6254 - val_loss: 0.9083 - val_acc: 0.7344\n",
      "Epoch 70/80\n",
      "8140/8140 [==============================] - 2s 191us/step - loss: 1.2788 - acc: 0.6382 - val_loss: 0.9062 - val_acc: 0.7368\n",
      "Epoch 71/80\n",
      "8140/8140 [==============================] - 2s 189us/step - loss: 1.2924 - acc: 0.6285 - val_loss: 0.9042 - val_acc: 0.7392\n",
      "Epoch 72/80\n",
      "8140/8140 [==============================] - 2s 187us/step - loss: 1.2865 - acc: 0.6353 - val_loss: 0.9023 - val_acc: 0.7406\n",
      "Epoch 73/80\n",
      "8140/8140 [==============================] - 2s 194us/step - loss: 1.2680 - acc: 0.6350 - val_loss: 0.9005 - val_acc: 0.7406\n",
      "Epoch 74/80\n",
      "8140/8140 [==============================] - 2s 186us/step - loss: 1.2573 - acc: 0.6392 - val_loss: 0.8987 - val_acc: 0.7406\n",
      "Epoch 75/80\n",
      "8140/8140 [==============================] - 2s 186us/step - loss: 1.2408 - acc: 0.6415 - val_loss: 0.8970 - val_acc: 0.7402\n",
      "Epoch 76/80\n",
      "8140/8140 [==============================] - 2s 189us/step - loss: 1.2356 - acc: 0.6416 - val_loss: 0.8952 - val_acc: 0.7392\n",
      "Epoch 77/80\n",
      "8140/8140 [==============================] - 2s 194us/step - loss: 1.2414 - acc: 0.6440 - val_loss: 0.8934 - val_acc: 0.7378\n",
      "Epoch 78/80\n",
      "8140/8140 [==============================] - 2s 187us/step - loss: 1.2279 - acc: 0.6493 - val_loss: 0.8915 - val_acc: 0.7373\n",
      "Epoch 79/80\n",
      "8140/8140 [==============================] - 2s 185us/step - loss: 1.2015 - acc: 0.6511 - val_loss: 0.8896 - val_acc: 0.7368\n",
      "Epoch 80/80\n",
      "8140/8140 [==============================] - 2s 193us/step - loss: 1.2069 - acc: 0.6506 - val_loss: 0.8880 - val_acc: 0.7363\n"
     ]
    }
   ],
   "source": [
    "reduce_lr = ReduceLROnPlateau(monitor='val_loss', factor=0.1, patience=3, verbose=2)\n",
    "history = model.fit(x = train_vgg_bf, y = ytr[:,1:], epochs = 80, batch_size = 8140,\n",
    "          validation_data = [valid_vgg_bf,yv[:,1:]],callbacks=[reduce_lr], verbose=1)"
   ]
  },
  {
   "cell_type": "code",
   "execution_count": 17,
   "metadata": {},
   "outputs": [
    {
     "data": {
      "image/png": "[encoded data removed]",
      "text/plain": [
       "<matplotlib.figure.Figure at 0x20782a5c898>"
      ]
     },
     "metadata": {},
     "output_type": "display_data"
    },
    {
     "data": {
      "image/png": "[encoded data removed]",
      "text/plain": [
       "<matplotlib.figure.Figure at 0x207829c4898>"
      ]
     },
     "metadata": {},
     "output_type": "display_data"
    }
   ],
   "source": [
    "# summarize history for accuracy\n",
    "plt.plot(history.history['acc'])\n",
    "plt.plot(history.history['val_acc'])\n",
    "plt.title('model accuracy')\n",
    "plt.ylabel('accuracy')\n",
    "plt.xlabel('epoch')\n",
    "plt.legend(['train', 'test'], loc='upper left')\n",
    "plt.show()\n",
    "# summarize history for loss\n",
    "plt.plot(history.history['loss'])\n",
    "plt.plot(history.history['val_loss'])\n",
    "plt.title('model loss')\n",
    "plt.ylabel('loss')\n",
    "plt.xlabel('epoch')\n",
    "plt.legend(['train', 'test'], loc='upper left')\n",
    "plt.show()"
   ]
  },
  {
   "cell_type": "code",
   "execution_count": null,
   "metadata": {
    "collapsed": true
   },
   "outputs": [],
   "source": [
    "model.save_weights('trained_weights_vgg16_stage1.h5')"
   ]
  },
  {
   "cell_type": "code",
   "execution_count": null,
   "metadata": {
    "collapsed": true
   },
   "outputs": [],
   "source": [
    "#model.load_weights('trained_weights_resenet50_stage1.h5')"
   ]
  },
  {
   "cell_type": "code",
   "execution_count": null,
   "metadata": {
    "collapsed": true
   },
   "outputs": [],
   "source": [
    "for i, layer in enumerate(model.layers):\n",
    "   layer.trainable = True"
   ]
  },
  {
   "cell_type": "code",
   "execution_count": null,
   "metadata": {
    "scrolled": true
   },
   "outputs": [],
   "source": [
    "reduce_lr = ReduceLROnPlateau(monitor='val_loss', factor=0.2, patience=3, verbose=1)\n",
    "early_stopping = EarlyStopping(monitor='val_loss', min_delta=0, patience=10, verbose=1)\n",
    "model.compile(optimizer=Adam(lr=1e-4), loss='categorical_crossentropy',metrics = [\"accuracy\"])\n",
    "model.fit(x = Xtr, y = ytr[:,1:], epochs = 20, batch_size = 4,validation_data = [Xv,yv[:,1:]],callbacks=[reduce_lr, early_stopping])"
   ]
  },
  {
   "cell_type": "code",
   "execution_count": null,
   "metadata": {
    "collapsed": true
   },
   "outputs": [],
   "source": [
    "model.save_weights('trained_weights_vgg16.h5')"
   ]
  },
  {
   "cell_type": "markdown",
   "metadata": {
    "collapsed": true
   },
   "source": [
    "Creating submission file"
   ]
  },
  {
   "cell_type": "code",
   "execution_count": null,
   "metadata": {},
   "outputs": [],
   "source": [
    "INPUT_SIZE = 224\n",
    "for i, img_id in tqdm(enumerate(sample_submission['id'])):\n",
    "    img = read_img(img_id, 'test', (INPUT_SIZE, INPUT_SIZE))\n",
    "    x = preprocess_input(np.expand_dims(img.copy(), axis=0))\n",
    "    y = model.predict(x)\n",
    "    sample_submission.iloc[i,1:121] = np.asarray(y[0,0:120])"
   ]
  },
  {
   "cell_type": "code",
   "execution_count": null,
   "metadata": {
    "collapsed": true
   },
   "outputs": [],
   "source": [
    "#sample_submission.iloc[1,1:121] = np.asarray(y[0,0:120])"
   ]
  },
  {
   "cell_type": "code",
   "execution_count": null,
   "metadata": {
    "collapsed": true
   },
   "outputs": [],
   "source": [
    "#sample_submission.head()"
   ]
  },
  {
   "cell_type": "code",
   "execution_count": null,
   "metadata": {
    "collapsed": true
   },
   "outputs": [],
   "source": [
    "sample_submission.to_csv('submission4.csv',index=False)"
   ]
  },
  {
   "cell_type": "code",
   "execution_count": null,
   "metadata": {
    "collapsed": true
   },
   "outputs": [],
   "source": []
  }
 ],
 "metadata": {
  "kernelspec": {
   "display_name": "Python 3",
   "language": "python",
   "name": "python3"
  },
  "language_info": {
   "codemirror_mode": {
    "name": "ipython",
    "version": 3
   },
   "file_extension": ".py",
   "mimetype": "text/x-python",
   "name": "python",
   "nbconvert_exporter": "python",
   "pygments_lexer": "ipython3",
   "version": "3.5.2"
  }
 },
 "nbformat": 4,
 "nbformat_minor": 2
}
