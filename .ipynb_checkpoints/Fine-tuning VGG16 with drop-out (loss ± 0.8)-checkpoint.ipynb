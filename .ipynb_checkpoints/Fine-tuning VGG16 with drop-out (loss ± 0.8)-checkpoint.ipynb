{
 "cells": [
  {
   "cell_type": "code",
   "execution_count": 1,
   "metadata": {
    "collapsed": true
   },
   "outputs": [],
   "source": [
    "%matplotlib inline\n",
    "import matplotlib.pyplot as plt\n",
    "import matplotlib as mpl"
   ]
  },
  {
   "cell_type": "code",
   "execution_count": 2,
   "metadata": {},
   "outputs": [
    {
     "name": "stderr",
     "output_type": "stream",
     "text": [
      "c:\\users\\popeye\\appdata\\local\\programs\\python\\python35\\lib\\site-packages\\h5py\\__init__.py:36: FutureWarning: Conversion of the second argument of issubdtype from `float` to `np.floating` is deprecated. In future, it will be treated as `np.float64 == np.dtype(float).type`.\n",
      "  from ._conv import register_converters as _register_converters\n",
      "Using TensorFlow backend.\n"
     ]
    }
   ],
   "source": [
    "# Load keras\n",
    "import keras\n",
    "from keras.layers import Input, LSTM, Dense, Flatten, MaxPooling2D, Dropout, Activation, Conv2D\n",
    "from keras.layers.normalization import BatchNormalization\n",
    "from keras.models import Model\n",
    "from keras.applications.vgg16 import preprocess_input, decode_predictions\n",
    "from keras.models import model_from_json\n",
    "from keras.preprocessing.image import ImageDataGenerator"
   ]
  },
  {
   "cell_type": "code",
   "execution_count": 3,
   "metadata": {
    "collapsed": true
   },
   "outputs": [],
   "source": [
    "import os, fnmatch\n",
    "from skimage import io, transform\n",
    "import numpy as np\n",
    "from tqdm import tqdm\n",
    "import pandas as pd\n",
    "import shutil"
   ]
  },
  {
   "cell_type": "code",
   "execution_count": 5,
   "metadata": {},
   "outputs": [
    {
     "ename": "SyntaxError",
     "evalue": "keyword argument repeated (<ipython-input-5-1998d8b34d82>, line 2)",
     "output_type": "error",
     "traceback": [
      "\u001b[1;36m  File \u001b[1;32m\"<ipython-input-5-1998d8b34d82>\"\u001b[1;36m, line \u001b[1;32m2\u001b[0m\n\u001b[1;33m    weights='imagenet',\u001b[0m\n\u001b[1;37m    ^\u001b[0m\n\u001b[1;31mSyntaxError\u001b[0m\u001b[1;31m:\u001b[0m keyword argument repeated\n"
     ]
    }
   ],
   "source": [
    "vgg16 = keras.applications.vgg16.VGG16(include_top=False, #weights=None,\n",
    "                                       weights='imagenet',\n",
    "                                       input_tensor=None, input_shape=(224,224,3))\n",
    "vgg16_full = keras.applications.vgg16.VGG16(include_top=True, #weights=None, \n",
    "                                            weights='imagenet',\n",
    "                                            input_tensor=None, input_shape=(224,224,3))"
   ]
  },
  {
   "cell_type": "code",
   "execution_count": null,
   "metadata": {},
   "outputs": [],
   "source": [
    "fc1_layer = vgg16_full.get_layer(\"fc1\")\n",
    "fc1_layer\n",
    "fc2_layer = vgg16_full.get_layer(\"fc2\")\n",
    "fc2_layer\n"
   ]
  },
  {
   "cell_type": "code",
   "execution_count": null,
   "metadata": {},
   "outputs": [],
   "source": [
    "labels_csv = pd.read_csv(\"labels.csv\")"
   ]
  },
  {
   "cell_type": "code",
   "execution_count": null,
   "metadata": {
    "collapsed": true
   },
   "outputs": [],
   "source": [
    "breeds = pd.Series(labels_csv['breed'])\n",
    "filenames = pd.Series(labels_csv['id'])"
   ]
  },
  {
   "cell_type": "code",
   "execution_count": null,
   "metadata": {
    "collapsed": true
   },
   "outputs": [],
   "source": [
    "unique_breeds = np.unique(breeds)\n",
    "labels = []\n",
    "for breed in breeds:\n",
    "    i = np.where(unique_breeds == breed)[0][0]\n",
    "    labels.append(i)\n",
    "\n",
    "n_breeds = np.max(labels) + 1\n",
    "labels = np.eye(n_breeds)[labels]"
   ]
  },
  {
   "cell_type": "code",
   "execution_count": null,
   "metadata": {},
   "outputs": [],
   "source": [
    "filenames_train = []\n",
    "filenames_validate = []\n",
    "\n",
    "# move to validate folder\n",
    "for i in tqdm(range(len(filenames))):\n",
    "    label = unique_breeds[np.where(labels[i]==1.)][0]\n",
    "    filename = '{}.jpg'.format(filenames[i])\n",
    "\n",
    "    if i < 8000:\n",
    "        new_dir = './sorted/train/{}/'.format(label)\n",
    "        filenames_train.append(new_dir + filename)\n",
    "    else:\n",
    "        new_dir = './sorted/validate/{}/'.format(label)\n",
    "        filenames_validate.append(new_dir + filename)\n",
    "        \n",
    "    if not os.path.exists(new_dir):\n",
    "        os.makedirs(new_dir)\n",
    "    \n",
    "    #shutil.move(\"train/{}.jpg\".format(filenames[i]), new_dir + filename)"
   ]
  },
  {
   "cell_type": "code",
   "execution_count": null,
   "metadata": {
    "collapsed": true
   },
   "outputs": [],
   "source": [
    "indices_train = np.argsort(filenames_train)\n",
    "indices_val = np.argsort(filenames_validate)\n",
    "\n",
    "sorted_filenames_train = np.array(filenames_train)[indices_train]\n",
    "sorted_filenames_validate = np.array(filenames_validate)[indices_val]\n",
    "sorted_labels_train = np.array(labels)[0:8000][indices_train]\n",
    "sorted_labels_validate = np.array(labels)[8000:][indices_val]"
   ]
  },
  {
   "cell_type": "code",
   "execution_count": null,
   "metadata": {},
   "outputs": [],
   "source": [
    "print(sorted_filenames_train.shape)\n",
    "print(sorted_labels_train.shape)\n",
    "\n",
    "print(sorted_filenames_validate.shape)\n",
    "print(sorted_labels_validate.shape)"
   ]
  },
  {
   "cell_type": "code",
   "execution_count": null,
   "metadata": {},
   "outputs": [],
   "source": [
    "print(unique_breeds[np.where(sorted_labels_train[50] == 1.)])\n",
    "# should be equal to:\n",
    "print(sorted_filenames_train[50])"
   ]
  },
  {
   "cell_type": "code",
   "execution_count": null,
   "metadata": {
    "collapsed": true
   },
   "outputs": [],
   "source": [
    "def preprocess(img):\n",
    "    input_img = preprocess_input(np.expand_dims(img, axis=0))\n",
    "    return input_img[0]\n",
    "\n",
    "train_datagen = ImageDataGenerator(preprocessing_function=preprocess)\n",
    "val_datagen = ImageDataGenerator(preprocessing_function=preprocess)"
   ]
  },
  {
   "cell_type": "code",
   "execution_count": null,
   "metadata": {},
   "outputs": [],
   "source": [
    "# subset of data\n",
    "batch_size = 64\n",
    "\n",
    "train_gen = train_datagen.flow_from_directory(\"sorted/train\", \n",
    "                                              batch_size=batch_size, \n",
    "                                              target_size=(224, 224), \n",
    "                                              shuffle=False)\n",
    "\n",
    "val_gen = val_datagen.flow_from_directory(\"sorted/validate\", \n",
    "                                          batch_size=batch_size, \n",
    "                                          target_size=(224, 224), \n",
    "                                          shuffle=False)"
   ]
  },
  {
   "cell_type": "code",
   "execution_count": null,
   "metadata": {
    "collapsed": true
   },
   "outputs": [],
   "source": [
    "x_train = vgg16.predict_generator(train_gen, steps=8000 // batch_size, verbose=2)"
   ]
  },
  {
   "cell_type": "code",
   "execution_count": null,
   "metadata": {
    "collapsed": true
   },
   "outputs": [],
   "source": [
    "x_val = vgg16.predict_generator(val_gen, steps=2222 // batch_size, verbose=2)"
   ]
  },
  {
   "cell_type": "code",
   "execution_count": null,
   "metadata": {
    "collapsed": true
   },
   "outputs": [],
   "source": [
    "y_train = sorted_labels_train[0:len(x_train)]\n",
    "y_val = sorted_labels_validate[0:len(x_val)]"
   ]
  },
  {
   "cell_type": "code",
   "execution_count": null,
   "metadata": {},
   "outputs": [],
   "source": [
    "inputs = Input(shape=(7,7,512))\n",
    "\n",
    "# turn off training vgg16\n",
    "for layer in vgg16.layers:\n",
    "    layer.trainable = False\n",
    "\n",
    "fc1_layer.trainable = True\n",
    "\n",
    "# x = vgg16(inputs)\n",
    "x = Flatten()(inputs)\n",
    "x = fc1_layer(x)\n",
    "x = BatchNormalization()(x)\n",
    "x = Dropout(0.8)(x)\n",
    "x = Dense(512, activation='relu')(x)\n",
    "x = BatchNormalization()(x)\n",
    "x = Dropout(0.8)(x)\n",
    "x = Dense(120, activation='softmax')(x)\n",
    "\n",
    "model = Model(inputs=inputs, outputs=x)\n",
    "model.summary()"
   ]
  },
  {
   "cell_type": "code",
   "execution_count": null,
   "metadata": {
    "collapsed": true
   },
   "outputs": [],
   "source": [
    "\n",
    "model.compile(optimizer=keras.optimizers.Adam(), \n",
    "              loss=keras.losses.categorical_crossentropy, \n",
    "              metrics=['accuracy'])"
   ]
  },
  {
   "cell_type": "code",
   "execution_count": null,
   "metadata": {
    "scrolled": true
   },
   "outputs": [],
   "source": [
    "history = model.fit(x_train, y_train, batch_size=1024, epochs=30, verbose=1, \n",
    "                    validation_data=(x_val, y_val))\n",
    "\n",
    "# We should probably use early stopping here"
   ]
  },
  {
   "cell_type": "code",
   "execution_count": null,
   "metadata": {},
   "outputs": [],
   "source": [
    "# summarize history for accuracy\n",
    "plt.plot(history.history['acc'])\n",
    "plt.plot(history.history['val_acc'])\n",
    "plt.title('model accuracy')\n",
    "plt.ylabel('accuracy')\n",
    "plt.xlabel('epoch')\n",
    "plt.legend(['train', 'test'], loc='upper left')\n",
    "plt.show()\n",
    "# summarize history for loss\n",
    "plt.plot(history.history['loss'])\n",
    "plt.plot(history.history['val_loss'])\n",
    "plt.title('model loss')\n",
    "plt.ylabel('loss')\n",
    "plt.xlabel('epoch')\n",
    "plt.legend(['train', 'test'], loc='upper left')\n",
    "plt.show()"
   ]
  },
  {
   "cell_type": "code",
   "execution_count": null,
   "metadata": {
    "collapsed": true
   },
   "outputs": [],
   "source": []
  },
  {
   "cell_type": "code",
   "execution_count": null,
   "metadata": {
    "collapsed": true
   },
   "outputs": [],
   "source": []
  }
 ],
 "metadata": {
  "kernelspec": {
   "display_name": "Python 3",
   "language": "python",
   "name": "python3"
  },
  "language_info": {
   "codemirror_mode": {
    "name": "ipython",
    "version": 3
   },
   "file_extension": ".py",
   "mimetype": "text/x-python",
   "name": "python",
   "nbconvert_exporter": "python",
   "pygments_lexer": "ipython3",
   "version": "3.5.2"
  }
 },
 "nbformat": 4,
 "nbformat_minor": 2
}
